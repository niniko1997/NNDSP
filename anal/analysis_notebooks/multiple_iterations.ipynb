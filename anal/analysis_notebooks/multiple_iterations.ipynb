{
 "cells": [
  {
   "cell_type": "code",
   "execution_count": 7,
   "metadata": {},
   "outputs": [
    {
     "name": "stderr",
     "output_type": "stream",
     "text": [
      "/data/migineishvilin2/python/envs/100runs/lib/python3.6/site-packages/sklearn/cross_validation.py:44: DeprecationWarning: This module was deprecated in version 0.18 in favor of the model_selection module into which all the refactored classes and functions are moved. Also note that the interface of the new CV iterators are different from that of this module. This module will be removed in 0.20.\n",
      "  \"This module will be removed in 0.20.\", DeprecationWarning)\n",
      "/data/migineishvilin2/python/envs/100runs/lib/python3.6/site-packages/sklearn/learning_curve.py:23: DeprecationWarning: This module was deprecated in version 0.18 in favor of the model_selection module into which all the functions are moved. This module will be removed in 0.20\n",
      "  DeprecationWarning)\n"
     ]
    }
   ],
   "source": [
    "%run /data/NNDSP/anal/analysis_notebooks/util.ipynb"
   ]
  },
  {
   "cell_type": "code",
   "execution_count": 59,
   "metadata": {
    "collapsed": true
   },
   "outputs": [],
   "source": [
    "%run /data/NNDSP/anal/analysis_notebooks/stat_tests.ipynb"
   ]
  },
  {
   "cell_type": "code",
   "execution_count": 3,
   "metadata": {
    "collapsed": true
   },
   "outputs": [],
   "source": [
    "from pathlib import Path\n",
    "import pandas as pd\n",
    "import numpy as np\n",
    "import subprocess\n",
    "from datetime import date\n",
    "import re"
   ]
  },
  {
   "cell_type": "code",
   "execution_count": 4,
   "metadata": {},
   "outputs": [
    {
     "name": "stdout",
     "output_type": "stream",
     "text": [
      "/data/NNDSP/anal/analysis_notebooks/phenotype_files/NNDSP_famid.csv\n"
     ]
    }
   ],
   "source": [
    "analysis_version = \"2018_07_12\"\n",
    "project_dir_absolute = Path('/data/NNDSP')\n",
    "\n",
    "# Project Directory\n",
    "project_dir = Path(project_dir_absolute) # needs to be pathlib.Path object\n",
    "\n",
    "# Bids Directory\n",
    "bids_fs = project_dir.joinpath('derivatives/fs5.3_subj') # freesurfer bids\n",
    "bids_bar = project_dir.joinpath('derivatives/bar_subj') # baracus bids\n",
    "\n",
    "# Brain Age File\n",
    "brain_age_file = project_dir.joinpath('anal/analysis_notebooks/phenotype_files/NNDSP_famid.csv')\n",
    "\n",
    "print(brain_age_file.absolute())"
   ]
  },
  {
   "cell_type": "code",
   "execution_count": 5,
   "metadata": {
    "collapsed": true
   },
   "outputs": [],
   "source": [
    "import os\n",
    "from glob import glob\n",
    "\n",
    "# get the subjects in the freesurfer directory\n",
    "subj_dirs = [os.path.basename(s) for s in sorted(glob(os.path.join(bids_fs, \"sub-*\")))]"
   ]
  },
  {
   "cell_type": "markdown",
   "metadata": {},
   "source": [
    "## NNDSP Data"
   ]
  },
  {
   "cell_type": "markdown",
   "metadata": {},
   "source": [
    "### Complex"
   ]
  },
  {
   "cell_type": "code",
   "execution_count": 8,
   "metadata": {
    "collapsed": true
   },
   "outputs": [],
   "source": [
    "subjects_to_analyze = subject_to_anal(subj_dirs, bids_bar)\n",
    "features = extract_features(subjects_to_analyze, bids_bar)"
   ]
  },
  {
   "cell_type": "code",
   "execution_count": 10,
   "metadata": {
    "collapsed": true
   },
   "outputs": [],
   "source": [
    "df_target = pd.read_csv(brain_age_file, sep=',') # open file with ages\n",
    "del df_target['nuclear_fam_id']\n",
    "del df_target['Sex']\n",
    "del df_target['MRN']"
   ]
  },
  {
   "cell_type": "code",
   "execution_count": 11,
   "metadata": {
    "collapsed": true
   },
   "outputs": [],
   "source": [
    "df_data_ct = get_source_data('thickness', features, df_target) # extract thickness info from features\n",
    "df_data_ct = df_data_ct.sort_values(by='MASKID')"
   ]
  },
  {
   "cell_type": "code",
   "execution_count": 12,
   "metadata": {
    "collapsed": true
   },
   "outputs": [],
   "source": [
    "df_data_sv = get_source_data('aseg', features, df_target)\n",
    "df_data_sv = df_data_sv.sort_values(by='MASKID')"
   ]
  },
  {
   "cell_type": "code",
   "execution_count": 13,
   "metadata": {
    "collapsed": true
   },
   "outputs": [],
   "source": [
    "df_data_ca = get_source_data('area', features, df_target)\n",
    "df_data_ca = df_data_ca.sort_values(by='MASKID')"
   ]
  },
  {
   "cell_type": "markdown",
   "metadata": {},
   "source": [
    "### Simple"
   ]
  },
  {
   "cell_type": "code",
   "execution_count": 20,
   "metadata": {
    "collapsed": true
   },
   "outputs": [],
   "source": [
    "df_atf = pd.DataFrame([])\n",
    "df_atf = df_atf.assign(MASKID = [int(x[4:]) for x in subjects_to_analyze])\n",
    "df_atf = df_atf.merge(df_target, on = 'MASKID')\n",
    "\n",
    "white_matter, grey_matter, csf, intra_cran_vol = get_anat_features(subjects_to_analyze, bids_bar)\n",
    "\n",
    "# calculate white matter fraction\n",
    "white_matter = calc_fraction(white_matter, intra_cran_vol)\n",
    "# calculate grey matter fraction\n",
    "grey_matter = calc_fraction(grey_matter, intra_cran_vol)\n",
    "# calculate csf fraction\n",
    "csf = calc_fraction(csf, intra_cran_vol)\n",
    "\n",
    "df_atf = df_atf.assign(Intra_Cran_Vol = intra_cran_vol)\n",
    "df_atf = df_atf.assign(WM_Frac = white_matter)\n",
    "df_atf = df_atf.assign(GM_Frac = grey_matter)\n",
    "df_atf = df_atf.assign(CSF_Frac = csf)\n",
    "df_atf = df_atf.sort_values(by='MASKID')"
   ]
  },
  {
   "cell_type": "markdown",
   "metadata": {},
   "source": [
    "## HCP Data"
   ]
  },
  {
   "cell_type": "code",
   "execution_count": 14,
   "metadata": {},
   "outputs": [
    {
     "name": "stdout",
     "output_type": "stream",
     "text": [
      "/data/NNDSP/derivatives/fs_hcp_subj\n"
     ]
    }
   ],
   "source": [
    "# HCP Directory\n",
    "hcp_dir = Path('/data/HCP/HCP_900/s3/hcp')\n",
    "\n",
    "# HCP Outfir of Prepared Freesurfer Files\n",
    "hcp_bar_dir = project_dir.joinpath('derivatives/bar_hcp_subj/')\n",
    "\n",
    "# HCP Freesurfer Data\n",
    "hcp_fs_dir = project_dir.joinpath('derivatives/fs_hcp_subj/')\n",
    "\n",
    "print(hcp_fs_dir.absolute())"
   ]
  },
  {
   "cell_type": "code",
   "execution_count": 15,
   "metadata": {
    "collapsed": true
   },
   "outputs": [],
   "source": [
    "import os\n",
    "from glob import glob\n",
    "\n",
    "# get the subjects in the freesurfer directory\n",
    "hcp_subj_dirs = [os.path.basename(s) for s in sorted(glob(os.path.join(hcp_bar_dir, \"sub-*\")))]"
   ]
  },
  {
   "cell_type": "code",
   "execution_count": 16,
   "metadata": {
    "collapsed": true
   },
   "outputs": [],
   "source": [
    "import matplotlib.pyplot as plt\n",
    "df_hcp_age = pd.read_csv(project_dir.joinpath('nino/HCP_ages.csv'))\n",
    "df_hcp_age = pd.DataFrame(df_hcp_age[['Subject','Age_in_Yrs']])"
   ]
  },
  {
   "cell_type": "markdown",
   "metadata": {},
   "source": [
    "### Complex"
   ]
  },
  {
   "cell_type": "code",
   "execution_count": 17,
   "metadata": {
    "collapsed": true
   },
   "outputs": [],
   "source": [
    "hcp_subjects_to_analyze = subject_to_anal(hcp_subj_dirs, hcp_bar_dir)"
   ]
  },
  {
   "cell_type": "code",
   "execution_count": 18,
   "metadata": {
    "collapsed": true
   },
   "outputs": [],
   "source": [
    "hcp_features = extract_features(hcp_subjects_to_analyze, hcp_bar_dir)"
   ]
  },
  {
   "cell_type": "code",
   "execution_count": 21,
   "metadata": {
    "collapsed": true
   },
   "outputs": [],
   "source": [
    "df_data_hcp_ct = get_source_data('thickness', hcp_features, df_hcp_age, on='Subject')"
   ]
  },
  {
   "cell_type": "code",
   "execution_count": 22,
   "metadata": {
    "collapsed": true
   },
   "outputs": [],
   "source": [
    "df_data_hcp_sv = get_source_data('aseg', hcp_features, df_hcp_age, on='Subject')"
   ]
  },
  {
   "cell_type": "code",
   "execution_count": 23,
   "metadata": {
    "collapsed": true
   },
   "outputs": [],
   "source": [
    "df_data_hcp_ca = get_source_data('area', hcp_features, df_hcp_age, on='Subject')"
   ]
  },
  {
   "cell_type": "markdown",
   "metadata": {},
   "source": [
    "### Simple"
   ]
  },
  {
   "cell_type": "code",
   "execution_count": 24,
   "metadata": {
    "collapsed": true
   },
   "outputs": [],
   "source": [
    "# get age and subject number\n",
    "df_hcp_atf = pd.DataFrame([])\n",
    "df_hcp_atf = df_hcp_atf.assign(Subject = [int(x[4:]) for x in hcp_subjects_to_analyze])\n",
    "df_hcp_atf = df_hcp_atf.merge(df_hcp_age, on = 'Subject')\n",
    "\n",
    "white_matter_hcp, grey_matter_hcp, csf_hcp, intra_cran_vol_hcp = get_anat_features(hcp_subjects_to_analyze, hcp_bar_dir)\n",
    "\n",
    "# calculate white matter fraction\n",
    "white_matter_hcp = calc_fraction(white_matter_hcp, intra_cran_vol_hcp)\n",
    "\n",
    "# calculate grey matter fraction\n",
    "grey_matter_hcp = calc_fraction(grey_matter_hcp, intra_cran_vol_hcp)\n",
    "\n",
    "# calculate csf fraction\n",
    "csf_hcp = calc_fraction(csf_hcp, intra_cran_vol_hcp)\n",
    "\n",
    "df_hcp_atf = df_hcp_atf.assign(Intra_Cran_Vol = intra_cran_vol_hcp)\n",
    "df_hcp_atf = df_hcp_atf.assign(WM_Frac = white_matter_hcp)\n",
    "df_hcp_atf = df_hcp_atf.assign(GM_Frac = grey_matter_hcp)\n",
    "df_hcp_atf = df_hcp_atf.assign(CSF_Frac = csf_hcp)"
   ]
  },
  {
   "cell_type": "markdown",
   "metadata": {},
   "source": [
    "## NKI Data"
   ]
  },
  {
   "cell_type": "code",
   "execution_count": 25,
   "metadata": {
    "collapsed": true
   },
   "outputs": [],
   "source": [
    "# NKI Directory\n",
    "nki_dir = Path('/data/NNDSP/anal/NKI')\n",
    "\n",
    "# NKI Behavioral Data File\n",
    "nki_bh_file = project_dir.joinpath('anal/analysis_notebooks/phenotype_files/participants.tsv')\n",
    "\n",
    "# NKI baracus\n",
    "nki_bar_dir = project_dir.joinpath('derivatives/bar_nki_subj/')\n",
    "\n",
    "# NKI Freesurfer Data\n",
    "nki_fs_dir = project_dir.joinpath('derivatives/fs_nki_subj/')"
   ]
  },
  {
   "cell_type": "code",
   "execution_count": 26,
   "metadata": {
    "collapsed": true
   },
   "outputs": [],
   "source": [
    "df_nki_ages = pd.read_csv(project_dir.joinpath('anal/analysis_notebooks/phenotype_files/participants.tsv'), sep='\\t')"
   ]
  },
  {
   "cell_type": "markdown",
   "metadata": {},
   "source": [
    "### Simple"
   ]
  },
  {
   "cell_type": "code",
   "execution_count": 27,
   "metadata": {
    "collapsed": true
   },
   "outputs": [],
   "source": [
    "import os\n",
    "from glob import glob\n",
    "\n",
    "# get the subjects in the freesurfer directory\n",
    "nki_subj_dirs = [os.path.basename(s) for s in sorted(glob(os.path.join(nki_bar_dir, \"sub-*\")))]\n",
    "\n",
    "nki_subjects_to_analyze = subject_to_anal(nki_subj_dirs, nki_bar_dir)\n",
    "\n",
    "# get age and subject number\n",
    "df_nki_atf = pd.DataFrame([])\n",
    "df_nki_atf = df_nki_atf.assign(participant_name = [x for x in nki_subjects_to_analyze])\n",
    "df_nki_atf = df_nki_atf.assign(participant_id = [x[4:13] for x in df_nki_atf.participant_name.values])\n",
    "df_nki_atf = df_nki_atf.drop_duplicates(subset='participant_id', keep='first')\n",
    "df_nki_atf = df_nki_atf.merge(df_nki_ages, on = 'participant_id')\n",
    "\n",
    "white_matter_nki, grey_matter_nki, csf_nki, intra_cran_vol_nki = get_anat_features(df_nki_atf.participant_name.values, nki_bar_dir)\n",
    "\n",
    "# calculate white matter fraction\n",
    "white_matter_nki = calc_fraction(white_matter_nki, intra_cran_vol_nki)\n",
    "\n",
    "# calculate grey matter fraction\n",
    "grey_matter_nki = calc_fraction(grey_matter_nki, intra_cran_vol_nki)\n",
    "\n",
    "# calculate csf fraction\n",
    "csf_nki = calc_fraction(csf_nki, intra_cran_vol_nki)\n",
    "\n",
    "df_nki_atf = df_nki_atf.assign(Intra_Cran_Vol = intra_cran_vol_nki)\n",
    "df_nki_atf = df_nki_atf.assign(WM_Frac = white_matter_nki)\n",
    "df_nki_atf = df_nki_atf.assign(GM_Frac = grey_matter_nki)\n",
    "df_nki_atf = df_nki_atf.assign(CSF_Frac = csf_nki)"
   ]
  },
  {
   "cell_type": "markdown",
   "metadata": {},
   "source": [
    "### Complex"
   ]
  },
  {
   "cell_type": "code",
   "execution_count": 28,
   "metadata": {
    "collapsed": true
   },
   "outputs": [],
   "source": [
    "nki_features = extract_features(df_nki_atf.participant_name.values, nki_bar_dir)"
   ]
  },
  {
   "cell_type": "code",
   "execution_count": 29,
   "metadata": {
    "collapsed": true
   },
   "outputs": [],
   "source": [
    "df_data_nki_ct = get_source_data('thickness', nki_features, df_nki_ages, on='participant_id', is_string=True)"
   ]
  },
  {
   "cell_type": "code",
   "execution_count": 30,
   "metadata": {
    "collapsed": true
   },
   "outputs": [],
   "source": [
    "df_data_nki_sv = get_source_data('aseg', nki_features, df_nki_ages, on='participant_id', is_string=True)"
   ]
  },
  {
   "cell_type": "code",
   "execution_count": 31,
   "metadata": {
    "collapsed": true
   },
   "outputs": [],
   "source": [
    "df_data_nki_ca = get_source_data('area', nki_features, df_nki_ages, on='participant_id', is_string=True)"
   ]
  },
  {
   "cell_type": "markdown",
   "metadata": {},
   "source": [
    "## Run Iterations"
   ]
  },
  {
   "cell_type": "code",
   "execution_count": null,
   "metadata": {},
   "outputs": [
    {
     "name": "stdout",
     "output_type": "stream",
     "text": [
      "Fitting stacking model\n",
      "best max_depth: 4\n",
      "0\n",
      "Fitting stacking model\n"
     ]
    }
   ],
   "source": [
    "huge_it = mult_iterations(15000, \n",
    "                          df_data_ct, df_data_sv, df_data_ca, \n",
    "                          df_data_hcp_ct, df_data_hcp_sv, df_data_hcp_ca, \n",
    "                          df_data_nki_ct, df_data_nki_sv, df_data_nki_ca,\n",
    "                          df_atf, df_hcp_atf, df_nki_atf)"
   ]
  },
  {
   "cell_type": "code",
   "execution_count": 68,
   "metadata": {},
   "outputs": [
    {
     "name": "stderr",
     "output_type": "stream",
     "text": [
      "/data/migineishvilin2/python/envs/100runs/lib/python3.6/site-packages/ipykernel_launcher.py:1: UserWarning: Boolean Series key will be reindexed to match DataFrame index.\n",
      "  \"\"\"Entry point for launching an IPython kernel.\n"
     ]
    },
    {
     "data": {
      "text/html": [
       "<div>\n",
       "<table border=\"1\" class=\"dataframe\">\n",
       "  <thead>\n",
       "    <tr style=\"text-align: right;\">\n",
       "      <th></th>\n",
       "      <th>kpval_hcp</th>\n",
       "      <th>kpval_nki</th>\n",
       "      <th>kpval_ts</th>\n",
       "      <th>kstat_hcp</th>\n",
       "      <th>kstat_nki</th>\n",
       "      <th>kstat_ts</th>\n",
       "      <th>wpval_hcp</th>\n",
       "      <th>wpval_nki</th>\n",
       "      <th>wpval_ts</th>\n",
       "      <th>wstat_hcp</th>\n",
       "      <th>wstat_nki</th>\n",
       "      <th>wstat_ts</th>\n",
       "    </tr>\n",
       "  </thead>\n",
       "  <tbody>\n",
       "    <tr>\n",
       "      <th>5665</th>\n",
       "      <td>3.153122e-105</td>\n",
       "      <td>0.043269</td>\n",
       "      <td>0.020891</td>\n",
       "      <td>0.516201</td>\n",
       "      <td>0.065315</td>\n",
       "      <td>0.143519</td>\n",
       "      <td>3.267279e-119</td>\n",
       "      <td>0.070520</td>\n",
       "      <td>0.358155</td>\n",
       "      <td>20898.0</td>\n",
       "      <td>183531.0</td>\n",
       "      <td>10873.0</td>\n",
       "    </tr>\n",
       "    <tr>\n",
       "      <th>8253</th>\n",
       "      <td>2.135463e-85</td>\n",
       "      <td>0.025040</td>\n",
       "      <td>0.036926</td>\n",
       "      <td>0.464804</td>\n",
       "      <td>0.069820</td>\n",
       "      <td>0.134259</td>\n",
       "      <td>8.509365e-104</td>\n",
       "      <td>0.129629</td>\n",
       "      <td>0.042331</td>\n",
       "      <td>33119.0</td>\n",
       "      <td>185771.0</td>\n",
       "      <td>9851.0</td>\n",
       "    </tr>\n",
       "  </tbody>\n",
       "</table>\n",
       "</div>"
      ],
      "text/plain": [
       "          kpval_hcp  kpval_nki  kpval_ts  kstat_hcp  kstat_nki  kstat_ts  \\\n",
       "5665  3.153122e-105   0.043269  0.020891   0.516201   0.065315  0.143519   \n",
       "8253   2.135463e-85   0.025040  0.036926   0.464804   0.069820  0.134259   \n",
       "\n",
       "          wpval_hcp  wpval_nki  wpval_ts  wstat_hcp  wstat_nki  wstat_ts  \n",
       "5665  3.267279e-119   0.070520  0.358155    20898.0   183531.0   10873.0  \n",
       "8253  8.509365e-104   0.129629  0.042331    33119.0   185771.0    9851.0  "
      ]
     },
     "execution_count": 68,
     "metadata": {},
     "output_type": "execute_result"
    }
   ],
   "source": [
    "huge_it[huge_it.kpval_nki > 0.0166][huge_it.wpval_nki > 0.0166][huge_it.wpval_ts > 0.0166][huge_it.kpval_ts > 0.0166]"
   ]
  },
  {
   "cell_type": "code",
   "execution_count": 69,
   "metadata": {
    "collapsed": true
   },
   "outputs": [],
   "source": [
    "huge_it.to_csv('/data/NNDSP/anal/analysis_notebooks/other_files/mult_iterations.csv')"
   ]
  },
  {
   "cell_type": "code",
   "execution_count": null,
   "metadata": {
    "collapsed": true
   },
   "outputs": [],
   "source": []
  }
 ],
 "metadata": {
  "kernelspec": {
   "display_name": "Python 3",
   "language": "python",
   "name": "python3"
  },
  "language_info": {
   "codemirror_mode": {
    "name": "ipython",
    "version": 3
   },
   "file_extension": ".py",
   "mimetype": "text/x-python",
   "name": "python",
   "nbconvert_exporter": "python",
   "pygments_lexer": "ipython3",
   "version": "3.6.1"
  },
  "toc": {
   "colors": {
    "hover_highlight": "#DAA520",
    "running_highlight": "#FF0000",
    "selected_highlight": "#FFD700"
   },
   "moveMenuLeft": true,
   "nav_menu": {
    "height": "192px",
    "width": "252px"
   },
   "navigate_menu": true,
   "number_sections": true,
   "sideBar": true,
   "threshold": 4,
   "toc_cell": false,
   "toc_section_display": "block",
   "toc_window_display": true,
   "widenNotebook": false
  }
 },
 "nbformat": 4,
 "nbformat_minor": 2
}
