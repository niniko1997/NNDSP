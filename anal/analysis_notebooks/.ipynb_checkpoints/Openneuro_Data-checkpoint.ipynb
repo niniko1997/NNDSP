{
 "cells": [
  {
   "cell_type": "markdown",
   "metadata": {},
   "source": [
    "# Open Neuro Data"
   ]
  },
  {
   "cell_type": "markdown",
   "metadata": {},
   "source": [
    "## Set-Up"
   ]
  },
  {
   "cell_type": "code",
   "execution_count": 178,
   "metadata": {},
   "outputs": [
    {
     "name": "stdout",
     "output_type": "stream",
     "text": [
      "True\n"
     ]
    }
   ],
   "source": [
    "# Setting up Directories\n",
    "import os \n",
    "\n",
    "# project directory\n",
    "project_dir = os.path.abspath('/data/NNDSP')\n",
    "\n",
    "# path for csv files\n",
    "csv_file = os.path.join(project_dir, 'anal/analysis_notebooks/BrainBox.csv')\n",
    "print(os.path.exists(csv_file))"
   ]
  },
  {
   "cell_type": "code",
   "execution_count": 196,
   "metadata": {},
   "outputs": [],
   "source": [
    "import pandas as pd\n",
    "import csv\n",
    "\n",
    "# df the csv file\n",
    "csv = pd.read_csv(csv_file, sep=',', quoting=csv.QUOTE_NONE, names = ['T1url', 'id'])"
   ]
  },
  {
   "cell_type": "code",
   "execution_count": 197,
   "metadata": {},
   "outputs": [
    {
     "data": {
      "text/html": [
       "<div>\n",
       "<table border=\"1\" class=\"dataframe\">\n",
       "  <thead>\n",
       "    <tr style=\"text-align: right;\">\n",
       "      <th></th>\n",
       "      <th>T1url</th>\n",
       "      <th>id</th>\n",
       "    </tr>\n",
       "  </thead>\n",
       "  <tbody>\n",
       "    <tr>\n",
       "      <th>0</th>\n",
       "      <td>T1url</td>\n",
       "      <td>id</td>\n",
       "    </tr>\n",
       "    <tr>\n",
       "      <th>1</th>\n",
       "      <td>https://s3.amazonaws.com/fcp-indi/data/Project...</td>\n",
       "      <td>50030</td>\n",
       "    </tr>\n",
       "    <tr>\n",
       "      <th>2</th>\n",
       "      <td>https://s3.amazonaws.com/fcp-indi/data/Project...</td>\n",
       "      <td>50031</td>\n",
       "    </tr>\n",
       "    <tr>\n",
       "      <th>3</th>\n",
       "      <td>https://s3.amazonaws.com/fcp-indi/data/Project...</td>\n",
       "      <td>50032</td>\n",
       "    </tr>\n",
       "    <tr>\n",
       "      <th>4</th>\n",
       "      <td>https://s3.amazonaws.com/fcp-indi/data/Project...</td>\n",
       "      <td>50033</td>\n",
       "    </tr>\n",
       "  </tbody>\n",
       "</table>\n",
       "</div>"
      ],
      "text/plain": [
       "                                               T1url     id\n",
       "0                                              T1url     id\n",
       "1  https://s3.amazonaws.com/fcp-indi/data/Project...  50030\n",
       "2  https://s3.amazonaws.com/fcp-indi/data/Project...  50031\n",
       "3  https://s3.amazonaws.com/fcp-indi/data/Project...  50032\n",
       "4  https://s3.amazonaws.com/fcp-indi/data/Project...  50033"
      ]
     },
     "execution_count": 197,
     "metadata": {},
     "output_type": "execute_result"
    }
   ],
   "source": [
    "# clean csv\n",
    "for i in range(csv.shape[0]):\n",
    "    csv.set_value(i, 'T1url', (csv.T1url.values[i])[1:])\n",
    "    csv.set_value(i, 'id', (csv.id.values[i])[:len(csv.id.values[i])-1])\n",
    "csv.head()"
   ]
  },
  {
   "cell_type": "code",
   "execution_count": 198,
   "metadata": {
    "collapsed": true
   },
   "outputs": [],
   "source": [
    "# patterns for T1url paths\n",
    "patterns = ['data/Projects/{study}/RawData/{site}/{subj_id}/session_{session_id}/anat_{anat_id}/mprage.nii.gz',\n",
    "            'data/Projects/{study}/Outputs/freesurfer/5.1/{site}_{site_suffix}_{subj_id}/mri/T1.mgz',\n",
    "            'data/Projects/{study}/Outputs/freesurfer/5.1/{site}_{subj_id}/mri/T1.mgz',\n",
    "            'data/Projects/{study}/surfaces/freesurfer/5.3/{subj_id}/mri/T1.mgz',\n",
    "            'data/Projects/{study}/Outputs/IBA_TRT/freesurfer_gpu/{subj_id}-session_{session_id}/mri/T1.mgz',\n",
    "            'data/Projects/{study}/Outputs/IBA_TRT/freesurfer/{subj_id}-session_{session_id}/mri/T1.mgz',\n",
    "            'data/Projects/{study}/RawData/{site}/{subj_id}/session_{session_id}/anat_{anat_id}/anat.nii.gz',\n",
    "            'data/Projects/{study:w}/sub-{subj_id}/ses-{session_id}/anat/sub-{subj_id}_ses-{session_id}_T1w.nii.gz',\n",
    "            'data/Projects/{study:w}/RawData/{subj_id}/{session_id}/{deface_id}/{deface_id2}_defaced.nii.gz',\n",
    "            'data/Projects/INDI/{study}/RawData/sub-{subj_id}/anat/sub-{subj_id}_T1w.nii.gz']\n",
    "\n",
    "project_id = \"https://s3.amazonaws.com/fcp-indi/data/Projects/{project_id}/{frag}\" "
   ]
  },
  {
   "cell_type": "code",
   "execution_count": 201,
   "metadata": {},
   "outputs": [],
   "source": [
    "import parse\n",
    "import pandas as pd\n",
    "\n",
    "# get the project the data is from\n",
    "def get_project(string, project_id='https://s3.amazonaws.com/fcp-indi/data/Projects/{project_id}/{frag}', get_str='project_id'):\n",
    "    parsed = parse.parse(project_id, string)\n",
    "    if parsed:\n",
    "        return parsed.named.get(get_str).lower()\n",
    "    elif 'osf' in string and '5h7sv' in string:\n",
    "        return 'ixi'\n",
    "    else:\n",
    "        return pd.np.nan"
   ]
  },
  {
   "cell_type": "code",
   "execution_count": 202,
   "metadata": {},
   "outputs": [
    {
     "data": {
      "text/html": [
       "<div>\n",
       "<table border=\"1\" class=\"dataframe\">\n",
       "  <thead>\n",
       "    <tr style=\"text-align: right;\">\n",
       "      <th></th>\n",
       "      <th>T1url</th>\n",
       "      <th>id</th>\n",
       "      <th>project</th>\n",
       "    </tr>\n",
       "  </thead>\n",
       "  <tbody>\n",
       "    <tr>\n",
       "      <th>0</th>\n",
       "      <td>T1url</td>\n",
       "      <td>id</td>\n",
       "      <td>NaN</td>\n",
       "    </tr>\n",
       "    <tr>\n",
       "      <th>1</th>\n",
       "      <td>https://s3.amazonaws.com/fcp-indi/data/Project...</td>\n",
       "      <td>50030</td>\n",
       "      <td>abide_initiative</td>\n",
       "    </tr>\n",
       "    <tr>\n",
       "      <th>2</th>\n",
       "      <td>https://s3.amazonaws.com/fcp-indi/data/Project...</td>\n",
       "      <td>50031</td>\n",
       "      <td>abide_initiative</td>\n",
       "    </tr>\n",
       "    <tr>\n",
       "      <th>3</th>\n",
       "      <td>https://s3.amazonaws.com/fcp-indi/data/Project...</td>\n",
       "      <td>50032</td>\n",
       "      <td>abide_initiative</td>\n",
       "    </tr>\n",
       "    <tr>\n",
       "      <th>4</th>\n",
       "      <td>https://s3.amazonaws.com/fcp-indi/data/Project...</td>\n",
       "      <td>50033</td>\n",
       "      <td>abide_initiative</td>\n",
       "    </tr>\n",
       "  </tbody>\n",
       "</table>\n",
       "</div>"
      ],
      "text/plain": [
       "                                               T1url     id           project\n",
       "0                                              T1url     id               NaN\n",
       "1  https://s3.amazonaws.com/fcp-indi/data/Project...  50030  abide_initiative\n",
       "2  https://s3.amazonaws.com/fcp-indi/data/Project...  50031  abide_initiative\n",
       "3  https://s3.amazonaws.com/fcp-indi/data/Project...  50032  abide_initiative\n",
       "4  https://s3.amazonaws.com/fcp-indi/data/Project...  50033  abide_initiative"
      ]
     },
     "execution_count": 202,
     "metadata": {},
     "output_type": "execute_result"
    }
   ],
   "source": [
    "# call get project function\n",
    "csv['project'] = csv.T1url.apply(get_project)\n",
    "csv.head()"
   ]
  },
  {
   "cell_type": "code",
   "execution_count": 203,
   "metadata": {},
   "outputs": [],
   "source": [
    "url_pattern = [\"https://s3.amazonaws.com/fcp-indi/\" + pattern for pattern in patterns]"
   ]
  },
  {
   "cell_type": "code",
   "execution_count": 204,
   "metadata": {
    "collapsed": true
   },
   "outputs": [],
   "source": [
    "def get_session(url):\n",
    "    result = None\n",
    "    for pattern in url_patterns:\n",
    "        parsed = parse.parse(pattern, url)\n",
    "        if parsed:\n",
    "            result = parsed.named.get('session_id')\n",
    "    if result:\n",
    "        if result == '01':\n",
    "            return '1'\n",
    "        else:\n",
    "            return result\n",
    "    else:\n",
    "        return '1'"
   ]
  },
  {
   "cell_type": "code",
   "execution_count": 206,
   "metadata": {},
   "outputs": [],
   "source": [
    "sessions = csv.T1url.apply(get_session)\n",
    "csv['session_id'] = sessions"
   ]
  },
  {
   "cell_type": "code",
   "execution_count": null,
   "metadata": {
    "collapsed": true
   },
   "outputs": [],
   "source": []
  }
 ],
 "metadata": {
  "kernelspec": {
   "display_name": "Python 3",
   "language": "python",
   "name": "python3"
  },
  "language_info": {
   "codemirror_mode": {
    "name": "ipython",
    "version": 3
   },
   "file_extension": ".py",
   "mimetype": "text/x-python",
   "name": "python",
   "nbconvert_exporter": "python",
   "pygments_lexer": "ipython3",
   "version": "3.6.1"
  },
  "toc": {
   "colors": {
    "hover_highlight": "#DAA520",
    "running_highlight": "#FF0000",
    "selected_highlight": "#FFD700"
   },
   "moveMenuLeft": true,
   "nav_menu": {
    "height": "48px",
    "width": "252px"
   },
   "navigate_menu": true,
   "number_sections": true,
   "sideBar": true,
   "threshold": 4,
   "toc_cell": false,
   "toc_section_display": "block",
   "toc_window_display": true,
   "widenNotebook": false
  }
 },
 "nbformat": 4,
 "nbformat_minor": 2
}
