{
 "cells": [
  {
   "cell_type": "markdown",
   "metadata": {},
   "source": [
    "# Hypothesis #1"
   ]
  },
  {
   "cell_type": "markdown",
   "metadata": {},
   "source": [
    "Research Question:\n",
    "If the distribution of ages in training and test sets is causing the poor generalizability of both complex and simple models, then both simple and complex models trained on datasets with similar age distributions to our original training dataset will perform worse than chance when tested on samples from new datasets that mimic the age distribution of our original test dataset."
   ]
  },
  {
   "cell_type": "markdown",
   "metadata": {},
   "source": [
    "## Setup"
   ]
  },
  {
   "cell_type": "code",
   "execution_count": 5,
   "metadata": {
    "collapsed": true
   },
   "outputs": [],
   "source": [
    "from pathlib import Path\n",
    "import pandas as pd\n",
    "import numpy as np\n",
    "import subprocess\n",
    "from datetime import date\n",
    "import re\n",
    "import matplotlib.pyplot as plt\n",
    "import seaborn as sns\n",
    "from glob import glob"
   ]
  },
  {
   "cell_type": "code",
   "execution_count": 4,
   "metadata": {
    "collapsed": true
   },
   "outputs": [],
   "source": [
    "# project directory\n",
    "project_dir = Path('/data/NNDSP')\n",
    "\n",
    "# NNDSP data directories\n",
    "nndsp_bids_dir = Path('/data/NNDSP/bids_2017_07_14_generic')\n",
    "nndsp_fs_dir = Path('/data/NNDSP/derivatives/fs5.3_subj')\n",
    "nndsp_pheno_file = Path('/data/NNDSP/anal/analysis_notebooks/phenotype_files/NNDSP_famid.csv')\n",
    "\n",
    "# HCP data directories\n",
    "hcp_bids_dir = Path('/data/HCP/HCP_900/s3/hcp')\n",
    "hcp_fs_dir = Path('/data/NNDSP/derivatives/fs_hcp_subj')\n",
    "hcp_pheno_file = Path('/data/NNDSP/nino/HCP_ages.csv')\n",
    "\n",
    "# NKI data directories\n",
    "nki_bids_dir = Path('/data/NNDSP/anal/NKI')\n",
    "nki_fs_dir = Path('/data/NNDSP/derivatives/fs_nki_subj')\n",
    "nki_pheno_file = Path('/data/NNDSP/anal/analysis_notebooks/phenotype_files/participants.tsv')\n",
    "\n",
    "# CoRR data directories\n",
    "corr_bids_dir = Path('/data/DSST/CoRR/bids_corr')\n",
    "corr_fs_dir = Path('/data/DSST/CoRR/fs_corr')\n",
    "corr_pheno_file = Path('/data/DSST/CoRR/phenotype_files/corr_ages.csv')\n",
    "\n",
    "# SALD data directories\n",
    "sald_bids_dir = Path('/data/DSST/SALD/bids_sald')\n",
    "# sald_fs_dir = Path('/data/NNDSP/derivatives/fs5.3_subj')\n",
    "sald_pheno_file = Path('/data/DSST/SALD/phenotype_files/sub_information.xlsx')"
   ]
  },
  {
   "cell_type": "markdown",
   "metadata": {},
   "source": [
    "## NNDSP Subject Data"
   ]
  },
  {
   "cell_type": "code",
   "execution_count": 45,
   "metadata": {},
   "outputs": [
    {
     "data": {
      "text/html": [
       "<div>\n",
       "<table border=\"1\" class=\"dataframe\">\n",
       "  <thead>\n",
       "    <tr style=\"text-align: right;\">\n",
       "      <th></th>\n",
       "      <th>subj_paths</th>\n",
       "      <th>MASKID</th>\n",
       "    </tr>\n",
       "  </thead>\n",
       "  <tbody>\n",
       "    <tr>\n",
       "      <th>0</th>\n",
       "      <td>/data/NNDSP/derivatives/fs5.3_subj/sub-1889</td>\n",
       "      <td>1889</td>\n",
       "    </tr>\n",
       "    <tr>\n",
       "      <th>1</th>\n",
       "      <td>/data/NNDSP/derivatives/fs5.3_subj/sub-2011</td>\n",
       "      <td>2011</td>\n",
       "    </tr>\n",
       "    <tr>\n",
       "      <th>2</th>\n",
       "      <td>/data/NNDSP/derivatives/fs5.3_subj/sub-1948</td>\n",
       "      <td>1948</td>\n",
       "    </tr>\n",
       "    <tr>\n",
       "      <th>3</th>\n",
       "      <td>/data/NNDSP/derivatives/fs5.3_subj/sub-1198</td>\n",
       "      <td>1198</td>\n",
       "    </tr>\n",
       "    <tr>\n",
       "      <th>4</th>\n",
       "      <td>/data/NNDSP/derivatives/fs5.3_subj/sub-1371</td>\n",
       "      <td>1371</td>\n",
       "    </tr>\n",
       "  </tbody>\n",
       "</table>\n",
       "</div>"
      ],
      "text/plain": [
       "                                    subj_paths  MASKID\n",
       "0  /data/NNDSP/derivatives/fs5.3_subj/sub-1889    1889\n",
       "1  /data/NNDSP/derivatives/fs5.3_subj/sub-2011    2011\n",
       "2  /data/NNDSP/derivatives/fs5.3_subj/sub-1948    1948\n",
       "3  /data/NNDSP/derivatives/fs5.3_subj/sub-1198    1198\n",
       "4  /data/NNDSP/derivatives/fs5.3_subj/sub-1371    1371"
      ]
     },
     "execution_count": 45,
     "metadata": {},
     "output_type": "execute_result"
    }
   ],
   "source": [
    "# merge the subjects that we have fs and add subject number\n",
    "df_nndsp = pd.DataFrame({'subj_paths' : [x.as_posix() for x in nndsp_fs_dir.glob('sub-*')]})\n",
    "df_nndsp = df_nndsp.assign(MASKID = [int(Path(x).name[4:]) for x in df_nndsp.subj_paths])\n",
    "df_nndsp.head()"
   ]
  },
  {
   "cell_type": "code",
   "execution_count": 46,
   "metadata": {},
   "outputs": [],
   "source": [
    "# merge the subjects we have fs of with their ages\n",
    "df_nndsp = pd.merge(df_nndsp, pd.read_csv(nndsp_pheno_file.as_posix()), on='MASKID')"
   ]
  },
  {
   "cell_type": "code",
   "execution_count": 58,
   "metadata": {},
   "outputs": [
    {
     "data": {
      "text/html": [
       "<div>\n",
       "<table border=\"1\" class=\"dataframe\">\n",
       "  <thead>\n",
       "    <tr style=\"text-align: right;\">\n",
       "      <th></th>\n",
       "      <th>subj_paths</th>\n",
       "      <th>subject</th>\n",
       "      <th>MRN</th>\n",
       "      <th>nuclear_fam_id</th>\n",
       "      <th>Sex</th>\n",
       "      <th>age</th>\n",
       "    </tr>\n",
       "  </thead>\n",
       "  <tbody>\n",
       "    <tr>\n",
       "      <th>0</th>\n",
       "      <td>/data/NNDSP/derivatives/fs5.3_subj/sub-1889</td>\n",
       "      <td>1889</td>\n",
       "      <td>7135075</td>\n",
       "      <td>10230</td>\n",
       "      <td>Female</td>\n",
       "      <td>9.667351</td>\n",
       "    </tr>\n",
       "    <tr>\n",
       "      <th>1</th>\n",
       "      <td>/data/NNDSP/derivatives/fs5.3_subj/sub-2011</td>\n",
       "      <td>2011</td>\n",
       "      <td>7078997</td>\n",
       "      <td>10109</td>\n",
       "      <td>Male</td>\n",
       "      <td>18.310746</td>\n",
       "    </tr>\n",
       "    <tr>\n",
       "      <th>2</th>\n",
       "      <td>/data/NNDSP/derivatives/fs5.3_subj/sub-1948</td>\n",
       "      <td>1948</td>\n",
       "      <td>4571265</td>\n",
       "      <td>1854</td>\n",
       "      <td>Female</td>\n",
       "      <td>14.269678</td>\n",
       "    </tr>\n",
       "    <tr>\n",
       "      <th>3</th>\n",
       "      <td>/data/NNDSP/derivatives/fs5.3_subj/sub-1198</td>\n",
       "      <td>1198</td>\n",
       "      <td>4359628</td>\n",
       "      <td>1613</td>\n",
       "      <td>Male</td>\n",
       "      <td>14.390144</td>\n",
       "    </tr>\n",
       "    <tr>\n",
       "      <th>4</th>\n",
       "      <td>/data/NNDSP/derivatives/fs5.3_subj/sub-1371</td>\n",
       "      <td>1371</td>\n",
       "      <td>7218874</td>\n",
       "      <td>10286</td>\n",
       "      <td>Male</td>\n",
       "      <td>16.621492</td>\n",
       "    </tr>\n",
       "  </tbody>\n",
       "</table>\n",
       "</div>"
      ],
      "text/plain": [
       "                                    subj_paths  subject      MRN  \\\n",
       "0  /data/NNDSP/derivatives/fs5.3_subj/sub-1889     1889  7135075   \n",
       "1  /data/NNDSP/derivatives/fs5.3_subj/sub-2011     2011  7078997   \n",
       "2  /data/NNDSP/derivatives/fs5.3_subj/sub-1948     1948  4571265   \n",
       "3  /data/NNDSP/derivatives/fs5.3_subj/sub-1198     1198  4359628   \n",
       "4  /data/NNDSP/derivatives/fs5.3_subj/sub-1371     1371  7218874   \n",
       "\n",
       "   nuclear_fam_id     Sex        age  \n",
       "0           10230  Female   9.667351  \n",
       "1           10109    Male  18.310746  \n",
       "2            1854  Female  14.269678  \n",
       "3            1613    Male  14.390144  \n",
       "4           10286    Male  16.621492  "
      ]
     },
     "execution_count": 58,
     "metadata": {},
     "output_type": "execute_result"
    }
   ],
   "source": [
    "# rename columns so that we have standardization across datasets\n",
    "df_nndsp = df_nndsp.rename(index=str, columns = {'MASKID' : 'subject', 'age_at_scan' : 'age'})\n",
    "df_nndsp = df_nndsp.drop_duplicates(subset='subject', keep='first')\n",
    "df_nndsp.head()"
   ]
  },
  {
   "cell_type": "markdown",
   "metadata": {},
   "source": [
    "## HCP Subject Data"
   ]
  },
  {
   "cell_type": "code",
   "execution_count": 48,
   "metadata": {},
   "outputs": [
    {
     "data": {
      "text/html": [
       "<div>\n",
       "<table border=\"1\" class=\"dataframe\">\n",
       "  <thead>\n",
       "    <tr style=\"text-align: right;\">\n",
       "      <th></th>\n",
       "      <th>subj_paths</th>\n",
       "      <th>Subject</th>\n",
       "    </tr>\n",
       "  </thead>\n",
       "  <tbody>\n",
       "    <tr>\n",
       "      <th>0</th>\n",
       "      <td>/data/NNDSP/derivatives/fs_hcp_subj/sub-749361</td>\n",
       "      <td>749361</td>\n",
       "    </tr>\n",
       "    <tr>\n",
       "      <th>1</th>\n",
       "      <td>/data/NNDSP/derivatives/fs_hcp_subj/sub-191942</td>\n",
       "      <td>191942</td>\n",
       "    </tr>\n",
       "    <tr>\n",
       "      <th>2</th>\n",
       "      <td>/data/NNDSP/derivatives/fs_hcp_subj/sub-983773</td>\n",
       "      <td>983773</td>\n",
       "    </tr>\n",
       "    <tr>\n",
       "      <th>3</th>\n",
       "      <td>/data/NNDSP/derivatives/fs_hcp_subj/sub-387959</td>\n",
       "      <td>387959</td>\n",
       "    </tr>\n",
       "    <tr>\n",
       "      <th>4</th>\n",
       "      <td>/data/NNDSP/derivatives/fs_hcp_subj/sub-193441</td>\n",
       "      <td>193441</td>\n",
       "    </tr>\n",
       "  </tbody>\n",
       "</table>\n",
       "</div>"
      ],
      "text/plain": [
       "                                       subj_paths  Subject\n",
       "0  /data/NNDSP/derivatives/fs_hcp_subj/sub-749361   749361\n",
       "1  /data/NNDSP/derivatives/fs_hcp_subj/sub-191942   191942\n",
       "2  /data/NNDSP/derivatives/fs_hcp_subj/sub-983773   983773\n",
       "3  /data/NNDSP/derivatives/fs_hcp_subj/sub-387959   387959\n",
       "4  /data/NNDSP/derivatives/fs_hcp_subj/sub-193441   193441"
      ]
     },
     "execution_count": 48,
     "metadata": {},
     "output_type": "execute_result"
    }
   ],
   "source": [
    "# merge the subjects that we have fs and add subject number\n",
    "df_hcp = pd.DataFrame({'subj_paths' : [x.as_posix() for x in hcp_fs_dir.glob('sub-*')]})\n",
    "df_hcp = df_hcp.assign(Subject = [int(Path(x).name[4:]) for x in df_hcp.subj_paths])\n",
    "df_hcp.head()"
   ]
  },
  {
   "cell_type": "code",
   "execution_count": 49,
   "metadata": {},
   "outputs": [],
   "source": [
    "# merge the subjects we have fs of with their ages\n",
    "df_hcp = pd.merge(df_hcp, pd.read_csv(hcp_pheno_file.as_posix()), on='Subject')"
   ]
  },
  {
   "cell_type": "code",
   "execution_count": 59,
   "metadata": {},
   "outputs": [
    {
     "data": {
      "text/html": [
       "<div>\n",
       "<table border=\"1\" class=\"dataframe\">\n",
       "  <thead>\n",
       "    <tr style=\"text-align: right;\">\n",
       "      <th></th>\n",
       "      <th>subj_paths</th>\n",
       "      <th>subject</th>\n",
       "      <th>age</th>\n",
       "      <th>HasGT</th>\n",
       "      <th>ZygositySR</th>\n",
       "      <th>ZygosityGT</th>\n",
       "      <th>Family_ID</th>\n",
       "      <th>Mother_ID</th>\n",
       "      <th>Father_ID</th>\n",
       "      <th>TestRetestInterval</th>\n",
       "      <th>...</th>\n",
       "      <th>SSAGA_Times_Used_Illicits</th>\n",
       "      <th>SSAGA_Times_Used_Cocaine</th>\n",
       "      <th>SSAGA_Times_Used_Hallucinogens</th>\n",
       "      <th>SSAGA_Times_Used_Opiates</th>\n",
       "      <th>SSAGA_Times_Used_Sedatives</th>\n",
       "      <th>SSAGA_Times_Used_Stimulants</th>\n",
       "      <th>SSAGA_Mj_Use</th>\n",
       "      <th>SSAGA_Mj_Ab_Dep</th>\n",
       "      <th>SSAGA_Mj_Age_1st_Use</th>\n",
       "      <th>SSAGA_Mj_Times_Used</th>\n",
       "    </tr>\n",
       "  </thead>\n",
       "  <tbody>\n",
       "    <tr>\n",
       "      <th>0</th>\n",
       "      <td>/data/NNDSP/derivatives/fs_hcp_subj/sub-749361</td>\n",
       "      <td>749361</td>\n",
       "      <td>29</td>\n",
       "      <td>True</td>\n",
       "      <td>NotTwin</td>\n",
       "      <td></td>\n",
       "      <td>52442_82285</td>\n",
       "      <td>52442</td>\n",
       "      <td>82285</td>\n",
       "      <td>NaN</td>\n",
       "      <td>...</td>\n",
       "      <td>0.0</td>\n",
       "      <td>0.0</td>\n",
       "      <td>0.0</td>\n",
       "      <td>0.0</td>\n",
       "      <td>0.0</td>\n",
       "      <td>0.0</td>\n",
       "      <td>1.0</td>\n",
       "      <td>0.0</td>\n",
       "      <td>3.0</td>\n",
       "      <td>1.0</td>\n",
       "    </tr>\n",
       "    <tr>\n",
       "      <th>1</th>\n",
       "      <td>/data/NNDSP/derivatives/fs_hcp_subj/sub-191942</td>\n",
       "      <td>191942</td>\n",
       "      <td>27</td>\n",
       "      <td>True</td>\n",
       "      <td>NotTwin</td>\n",
       "      <td></td>\n",
       "      <td>56029_85850</td>\n",
       "      <td>56029</td>\n",
       "      <td>85850</td>\n",
       "      <td>NaN</td>\n",
       "      <td>...</td>\n",
       "      <td>0.0</td>\n",
       "      <td>0.0</td>\n",
       "      <td>0.0</td>\n",
       "      <td>0.0</td>\n",
       "      <td>0.0</td>\n",
       "      <td>0.0</td>\n",
       "      <td>0.0</td>\n",
       "      <td>0.0</td>\n",
       "      <td>NaN</td>\n",
       "      <td>0.0</td>\n",
       "    </tr>\n",
       "    <tr>\n",
       "      <th>2</th>\n",
       "      <td>/data/NNDSP/derivatives/fs_hcp_subj/sub-983773</td>\n",
       "      <td>983773</td>\n",
       "      <td>28</td>\n",
       "      <td>True</td>\n",
       "      <td>NotTwin</td>\n",
       "      <td></td>\n",
       "      <td>52801_82622</td>\n",
       "      <td>52801</td>\n",
       "      <td>82622</td>\n",
       "      <td>NaN</td>\n",
       "      <td>...</td>\n",
       "      <td>0.0</td>\n",
       "      <td>0.0</td>\n",
       "      <td>0.0</td>\n",
       "      <td>0.0</td>\n",
       "      <td>0.0</td>\n",
       "      <td>0.0</td>\n",
       "      <td>0.0</td>\n",
       "      <td>0.0</td>\n",
       "      <td>NaN</td>\n",
       "      <td>0.0</td>\n",
       "    </tr>\n",
       "    <tr>\n",
       "      <th>3</th>\n",
       "      <td>/data/NNDSP/derivatives/fs_hcp_subj/sub-387959</td>\n",
       "      <td>387959</td>\n",
       "      <td>26</td>\n",
       "      <td>True</td>\n",
       "      <td>NotMZ</td>\n",
       "      <td></td>\n",
       "      <td>55795_85616</td>\n",
       "      <td>55795</td>\n",
       "      <td>85616</td>\n",
       "      <td>NaN</td>\n",
       "      <td>...</td>\n",
       "      <td>0.0</td>\n",
       "      <td>0.0</td>\n",
       "      <td>0.0</td>\n",
       "      <td>0.0</td>\n",
       "      <td>0.0</td>\n",
       "      <td>0.0</td>\n",
       "      <td>1.0</td>\n",
       "      <td>0.0</td>\n",
       "      <td>3.0</td>\n",
       "      <td>2.0</td>\n",
       "    </tr>\n",
       "    <tr>\n",
       "      <th>4</th>\n",
       "      <td>/data/NNDSP/derivatives/fs_hcp_subj/sub-193441</td>\n",
       "      <td>193441</td>\n",
       "      <td>28</td>\n",
       "      <td>True</td>\n",
       "      <td>NotTwin</td>\n",
       "      <td></td>\n",
       "      <td>52875_82697</td>\n",
       "      <td>52875</td>\n",
       "      <td>82697</td>\n",
       "      <td>NaN</td>\n",
       "      <td>...</td>\n",
       "      <td>0.0</td>\n",
       "      <td>0.0</td>\n",
       "      <td>0.0</td>\n",
       "      <td>0.0</td>\n",
       "      <td>0.0</td>\n",
       "      <td>0.0</td>\n",
       "      <td>0.0</td>\n",
       "      <td>0.0</td>\n",
       "      <td>NaN</td>\n",
       "      <td>0.0</td>\n",
       "    </tr>\n",
       "  </tbody>\n",
       "</table>\n",
       "<p>5 rows × 202 columns</p>\n",
       "</div>"
      ],
      "text/plain": [
       "                                       subj_paths  subject  age HasGT  \\\n",
       "0  /data/NNDSP/derivatives/fs_hcp_subj/sub-749361   749361   29  True   \n",
       "1  /data/NNDSP/derivatives/fs_hcp_subj/sub-191942   191942   27  True   \n",
       "2  /data/NNDSP/derivatives/fs_hcp_subj/sub-983773   983773   28  True   \n",
       "3  /data/NNDSP/derivatives/fs_hcp_subj/sub-387959   387959   26  True   \n",
       "4  /data/NNDSP/derivatives/fs_hcp_subj/sub-193441   193441   28  True   \n",
       "\n",
       "  ZygositySR ZygosityGT    Family_ID  Mother_ID  Father_ID  \\\n",
       "0    NotTwin             52442_82285      52442      82285   \n",
       "1    NotTwin             56029_85850      56029      85850   \n",
       "2    NotTwin             52801_82622      52801      82622   \n",
       "3      NotMZ             55795_85616      55795      85616   \n",
       "4    NotTwin             52875_82697      52875      82697   \n",
       "\n",
       "   TestRetestInterval         ...          SSAGA_Times_Used_Illicits  \\\n",
       "0                 NaN         ...                                0.0   \n",
       "1                 NaN         ...                                0.0   \n",
       "2                 NaN         ...                                0.0   \n",
       "3                 NaN         ...                                0.0   \n",
       "4                 NaN         ...                                0.0   \n",
       "\n",
       "  SSAGA_Times_Used_Cocaine  SSAGA_Times_Used_Hallucinogens  \\\n",
       "0                      0.0                             0.0   \n",
       "1                      0.0                             0.0   \n",
       "2                      0.0                             0.0   \n",
       "3                      0.0                             0.0   \n",
       "4                      0.0                             0.0   \n",
       "\n",
       "   SSAGA_Times_Used_Opiates  SSAGA_Times_Used_Sedatives  \\\n",
       "0                       0.0                         0.0   \n",
       "1                       0.0                         0.0   \n",
       "2                       0.0                         0.0   \n",
       "3                       0.0                         0.0   \n",
       "4                       0.0                         0.0   \n",
       "\n",
       "   SSAGA_Times_Used_Stimulants  SSAGA_Mj_Use  SSAGA_Mj_Ab_Dep  \\\n",
       "0                          0.0           1.0              0.0   \n",
       "1                          0.0           0.0              0.0   \n",
       "2                          0.0           0.0              0.0   \n",
       "3                          0.0           1.0              0.0   \n",
       "4                          0.0           0.0              0.0   \n",
       "\n",
       "   SSAGA_Mj_Age_1st_Use  SSAGA_Mj_Times_Used  \n",
       "0                   3.0                  1.0  \n",
       "1                   NaN                  0.0  \n",
       "2                   NaN                  0.0  \n",
       "3                   3.0                  2.0  \n",
       "4                   NaN                  0.0  \n",
       "\n",
       "[5 rows x 202 columns]"
      ]
     },
     "execution_count": 59,
     "metadata": {},
     "output_type": "execute_result"
    }
   ],
   "source": [
    "# rename columns so that we have standardization across datasets\n",
    "df_hcp = df_hcp.rename(index=str, columns={'Subject' : 'subject', 'Age_in_Yrs' : 'age'})\n",
    "df_hcp = df_hcp.drop_duplicates(subset='subject', keep='first')\n",
    "df_hcp.head()"
   ]
  },
  {
   "cell_type": "markdown",
   "metadata": {},
   "source": [
    "## NKI Subject Data"
   ]
  },
  {
   "cell_type": "code",
   "execution_count": 64,
   "metadata": {},
   "outputs": [
    {
     "data": {
      "text/html": [
       "<div>\n",
       "<table border=\"1\" class=\"dataframe\">\n",
       "  <thead>\n",
       "    <tr style=\"text-align: right;\">\n",
       "      <th></th>\n",
       "      <th>subj_paths</th>\n",
       "      <th>participant_id</th>\n",
       "    </tr>\n",
       "  </thead>\n",
       "  <tbody>\n",
       "    <tr>\n",
       "      <th>0</th>\n",
       "      <td>/data/NNDSP/derivatives/fs_nki_subj/sub-A00023510</td>\n",
       "      <td>A00023510</td>\n",
       "    </tr>\n",
       "    <tr>\n",
       "      <th>1</th>\n",
       "      <td>/data/NNDSP/derivatives/fs_nki_subj/sub-A00066...</td>\n",
       "      <td>A00066087</td>\n",
       "    </tr>\n",
       "    <tr>\n",
       "      <th>2</th>\n",
       "      <td>/data/NNDSP/derivatives/fs_nki_subj/sub-A00066...</td>\n",
       "      <td>A00066236</td>\n",
       "    </tr>\n",
       "    <tr>\n",
       "      <th>3</th>\n",
       "      <td>/data/NNDSP/derivatives/fs_nki_subj/sub-A00034350</td>\n",
       "      <td>A00034350</td>\n",
       "    </tr>\n",
       "    <tr>\n",
       "      <th>4</th>\n",
       "      <td>/data/NNDSP/derivatives/fs_nki_subj/sub-A00063003</td>\n",
       "      <td>A00063003</td>\n",
       "    </tr>\n",
       "  </tbody>\n",
       "</table>\n",
       "</div>"
      ],
      "text/plain": [
       "                                          subj_paths participant_id\n",
       "0  /data/NNDSP/derivatives/fs_nki_subj/sub-A00023510      A00023510\n",
       "1  /data/NNDSP/derivatives/fs_nki_subj/sub-A00066...      A00066087\n",
       "2  /data/NNDSP/derivatives/fs_nki_subj/sub-A00066...      A00066236\n",
       "3  /data/NNDSP/derivatives/fs_nki_subj/sub-A00034350      A00034350\n",
       "4  /data/NNDSP/derivatives/fs_nki_subj/sub-A00063003      A00063003"
      ]
     },
     "execution_count": 64,
     "metadata": {},
     "output_type": "execute_result"
    }
   ],
   "source": [
    "# merge the subjects that we have fs and add subject number\n",
    "df_nki = pd.DataFrame({'subj_paths' : [x.as_posix() for x in nki_fs_dir.glob('sub-*')]})\n",
    "df_nki = df_nki.assign(participant_id = [Path(x).name[4:13] for x in df_nki.subj_paths])\n",
    "df_nki.head()"
   ]
  },
  {
   "cell_type": "code",
   "execution_count": 65,
   "metadata": {},
   "outputs": [],
   "source": [
    "# merge the subjects that we have fs with age\n",
    "df_nki = pd.merge(df_nki, pd.read_csv(nki_pheno_file.as_posix(), sep='\\t'), on='participant_id')"
   ]
  },
  {
   "cell_type": "code",
   "execution_count": 68,
   "metadata": {},
   "outputs": [
    {
     "data": {
      "text/html": [
       "<div>\n",
       "<table border=\"1\" class=\"dataframe\">\n",
       "  <thead>\n",
       "    <tr style=\"text-align: right;\">\n",
       "      <th></th>\n",
       "      <th>subj_paths</th>\n",
       "      <th>subject</th>\n",
       "      <th>age</th>\n",
       "      <th>sex</th>\n",
       "      <th>handedness</th>\n",
       "    </tr>\n",
       "  </thead>\n",
       "  <tbody>\n",
       "    <tr>\n",
       "      <th>0</th>\n",
       "      <td>/data/NNDSP/derivatives/fs_nki_subj/sub-A00023510</td>\n",
       "      <td>A00023510</td>\n",
       "      <td>23.0</td>\n",
       "      <td>MALE</td>\n",
       "      <td>RIGHT</td>\n",
       "    </tr>\n",
       "    <tr>\n",
       "      <th>1</th>\n",
       "      <td>/data/NNDSP/derivatives/fs_nki_subj/sub-A00066...</td>\n",
       "      <td>A00066087</td>\n",
       "      <td>22.0</td>\n",
       "      <td>MALE</td>\n",
       "      <td>RIGHT</td>\n",
       "    </tr>\n",
       "    <tr>\n",
       "      <th>2</th>\n",
       "      <td>/data/NNDSP/derivatives/fs_nki_subj/sub-A00066087</td>\n",
       "      <td>A00066087</td>\n",
       "      <td>22.0</td>\n",
       "      <td>MALE</td>\n",
       "      <td>RIGHT</td>\n",
       "    </tr>\n",
       "    <tr>\n",
       "      <th>3</th>\n",
       "      <td>/data/NNDSP/derivatives/fs_nki_subj/sub-A00066...</td>\n",
       "      <td>A00066087</td>\n",
       "      <td>22.0</td>\n",
       "      <td>MALE</td>\n",
       "      <td>RIGHT</td>\n",
       "    </tr>\n",
       "    <tr>\n",
       "      <th>4</th>\n",
       "      <td>/data/NNDSP/derivatives/fs_nki_subj/sub-A00066...</td>\n",
       "      <td>A00066236</td>\n",
       "      <td>33.0</td>\n",
       "      <td>MALE</td>\n",
       "      <td>RIGHT</td>\n",
       "    </tr>\n",
       "  </tbody>\n",
       "</table>\n",
       "</div>"
      ],
      "text/plain": [
       "                                          subj_paths    subject   age   sex  \\\n",
       "0  /data/NNDSP/derivatives/fs_nki_subj/sub-A00023510  A00023510  23.0  MALE   \n",
       "1  /data/NNDSP/derivatives/fs_nki_subj/sub-A00066...  A00066087  22.0  MALE   \n",
       "2  /data/NNDSP/derivatives/fs_nki_subj/sub-A00066087  A00066087  22.0  MALE   \n",
       "3  /data/NNDSP/derivatives/fs_nki_subj/sub-A00066...  A00066087  22.0  MALE   \n",
       "4  /data/NNDSP/derivatives/fs_nki_subj/sub-A00066...  A00066236  33.0  MALE   \n",
       "\n",
       "  handedness  \n",
       "0      RIGHT  \n",
       "1      RIGHT  \n",
       "2      RIGHT  \n",
       "3      RIGHT  \n",
       "4      RIGHT  "
      ]
     },
     "execution_count": 68,
     "metadata": {},
     "output_type": "execute_result"
    }
   ],
   "source": [
    "# rename so that we have standardization across datasets\n",
    "df_nki = df_nki.rename(index=str, columns={'participant_id' : 'subject', 'age' : 'age'})\n",
    "df_nki = df_nki.drop_duplicates(subset='subject', keep='first')\n",
    "df_nki.head()"
   ]
  },
  {
   "cell_type": "markdown",
   "metadata": {},
   "source": [
    "## CoRR Subject Data"
   ]
  },
  {
   "cell_type": "code",
   "execution_count": 82,
   "metadata": {},
   "outputs": [
    {
     "data": {
      "text/html": [
       "<div>\n",
       "<table border=\"1\" class=\"dataframe\">\n",
       "  <thead>\n",
       "    <tr style=\"text-align: right;\">\n",
       "      <th></th>\n",
       "      <th>subj_paths</th>\n",
       "      <th>SUBID</th>\n",
       "    </tr>\n",
       "  </thead>\n",
       "  <tbody>\n",
       "    <tr>\n",
       "      <th>0</th>\n",
       "      <td>/data/DSST/CoRR/fs_corr/sub-0003057</td>\n",
       "      <td>3057</td>\n",
       "    </tr>\n",
       "    <tr>\n",
       "      <th>1</th>\n",
       "      <td>/data/DSST/CoRR/fs_corr/sub-0026120_ses-2</td>\n",
       "      <td>26120</td>\n",
       "    </tr>\n",
       "    <tr>\n",
       "      <th>2</th>\n",
       "      <td>/data/DSST/CoRR/fs_corr/sub-0025052</td>\n",
       "      <td>25052</td>\n",
       "    </tr>\n",
       "    <tr>\n",
       "      <th>3</th>\n",
       "      <td>/data/DSST/CoRR/fs_corr/sub-0025288_ses-2</td>\n",
       "      <td>25288</td>\n",
       "    </tr>\n",
       "    <tr>\n",
       "      <th>4</th>\n",
       "      <td>/data/DSST/CoRR/fs_corr/sub-0026009_ses-1</td>\n",
       "      <td>26009</td>\n",
       "    </tr>\n",
       "  </tbody>\n",
       "</table>\n",
       "</div>"
      ],
      "text/plain": [
       "                                  subj_paths  SUBID\n",
       "0        /data/DSST/CoRR/fs_corr/sub-0003057   3057\n",
       "1  /data/DSST/CoRR/fs_corr/sub-0026120_ses-2  26120\n",
       "2        /data/DSST/CoRR/fs_corr/sub-0025052  25052\n",
       "3  /data/DSST/CoRR/fs_corr/sub-0025288_ses-2  25288\n",
       "4  /data/DSST/CoRR/fs_corr/sub-0026009_ses-1  26009"
      ]
     },
     "execution_count": 82,
     "metadata": {},
     "output_type": "execute_result"
    }
   ],
   "source": [
    "# merge the subjects that we have fs and add subject number\n",
    "df_corr = pd.DataFrame({'subj_paths' : [x.as_posix() for x in corr_fs_dir.glob('sub-*')]})\n",
    "df_corr = df_corr.assign(SUBID = [int(Path(x).name[4:11]) for x in df_corr.subj_paths])\n",
    "df_corr.head()"
   ]
  },
  {
   "cell_type": "code",
   "execution_count": 83,
   "metadata": {},
   "outputs": [
    {
     "data": {
      "text/html": [
       "<div>\n",
       "<table border=\"1\" class=\"dataframe\">\n",
       "  <thead>\n",
       "    <tr style=\"text-align: right;\">\n",
       "      <th></th>\n",
       "      <th>Unnamed: 0</th>\n",
       "      <th>SUBID</th>\n",
       "      <th>AGE_AT_SCAN_1</th>\n",
       "      <th>SEX</th>\n",
       "    </tr>\n",
       "  </thead>\n",
       "  <tbody>\n",
       "    <tr>\n",
       "      <th>0</th>\n",
       "      <td>0</td>\n",
       "      <td>25921</td>\n",
       "      <td>20.7</td>\n",
       "      <td>1</td>\n",
       "    </tr>\n",
       "    <tr>\n",
       "      <th>1</th>\n",
       "      <td>2</td>\n",
       "      <td>25922</td>\n",
       "      <td>21.7</td>\n",
       "      <td>1</td>\n",
       "    </tr>\n",
       "    <tr>\n",
       "      <th>2</th>\n",
       "      <td>4</td>\n",
       "      <td>25923</td>\n",
       "      <td>22.5</td>\n",
       "      <td>1</td>\n",
       "    </tr>\n",
       "    <tr>\n",
       "      <th>3</th>\n",
       "      <td>6</td>\n",
       "      <td>25924</td>\n",
       "      <td>21</td>\n",
       "      <td>1</td>\n",
       "    </tr>\n",
       "    <tr>\n",
       "      <th>4</th>\n",
       "      <td>8</td>\n",
       "      <td>25925</td>\n",
       "      <td>21.2</td>\n",
       "      <td>1</td>\n",
       "    </tr>\n",
       "  </tbody>\n",
       "</table>\n",
       "</div>"
      ],
      "text/plain": [
       "   Unnamed: 0  SUBID AGE_AT_SCAN_1 SEX\n",
       "0           0  25921          20.7   1\n",
       "1           2  25922          21.7   1\n",
       "2           4  25923          22.5   1\n",
       "3           6  25924            21   1\n",
       "4           8  25925          21.2   1"
      ]
     },
     "execution_count": 83,
     "metadata": {},
     "output_type": "execute_result"
    }
   ],
   "source": [
    "df_corr_pheno.head()"
   ]
  },
  {
   "cell_type": "code",
   "execution_count": 84,
   "metadata": {},
   "outputs": [],
   "source": [
    "# merge subjects with ages \n",
    "df_corr = pd.merge(df_corr, pd.read_csv(corr_pheno_file.as_posix()), on='SUBID')"
   ]
  },
  {
   "cell_type": "code",
   "execution_count": 86,
   "metadata": {},
   "outputs": [
    {
     "data": {
      "text/plain": [
       "2162"
      ]
     },
     "execution_count": 86,
     "metadata": {},
     "output_type": "execute_result"
    }
   ],
   "source": []
  },
  {
   "cell_type": "markdown",
   "metadata": {},
   "source": [
    "## SALD Subject Data"
   ]
  },
  {
   "cell_type": "code",
   "execution_count": null,
   "metadata": {
    "collapsed": true
   },
   "outputs": [],
   "source": []
  }
 ],
 "metadata": {
  "kernelspec": {
   "display_name": "Python 3",
   "language": "python",
   "name": "python3"
  },
  "language_info": {
   "codemirror_mode": {
    "name": "ipython",
    "version": 3
   },
   "file_extension": ".py",
   "mimetype": "text/x-python",
   "name": "python",
   "nbconvert_exporter": "python",
   "pygments_lexer": "ipython3",
   "version": "3.6.1"
  },
  "toc": {
   "colors": {
    "hover_highlight": "#DAA520",
    "running_highlight": "#FF0000",
    "selected_highlight": "#FFD700"
   },
   "moveMenuLeft": true,
   "nav_menu": {
    "height": "138px",
    "width": "252px"
   },
   "navigate_menu": true,
   "number_sections": true,
   "sideBar": true,
   "threshold": 4,
   "toc_cell": false,
   "toc_section_display": "block",
   "toc_window_display": true,
   "widenNotebook": false
  }
 },
 "nbformat": 4,
 "nbformat_minor": 2
}
