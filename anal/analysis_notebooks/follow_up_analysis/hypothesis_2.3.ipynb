{
 "cells": [
  {
   "cell_type": "markdown",
   "metadata": {},
   "source": [
    "# Hypothesis 2.3"
   ]
  },
  {
   "cell_type": "markdown",
   "metadata": {},
   "source": [
    "If there are data quality differences between datasets, then the dataset identity will predict quality metrics."
   ]
  },
  {
   "cell_type": "markdown",
   "metadata": {},
   "source": [
    "## Setup"
   ]
  },
  {
   "cell_type": "code",
   "execution_count": 1,
   "metadata": {
    "collapsed": true
   },
   "outputs": [],
   "source": [
    "from pathlib import Path\n",
    "import pandas as pd\n",
    "import numpy as np\n",
    "import subprocess\n",
    "from datetime import date\n",
    "import re\n",
    "import matplotlib.pyplot as plt\n",
    "import seaborn as sns\n",
    "from glob import glob"
   ]
  },
  {
   "cell_type": "code",
   "execution_count": null,
   "metadata": {
    "collapsed": true
   },
   "outputs": [],
   "source": [
    "#project directory\n",
    "project_dir = Path('/data/NNDSP'\n",
    "                  )\n",
    "# NNDSP data directories\n",
    "nndsp_project_dir = Path('/data/NNDSP')\n",
    "nndsp_bids_dir = nndsp_project_dir.joinpath('bids_2017_07_14_generic')\n",
    "nndsp_fs_dir = nndsp_project_dir.joinpath('derivatives/fs5.3_subj')\n",
    "nndsp_bar_dir = nndsp_project_dir.joinpath('derivatives/bar_subj')\n",
    "nndsp_mriqc_dir = nndsp_project_dir.joinpath('derivatives/')\n",
    "nndsp_pheno_file = Path('/data/NNDSP/anal/analysis_notebooks/phenotype_files/NNDSP_famid.csv')\n",
    "\n",
    "# HCP data directories\n",
    "hcp_bids_dir = Path('/data/HCP/HCP_900/s3/hcp')\n",
    "hcp_fs_dir = Path('/data/NNDSP/derivatives/fs_hcp_subj')\n",
    "hcp_bar_dir = Path('/data/NNDSP/derivatives/bar_hcp_subj')\n",
    "hcp_pheno_file = Path('/data/NNDSP/nino/HCP_ages.csv')\n",
    "\n",
    "# NKI data directories\n",
    "nki_bids_dir = Path('/data/NNDSP/anal/NKI')\n",
    "nki_fs_dir = Path('/data/NNDSP/derivatives/fs_nki_subj')\n",
    "nki_bar_dir = Path('/data/NNDSP/derivatives/bar_nki_subj')\n",
    "nki_pheno_file = Path('/data/NNDSP/anal/analysis_notebooks/phenotype_files/participants.tsv')\n",
    "\n",
    "# CoRR data directories\n",
    "corr_bids_dir = Path('/data/DSST/CoRR/bids_corr')\n",
    "corr_fs_dir = Path('/data/DSST/CoRR/fs_corr')\n",
    "corr_bar_dir = Path('/data/DSST/CoRR/bar_corr/baracus')\n",
    "corr_pheno_file = Path('/data/DSST/CoRR/phenotype_files/corr_ages.csv')\n",
    "\n",
    "# SALD data directories\n",
    "sald_bids_dir = Path('/data/DSST/SALD/bids_sald')\n",
    "sald_fs_dir = Path('/data/DSST/SALD/fs_sald')\n",
    "sald_bar_dir = Path('/data/DSST/SALD/bar_sald/baracus')\n",
    "sald_pheno_file = Path('/data/DSST/SALD/phenotype_files/sub_information.xlsx')"
   ]
  }
 ],
 "metadata": {
  "kernelspec": {
   "display_name": "Python 3",
   "language": "python",
   "name": "python3"
  },
  "language_info": {
   "codemirror_mode": {
    "name": "ipython",
    "version": 3
   },
   "file_extension": ".py",
   "mimetype": "text/x-python",
   "name": "python",
   "nbconvert_exporter": "python",
   "pygments_lexer": "ipython3",
   "version": "3.6.1"
  },
  "toc": {
   "colors": {
    "hover_highlight": "#DAA520",
    "running_highlight": "#FF0000",
    "selected_highlight": "#FFD700"
   },
   "moveMenuLeft": true,
   "nav_menu": {
    "height": "48px",
    "width": "252px"
   },
   "navigate_menu": true,
   "number_sections": true,
   "sideBar": true,
   "threshold": 4,
   "toc_cell": false,
   "toc_section_display": "block",
   "toc_window_display": false,
   "widenNotebook": false
  }
 },
 "nbformat": 4,
 "nbformat_minor": 2
}
