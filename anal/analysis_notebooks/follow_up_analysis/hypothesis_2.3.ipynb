{
 "cells": [
  {
   "cell_type": "code",
   "execution_count": 104,
   "metadata": {},
   "outputs": [],
   "source": [
    "%run /data/NNDSP/anal/analysis_notebooks/follow_up_analysis/util_setup.ipynb"
   ]
  },
  {
   "cell_type": "markdown",
   "metadata": {},
   "source": [
    "# Hypothesis 2.3"
   ]
  },
  {
   "cell_type": "markdown",
   "metadata": {},
   "source": [
    "If there are data quality differences between datasets, then the dataset identity will predict quality metrics."
   ]
  },
  {
   "cell_type": "markdown",
   "metadata": {},
   "source": [
    "## Setup"
   ]
  },
  {
   "cell_type": "code",
   "execution_count": 2,
   "metadata": {
    "collapsed": true
   },
   "outputs": [],
   "source": [
    "from pathlib import Path\n",
    "import pandas as pd\n",
    "import numpy as np\n",
    "import subprocess\n",
    "from datetime import date\n",
    "import re\n",
    "import matplotlib.pyplot as plt\n",
    "import seaborn as sns\n",
    "from glob import glob"
   ]
  },
  {
   "cell_type": "code",
   "execution_count": 36,
   "metadata": {
    "collapsed": true
   },
   "outputs": [],
   "source": [
    "#project directory\n",
    "project_dir = Path('/data/NNDSP'\n",
    "                  )\n",
    "# NNDSP data directories\n",
    "nndsp_project_dir = Path('/data/NNDSP')\n",
    "nndsp_bids_dir = nndsp_project_dir.joinpath('bids_2017_07_14_generic')\n",
    "nndsp_fs_dir = nndsp_project_dir.joinpath('derivatives/fs5.3_subj')\n",
    "nndsp_bar_dir = nndsp_project_dir.joinpath('derivatives/bar_subj')\n",
    "nndsp_mriqc_dir = nndsp_project_dir.joinpath('derivatives/mriqc_2018_06_08')\n",
    "nndsp_pheno_file = nndsp_project_dir.joinpath('anal/analysis_notebooks/phenotype_files/NNDSP_famid.csv')\n",
    "\n",
    "# HCP data directories\n",
    "hcp_project_dir = nndsp_project_dir\n",
    "hcp_bids_dir = Path('/data/HCP/HCP_900/s3/hcp')\n",
    "hcp_fs_dir = hcp_project_dir.joinpath('derivatives/fs_hcp_subj')\n",
    "hcp_bar_dir = hcp_project_dir.joinpath('derivatives/bar_hcp_subj')\n",
    "# hcp_mriqc_dir = hcp_project_dir.joinpath('derivatives/mriqc_hcp')\n",
    "hcp_pheno_file = hcp_project_dir.joinpath('nino/HCP_ages.csv')\n",
    "hcp_pheno2_file = hcp_project_dir.joinpath('anal/analysis_notebooks/phenotype_files/hcp_unrestricted.csv')\n",
    "\n",
    "# NKI data directories\n",
    "nki_project_dir = nndsp_project_dir\n",
    "nki_bids_dir = nki_project_dir.joinpath('anal/NKI')\n",
    "nki_fs_dir = nki_project_dir.joinpath('derivatives/fs_nki_subj')\n",
    "nki_bar_dir = nki_project_dir.joinpath('derivatives/bar_nki_subj')\n",
    "nki_mriqc_dir = nki_project_dir.joinpath('derivatives/mriqc_nki_2018_07_16')\n",
    "nki_pheno_file = nki_project_dir.joinpath('anal/analysis_notebooks/phenotype_files/participants.tsv')\n",
    "\n",
    "# CoRR data directories\n",
    "corr_project_dir = Path('/data/DSST/CoRR')\n",
    "corr_bids_dir = corr_project_dir.joinpath('bids_corr')\n",
    "corr_fs_dir = corr_project_dir.joinpath('derivatives/fs_corr')\n",
    "corr_bar_dir = corr_project_dir.joinpath('derivatives/bar_corr/baracus')\n",
    "corr_mriqc_dir = corr_project_dir.joinpath('derivatives/mriqc_corr')\n",
    "corr_pheno_file = corr_project_dir.joinpath('phenotype_files/corr_ages.csv')\n",
    "\n",
    "# SALD data directories\n",
    "sald_project_dir = Path('/data/DSST/SALD')\n",
    "sald_bids_dir = sald_project_dir.joinpath('bids_sald')\n",
    "sald_fs_dir = sald_project_dir.joinpath('derivatives/fs_sald')\n",
    "sald_bar_dir = sald_project_dir.joinpath('derivatives/bar_sald/baracus')\n",
    "sald_mriqc_dir = sald_project_dir.joinpath('derivatives/mriqc_sald')\n",
    "sald_pheno_file = sald_project_dir.joinpath('phenotype_files/sub_information.xlsx')"
   ]
  },
  {
   "cell_type": "markdown",
   "metadata": {},
   "source": [
    "## Load MRIQC Json Files"
   ]
  },
  {
   "cell_type": "code",
   "execution_count": 37,
   "metadata": {
    "collapsed": true
   },
   "outputs": [],
   "source": [
    "import json\n",
    "import re"
   ]
  },
  {
   "cell_type": "code",
   "execution_count": 110,
   "metadata": {},
   "outputs": [],
   "source": [
    "df_nndsp = mriqc_df(nndsp_mriqc_dir, nndsp_pheno_file, data='NNDSP', data_class = 1, \n",
    "                    merge_df = (nndsp_subjectdata(nndsp_fs_dir, nndsp_pheno_file)[['subject', 'sex']]))\n",
    "# df_hcp = mriqc_df(hcp_mriqc_dir, hcp_pheno_file, data='HCP', data_class = 2, \n",
    "#                  merge_df = (hcp_subjectdata(hcp_fs_dir, hcp_pheno_file, hcp_pheno2_file)[['subject', 'sex']]))\n",
    "df_nki = mriqc_df(nki_mriqc_dir, nki_pheno_file, data='NKI', data_class = 3,\n",
    "                 merge_df = (nki_subjectdata(nki_fs_dir, nki_pheno_file)[['subject', 'sex']]))\n",
    "# df_corr = mriqc_df(corr_mriqc_dir, corr_pheno_file, data='CoRR', data_class = 4, \n",
    "#                   merge_df = (corr_subjectdata(corr_fs_dir, corr_pheno_file)[['subject','sex']]))\n",
    "df_sald = mriqc_df(sald_mriqc_dir, sald_pheno_file, data='SALD', data_class = 5,\n",
    "                  merge_df = (sald_subjectdata(sald_fs_dir, sald_pheno_file)[['subject', 'sex']]))"
   ]
  },
  {
   "cell_type": "code",
   "execution_count": 114,
   "metadata": {},
   "outputs": [
    {
     "data": {
      "text/html": [
       "<div>\n",
       "<table border=\"1\" class=\"dataframe\">\n",
       "  <thead>\n",
       "    <tr style=\"text-align: right;\">\n",
       "      <th></th>\n",
       "      <th>acq_id</th>\n",
       "      <th>cjv</th>\n",
       "      <th>cnr</th>\n",
       "      <th>data_class</th>\n",
       "      <th>dataset</th>\n",
       "      <th>efc</th>\n",
       "      <th>fber</th>\n",
       "      <th>fwhm_avg</th>\n",
       "      <th>fwhm_x</th>\n",
       "      <th>fwhm_y</th>\n",
       "      <th>...</th>\n",
       "      <th>summary_wm_mean</th>\n",
       "      <th>summary_wm_median</th>\n",
       "      <th>summary_wm_n</th>\n",
       "      <th>summary_wm_p05</th>\n",
       "      <th>summary_wm_p95</th>\n",
       "      <th>summary_wm_stdv</th>\n",
       "      <th>tpm_overlap_csf</th>\n",
       "      <th>tpm_overlap_gm</th>\n",
       "      <th>tpm_overlap_wm</th>\n",
       "      <th>wm2max</th>\n",
       "    </tr>\n",
       "  </thead>\n",
       "  <tbody>\n",
       "    <tr>\n",
       "      <th>0</th>\n",
       "      <td>0.0</td>\n",
       "      <td>0.450745</td>\n",
       "      <td>2.966345</td>\n",
       "      <td>1</td>\n",
       "      <td>NNDSP</td>\n",
       "      <td>0.731650</td>\n",
       "      <td>26904.433594</td>\n",
       "      <td>3.339224</td>\n",
       "      <td>3.681080</td>\n",
       "      <td>3.748546</td>\n",
       "      <td>...</td>\n",
       "      <td>1000.574402</td>\n",
       "      <td>1000.011963</td>\n",
       "      <td>197615.0</td>\n",
       "      <td>921.248688</td>\n",
       "      <td>1081.648413</td>\n",
       "      <td>49.010384</td>\n",
       "      <td>0.222196</td>\n",
       "      <td>0.505360</td>\n",
       "      <td>0.562915</td>\n",
       "      <td>0.424826</td>\n",
       "    </tr>\n",
       "    <tr>\n",
       "      <th>1</th>\n",
       "      <td>0.0</td>\n",
       "      <td>0.597186</td>\n",
       "      <td>2.285747</td>\n",
       "      <td>1</td>\n",
       "      <td>NNDSP</td>\n",
       "      <td>0.738215</td>\n",
       "      <td>25883.199219</td>\n",
       "      <td>3.400049</td>\n",
       "      <td>3.794461</td>\n",
       "      <td>3.804922</td>\n",
       "      <td>...</td>\n",
       "      <td>1001.480408</td>\n",
       "      <td>1000.007324</td>\n",
       "      <td>197970.0</td>\n",
       "      <td>924.199457</td>\n",
       "      <td>1084.025879</td>\n",
       "      <td>49.015297</td>\n",
       "      <td>0.213160</td>\n",
       "      <td>0.493546</td>\n",
       "      <td>0.555361</td>\n",
       "      <td>0.398110</td>\n",
       "    </tr>\n",
       "    <tr>\n",
       "      <th>2</th>\n",
       "      <td>0.0</td>\n",
       "      <td>0.325163</td>\n",
       "      <td>4.105503</td>\n",
       "      <td>1</td>\n",
       "      <td>NNDSP</td>\n",
       "      <td>0.715936</td>\n",
       "      <td>22670.064453</td>\n",
       "      <td>3.143957</td>\n",
       "      <td>3.302560</td>\n",
       "      <td>3.607913</td>\n",
       "      <td>...</td>\n",
       "      <td>1000.676392</td>\n",
       "      <td>1000.012146</td>\n",
       "      <td>161564.0</td>\n",
       "      <td>906.751019</td>\n",
       "      <td>1096.440839</td>\n",
       "      <td>57.998871</td>\n",
       "      <td>0.202775</td>\n",
       "      <td>0.545467</td>\n",
       "      <td>0.515358</td>\n",
       "      <td>0.378795</td>\n",
       "    </tr>\n",
       "    <tr>\n",
       "      <th>3</th>\n",
       "      <td>0.0</td>\n",
       "      <td>0.331401</td>\n",
       "      <td>4.022244</td>\n",
       "      <td>1</td>\n",
       "      <td>NNDSP</td>\n",
       "      <td>0.731355</td>\n",
       "      <td>30989.095703</td>\n",
       "      <td>3.051045</td>\n",
       "      <td>3.257622</td>\n",
       "      <td>3.420898</td>\n",
       "      <td>...</td>\n",
       "      <td>1000.772400</td>\n",
       "      <td>1000.005615</td>\n",
       "      <td>170270.0</td>\n",
       "      <td>908.286295</td>\n",
       "      <td>1095.220068</td>\n",
       "      <td>57.538391</td>\n",
       "      <td>0.199213</td>\n",
       "      <td>0.536563</td>\n",
       "      <td>0.520068</td>\n",
       "      <td>0.380536</td>\n",
       "    </tr>\n",
       "    <tr>\n",
       "      <th>4</th>\n",
       "      <td>0.0</td>\n",
       "      <td>0.374933</td>\n",
       "      <td>3.617528</td>\n",
       "      <td>1</td>\n",
       "      <td>NNDSP</td>\n",
       "      <td>0.634474</td>\n",
       "      <td>8574.626953</td>\n",
       "      <td>3.196221</td>\n",
       "      <td>3.525169</td>\n",
       "      <td>3.623307</td>\n",
       "      <td>...</td>\n",
       "      <td>999.297913</td>\n",
       "      <td>999.996094</td>\n",
       "      <td>155860.0</td>\n",
       "      <td>927.353989</td>\n",
       "      <td>1068.836938</td>\n",
       "      <td>43.263741</td>\n",
       "      <td>0.192762</td>\n",
       "      <td>0.516845</td>\n",
       "      <td>0.550855</td>\n",
       "      <td>0.458206</td>\n",
       "    </tr>\n",
       "  </tbody>\n",
       "</table>\n",
       "<p>5 rows × 75 columns</p>\n",
       "</div>"
      ],
      "text/plain": [
       "   acq_id       cjv       cnr  data_class dataset       efc          fber  \\\n",
       "0     0.0  0.450745  2.966345           1   NNDSP  0.731650  26904.433594   \n",
       "1     0.0  0.597186  2.285747           1   NNDSP  0.738215  25883.199219   \n",
       "2     0.0  0.325163  4.105503           1   NNDSP  0.715936  22670.064453   \n",
       "3     0.0  0.331401  4.022244           1   NNDSP  0.731355  30989.095703   \n",
       "4     0.0  0.374933  3.617528           1   NNDSP  0.634474   8574.626953   \n",
       "\n",
       "   fwhm_avg    fwhm_x    fwhm_y    ...     summary_wm_mean  summary_wm_median  \\\n",
       "0  3.339224  3.681080  3.748546    ...         1000.574402        1000.011963   \n",
       "1  3.400049  3.794461  3.804922    ...         1001.480408        1000.007324   \n",
       "2  3.143957  3.302560  3.607913    ...         1000.676392        1000.012146   \n",
       "3  3.051045  3.257622  3.420898    ...         1000.772400        1000.005615   \n",
       "4  3.196221  3.525169  3.623307    ...          999.297913         999.996094   \n",
       "\n",
       "   summary_wm_n  summary_wm_p05  summary_wm_p95  summary_wm_stdv  \\\n",
       "0      197615.0      921.248688     1081.648413        49.010384   \n",
       "1      197970.0      924.199457     1084.025879        49.015297   \n",
       "2      161564.0      906.751019     1096.440839        57.998871   \n",
       "3      170270.0      908.286295     1095.220068        57.538391   \n",
       "4      155860.0      927.353989     1068.836938        43.263741   \n",
       "\n",
       "   tpm_overlap_csf  tpm_overlap_gm  tpm_overlap_wm    wm2max  \n",
       "0         0.222196        0.505360        0.562915  0.424826  \n",
       "1         0.213160        0.493546        0.555361  0.398110  \n",
       "2         0.202775        0.545467        0.515358  0.378795  \n",
       "3         0.199213        0.536563        0.520068  0.380536  \n",
       "4         0.192762        0.516845        0.550855  0.458206  \n",
       "\n",
       "[5 rows x 75 columns]"
      ]
     },
     "execution_count": 114,
     "metadata": {},
     "output_type": "execute_result"
    }
   ],
   "source": [
    "df_all = pd.concat([df_nndsp, df_nki, df_sald], axis=0, join='outer')\n",
    "df_all.head()"
   ]
  },
  {
   "cell_type": "code",
   "execution_count": null,
   "metadata": {
    "collapsed": true
   },
   "outputs": [],
   "source": [
    "import statsmodels as sm\n",
    "import statsmodels.regression.mixed_linear_model as smf\n",
    "\n",
    "temp = smf.MixedLM()\n",
    "\n",
    "print(mdf.summary())"
   ]
  }
 ],
 "metadata": {
  "kernelspec": {
   "display_name": "Python 3",
   "language": "python",
   "name": "python3"
  },
  "language_info": {
   "codemirror_mode": {
    "name": "ipython",
    "version": 3
   },
   "file_extension": ".py",
   "mimetype": "text/x-python",
   "name": "python",
   "nbconvert_exporter": "python",
   "pygments_lexer": "ipython3",
   "version": "3.6.1"
  },
  "toc": {
   "colors": {
    "hover_highlight": "#DAA520",
    "running_highlight": "#FF0000",
    "selected_highlight": "#FFD700"
   },
   "moveMenuLeft": true,
   "nav_menu": {
    "height": "66px",
    "width": "252px"
   },
   "navigate_menu": true,
   "number_sections": true,
   "sideBar": true,
   "threshold": 4,
   "toc_cell": false,
   "toc_section_display": "block",
   "toc_window_display": true,
   "widenNotebook": false
  }
 },
 "nbformat": 4,
 "nbformat_minor": 2
}
