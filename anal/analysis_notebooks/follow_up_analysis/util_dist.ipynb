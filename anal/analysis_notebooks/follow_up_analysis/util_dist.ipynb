{
 "cells": [
  {
   "cell_type": "markdown",
   "metadata": {},
   "source": [
    "# Matching Distributions"
   ]
  },
  {
   "cell_type": "markdown",
   "metadata": {},
   "source": [
    "## Probability Distribution"
   ]
  },
  {
   "cell_type": "code",
   "execution_count": 1,
   "metadata": {
    "collapsed": true
   },
   "outputs": [],
   "source": [
    "def get_pdf(data):\n",
    "    from scipy.stats.kde import gaussian_kde\n",
    "    from numpy import linspace\n",
    "    \n",
    "    kde = gaussian_kde(data)\n",
    "\n",
    "    return kde"
   ]
  },
  {
   "cell_type": "markdown",
   "metadata": {},
   "source": [
    "## Plot Probability Distribution"
   ]
  },
  {
   "cell_type": "code",
   "execution_count": 2,
   "metadata": {
    "collapsed": true
   },
   "outputs": [],
   "source": [
    "def plot_pdf(data, label='', x_axis=''):\n",
    "    from scipy.stats.kde import gaussian_kde\n",
    "    from numpy import linspace\n",
    "    \n",
    "    # create two subplots\n",
    "    fig, axs = plt.subplots(1, 2)\n",
    "    fig.suptitle(\"Probability Distribution and Historgram \"+label)\n",
    "    \n",
    "    #create the kernel, which estimates the probability over the values in the array\n",
    "    kde = gaussian_kde(data)\n",
    "    \n",
    "    #these are the values over wich your kernel will be evaluated\n",
    "    dist_space = linspace(min(data),max(data), 100)\n",
    "\n",
    "    # plot the results\n",
    "    axs[0].plot(dist_space, kde(dist_space))\n",
    "    axs[0].set_ylabel('probability')\n",
    "    axs[0].set_xlabel(x_axis)\n",
    "    axs[1].hist(data)\n",
    "    axs[1].set_ylabel('histogram')\n",
    "    axs[1].set_xlabel('x_axis')\n",
    "    plt.show()"
   ]
  },
  {
   "cell_type": "markdown",
   "metadata": {},
   "source": [
    "## Find Rough Distribution"
   ]
  },
  {
   "cell_type": "code",
   "execution_count": 5,
   "metadata": {
    "collapsed": true
   },
   "outputs": [],
   "source": [
    "def get_dist(df, var='age', bucket_size=5, to_print=False):\n",
    "    import math\n",
    "    \n",
    "    # create an array that holds the counts of different age groups in bucket_size \n",
    "    arr = [];\n",
    "    for x in range(0,100,bucket_size):\n",
    "        arr.append(0)\n",
    "    \n",
    "    # go through the data, look at each age and update counter for that age group\n",
    "    for x in df[var]:\n",
    "        index = math.floor(x/bucket_size)\n",
    "        arr[index] = arr[index] + 1;\n",
    "\n",
    "    if to_print:\n",
    "        age = 0;\n",
    "        # print the array\n",
    "        for x in arr:\n",
    "            print(str(age) + \"-\" + str(age+bucket_size), \": \", x)\n",
    "            age = age + bucket_size\n",
    "    \n",
    "    return arr"
   ]
  },
  {
   "cell_type": "markdown",
   "metadata": {},
   "source": [
    "## New Distribution Size"
   ]
  },
  {
   "cell_type": "code",
   "execution_count": 6,
   "metadata": {
    "collapsed": true
   },
   "outputs": [],
   "source": [
    "def find_new_len(len_df_one, dist_one, len_df_two, dist_two):\n",
    "    import math \n",
    "    \n",
    "    new_len = len_df_one\n",
    "\n",
    "    for precision in np.arange(1, 0, -0.05):\n",
    "        new_len = len_df_one\n",
    "        for i in range(len(dist_one)):\n",
    "            if dist_one[i] < (new_len*dist_two[i]/len_df_two)*precision:\n",
    "                if dist_one[i] != 0:\n",
    "                    new_len = math.floor(dist_one[i]*len_df_two/dist_two[i])\n",
    "                else:\n",
    "                    new_len = new_len - (new_len*dist_two[i]/len_df_two)\n",
    "        if new_len >= 50:\n",
    "            print(\"New Length: \", new_len, \" with Precision: \", precision)\n",
    "            break\n",
    "            \n",
    "    return new_len"
   ]
  },
  {
   "cell_type": "markdown",
   "metadata": {},
   "source": [
    "## Match Distributions"
   ]
  },
  {
   "cell_type": "code",
   "execution_count": 7,
   "metadata": {
    "collapsed": true
   },
   "outputs": [],
   "source": [
    "def match_dist(df_to, df_from, var='age', var_1 = 'subject', bucket_size=3, new_len=None):\n",
    "    import math \n",
    "    \n",
    "    df_new = pd.DataFrame([])\n",
    "    \n",
    "    # sort the dataframes\n",
    "    df_to = df_to.sort_values(by=var)\n",
    "    df_from = df_from.sort_values(by=var)\n",
    "    \n",
    "    # get the distributions from both\n",
    "    dist_to = get_dist(df_to, bucket_size=bucket_size)\n",
    "    dist_from = get_dist(df_from, bucket_size=bucket_size)\n",
    "    \n",
    "    index = 0\n",
    "    i = 0\n",
    "    rand_subj = []\n",
    "    \n",
    "    if new_len:\n",
    "        df_new_length = new_len\n",
    "    else:\n",
    "        # calculate the size of the new dataset that would allow for the same distribution as the dataset being mimicked\n",
    "        df_new_length = find_new_len(len(df_to), dist_to, len(df_from), dist_from)\n",
    "    \n",
    "    # go through the number of subjects in the age range of the resampling data\n",
    "    for x in np.arange(0, 100, bucket_size):\n",
    "        subj_bucket = []\n",
    "        \n",
    "        # get all the subjects in the age range of the resampling data\n",
    "        for j in range(dist_to[i]):\n",
    "            subj_bucket.append((df_to[var_1])[index+j])\n",
    "        \n",
    "        index = index + dist_to[i]\n",
    "        \n",
    "        # get the number of subjects in the data that is being mimicked\n",
    "        num_rand = math.floor(df_new_length * (dist_from[i]/len(df_from)))\n",
    "        #print(len(subj_bucket), num_rand)\n",
    "        \n",
    "        if not len(subj_bucket) == 0:\n",
    "            # choose random subjects from subject bucket\n",
    "            # the number of random subjects chosen depends on the distributions\n",
    "            rand_subj = []\n",
    "            \n",
    "            if dist_to[i] < num_rand:\n",
    "                rand_subj = np.random.choice(subj_bucket, size=dist_to[i], replace=False)\n",
    "            else:\n",
    "                rand_subj = np.random.choice(subj_bucket, size=num_rand, replace=False)\n",
    "        \n",
    "        for sub in rand_subj:\n",
    "                temp = pd.DataFrame(df_to[df_to[var_1] == sub])\n",
    "                df_new = pd.concat([df_new, df_to[df_to[var_1] == sub]])\n",
    "\n",
    "        # increment index for age distribution array\n",
    "        i = i+1\n",
    "    \n",
    "    return df_new"
   ]
  },
  {
   "cell_type": "code",
   "execution_count": 8,
   "metadata": {
    "collapsed": true
   },
   "outputs": [],
   "source": [
    "def sample(df_to, df_from, title_to='', title_from='', var='age', var_1='subject', bucket_size=3, new_len = None):\n",
    "    from scipy import stats\n",
    "\n",
    "    plot_pdf(df_from[var], title_from, var)\n",
    "    plot_pdf(df_to[var], title_to , var)\n",
    "    \n",
    "    # sample from original\n",
    "    df_sample = match_dist(df_to, df_from, bucket_size = bucket_size, new_len = new_len)\n",
    "    print(\"Actual Length: \", len(df_sample))\n",
    "    \n",
    "    # plot new probability density function\n",
    "    plot_pdf(df_sample[var], title_to + \":\" + title_from, var)\n",
    "    \n",
    "    # test if the two distributions would be the same\n",
    "    print(\"stats: \", stats.ks_2samp(df_sample[var], df_from[var]))\n",
    "    \n",
    "    return df_sample"
   ]
  }
 ],
 "metadata": {
  "kernelspec": {
   "display_name": "Python 3",
   "language": "python",
   "name": "python3"
  },
  "language_info": {
   "codemirror_mode": {
    "name": "ipython",
    "version": 3
   },
   "file_extension": ".py",
   "mimetype": "text/x-python",
   "name": "python",
   "nbconvert_exporter": "python",
   "pygments_lexer": "ipython3",
   "version": "3.6.6"
  },
  "toc": {
   "colors": {
    "hover_highlight": "#DAA520",
    "running_highlight": "#FF0000",
    "selected_highlight": "#FFD700"
   },
   "moveMenuLeft": true,
   "nav_menu": {
    "height": "120px",
    "width": "252px"
   },
   "navigate_menu": true,
   "number_sections": true,
   "sideBar": true,
   "threshold": 4,
   "toc_cell": false,
   "toc_section_display": "block",
   "toc_window_display": false,
   "widenNotebook": false
  }
 },
 "nbformat": 4,
 "nbformat_minor": 2
}
