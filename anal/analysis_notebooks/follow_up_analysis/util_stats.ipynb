{
 "cells": [
  {
   "cell_type": "markdown",
   "metadata": {},
   "source": [
    "# Chance Performance"
   ]
  },
  {
   "cell_type": "markdown",
   "metadata": {},
   "source": [
    "## Random age picks"
   ]
  },
  {
   "cell_type": "code",
   "execution_count": 17,
   "metadata": {},
   "outputs": [],
   "source": [
    "def random_its(num_its, df_random_ages, subject_ages):\n",
    "    import random\n",
    "    import pandas as pd\n",
    "    \n",
    "    # generate 1000 iterations of random ages\n",
    "    for i in range(num_its):\n",
    "        rand_age = []\n",
    "        for sub in range(len(df_random_ages)):\n",
    "            rand_indx = random.randrange(0, len(subject_ages))\n",
    "            rand_age.append(subject_ages[rand_indx])\n",
    "        df_temp = pd.DataFrame(rand_age)\n",
    "        df_temp.columns = [str(i+1)]\n",
    "        df_random_ages = pd.concat([df_random_ages, df_temp], axis=1)\n",
    "        \n",
    "        if i%100 == 0:\n",
    "            print(i)\n",
    "    \n",
    "    return df_random_ages"
   ]
  },
  {
   "cell_type": "markdown",
   "metadata": {},
   "source": [
    "## MAE of random ages"
   ]
  },
  {
   "cell_type": "code",
   "execution_count": 3,
   "metadata": {
    "collapsed": true
   },
   "outputs": [],
   "source": [
    "def get_arr_mae(df_random_ages, subject_ages):\n",
    "    # calculate MAE for each random prediction\n",
    "    # test mean absolute error\n",
    "    from sklearn.metrics import mean_absolute_error, r2_score\n",
    "\n",
    "    arr_mae = []\n",
    "    for i in range(1, df_random_ages.shape[1]):\n",
    "        arr_mae.append(mean_absolute_error(subject_ages, df_random_ages[str(i)]))\n",
    "    \n",
    "    return arr_mae"
   ]
  },
  {
   "cell_type": "markdown",
   "metadata": {},
   "source": [
    "## Get random ages and MAE"
   ]
  },
  {
   "cell_type": "code",
   "execution_count": 10,
   "metadata": {
    "collapsed": true
   },
   "outputs": [],
   "source": [
    "def random_ages(df):\n",
    "    import pandas as pd\n",
    "    # get all the subject ages\n",
    "    print(\"Picking Random Ages\")\n",
    "    random_ages = pd.DataFrame(df.subject, columns = [['subject']])\n",
    "    random_ages = random_its(1000, random_ages, df.age)\n",
    "    \n",
    "    Print(\"Calculating Mean Absolute Errors\")\n",
    "    mae = get_arr_mae(random_ages, df.age)\n",
    "    \n",
    "    return mae"
   ]
  },
  {
   "cell_type": "markdown",
   "metadata": {},
   "source": [
    "## Plot random age historgram"
   ]
  },
  {
   "cell_type": "code",
   "execution_count": 13,
   "metadata": {
    "collapsed": true
   },
   "outputs": [],
   "source": [
    "def plot_rand_hist(mae, lines=None, xlim_min=0, x_max = None, title=\"\", set_context='notebook', fig_tuple=(5,5), legend=True):\n",
    "    \n",
    "    if not x_max:\n",
    "        x_max = max(mae)\n",
    "    \n",
    "    # plot MAE Distribution\n",
    "    import matplotlib.pyplot as plt\n",
    "    import numpy as np\n",
    "    import matplotlib.mlab as mlab\n",
    "    import seaborn as sns\n",
    "    \n",
    "    sns.set_context(set_context, font_scale=1.2)\n",
    "    # plotting the Histogram\n",
    "    plt.figure(1)\n",
    "    plt.figure(figsize=fig_tuple)\n",
    "    plt.hist(mae, normed = True, label='Random MAE Distribution')\n",
    "    plt.xlim(xlim_min, x_max)\n",
    "    plt.xlabel(\"Mean Absolute Error\")\n",
    "    #plt.ylabel(\"Percentage of mean absolute error in each group\")\n",
    "\n",
    "    colors = ['g', 'k', 'c', 'm', 'y']\n",
    "    color_counter = 0\n",
    "    \n",
    "    if lines:\n",
    "        for key, x in lines.items():\n",
    "            # plot MAE complex\n",
    "            plt.axvline(x, ymax=1, label=key, color=colors[color_counter])\n",
    "            color_counter+=1\n",
    "    \n",
    "    plt.title(title)\n",
    "    \n",
    "    if legend:\n",
    "        plt.legend(loc='best')\n",
    "        \n",
    "    plt.show()"
   ]
  },
  {
   "cell_type": "markdown",
   "metadata": {},
   "source": [
    "## Percentile"
   ]
  },
  {
   "cell_type": "code",
   "execution_count": 15,
   "metadata": {
    "collapsed": true
   },
   "outputs": [],
   "source": [
    "def percentile(mae, x):\n",
    "    # Calculating Percentile of Score of Complex Model\n",
    "    from scipy.stats import percentileofscore\n",
    "\n",
    "    percentile_mae = percentileofscore(mae, x)\n",
    "    return percentile_mae"
   ]
  },
  {
   "cell_type": "code",
   "execution_count": 14,
   "metadata": {
    "collapsed": true
   },
   "outputs": [],
   "source": [
    "def get_percentile(mae, lines, data=''):\n",
    "    for title, x in lines.items():\n",
    "        print(\"Percentile of \" + data + \" for \" + title, percentile(mae,x))"
   ]
  }
 ],
 "metadata": {
  "kernelspec": {
   "display_name": "Python 3",
   "language": "python",
   "name": "python3"
  },
  "language_info": {
   "codemirror_mode": {
    "name": "ipython",
    "version": 3
   },
   "file_extension": ".py",
   "mimetype": "text/x-python",
   "name": "python",
   "nbconvert_exporter": "python",
   "pygments_lexer": "ipython3",
   "version": "3.6.1"
  },
  "toc": {
   "colors": {
    "hover_highlight": "#DAA520",
    "running_highlight": "#FF0000",
    "selected_highlight": "#FFD700"
   },
   "moveMenuLeft": true,
   "nav_menu": {
    "height": "12px",
    "width": "252px"
   },
   "navigate_menu": true,
   "number_sections": true,
   "sideBar": true,
   "threshold": 4,
   "toc_cell": false,
   "toc_section_display": "block",
   "toc_window_display": false,
   "widenNotebook": false
  }
 },
 "nbformat": 4,
 "nbformat_minor": 2
}
