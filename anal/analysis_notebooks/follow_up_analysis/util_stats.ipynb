{
 "cells": [
  {
   "cell_type": "markdown",
   "metadata": {},
   "source": [
    "# Chance Performance"
   ]
  },
  {
   "cell_type": "markdown",
   "metadata": {},
   "source": [
    "## Random age picks"
   ]
  },
  {
   "cell_type": "code",
   "execution_count": 5,
   "metadata": {},
   "outputs": [],
   "source": [
    "def random_its(num_its, df_random_ages, subject_ages):\n",
    "    import random\n",
    "    import pandas as pd\n",
    "    \n",
    "    ages = {}\n",
    "    # generate 1000 iterations of random ages\n",
    "    for i in range(num_its):\n",
    "        rand_age = []\n",
    "        for sub in range(len(df_random_ages)):\n",
    "            rand_indx = random.randrange(0, len(subject_ages))\n",
    "            rand_age.append(subject_ages[rand_indx])\n",
    "        ages[str(i+1)] = rand_age\n",
    "        #df_temp = pd.DataFrame(rand_age)\n",
    "        #df_temp.columns = [str(i+1)]\n",
    "        #df_random_ages = pd.concat([df_random_ages, df_temp], axis=1)\n",
    "        \n",
    "        if(i%100 == 0):\n",
    "            print(i)\n",
    "    \n",
    "    df_random_ages = pd.DataFrame(ages)\n",
    "    \n",
    "    return df_random_ages"
   ]
  },
  {
   "cell_type": "markdown",
   "metadata": {},
   "source": [
    "## MAE of random ages"
   ]
  },
  {
   "cell_type": "code",
   "execution_count": 4,
   "metadata": {},
   "outputs": [],
   "source": [
    "def get_arr_mae(df_random_ages, subject_ages):\n",
    "    # calculate MAE for each random prediction\n",
    "    # test mean absolute error\n",
    "    from sklearn.metrics import mean_absolute_error, r2_score\n",
    "\n",
    "    arr_mae = []\n",
    "    for i in range(1, df_random_ages.shape[1]):\n",
    "        arr_mae.append(mean_absolute_error(subject_ages, df_random_ages[str(i)]))\n",
    "    \n",
    "    return arr_mae"
   ]
  },
  {
   "cell_type": "markdown",
   "metadata": {},
   "source": [
    "## Get random ages and MAE"
   ]
  },
  {
   "cell_type": "code",
   "execution_count": 3,
   "metadata": {},
   "outputs": [],
   "source": [
    "def random_ages(df):\n",
    "    import pandas as pd\n",
    "    # get all the subject ages\n",
    "    print(\"Picking Random Ages\")\n",
    "    random_ages = pd.DataFrame(df.subject.values, columns = [['subject']])\n",
    "    random_ages = random_its(1000, random_ages, df.age)\n",
    "    \n",
    "    print(\"Calculating Mean Absolute Errors\")\n",
    "    mae = get_arr_mae(random_ages, df.age)\n",
    "    \n",
    "    return mae"
   ]
  },
  {
   "cell_type": "markdown",
   "metadata": {},
   "source": [
    "## Plot random age historgram"
   ]
  },
  {
   "cell_type": "code",
   "execution_count": 3,
   "metadata": {},
   "outputs": [],
   "source": [
    "def plot_rand_hist(mae, lines=None, xlim_min=0, x_max = None, title=\"\", set_context='notebook', fig_tuple=(5,5), legend=True):\n",
    "    \n",
    "#     if not x_max:\n",
    "#         x_max = max(mae)\n",
    "    \n",
    "    # plot MAE Distribution\n",
    "    import matplotlib.pyplot as plt\n",
    "    import numpy as np\n",
    "    import matplotlib.mlab as mlab\n",
    "    import seaborn as sns\n",
    "    \n",
    "    sns.set_context(set_context, font_scale=1.2)\n",
    "    # plotting the Histogram\n",
    "    plt.figure(1)\n",
    "    plt.figure(figsize=fig_tuple)\n",
    "    plt.hist(mae, normed = True, label='Random MAE Distribution')\n",
    "    plt.xlim(xlim_min, x_max)\n",
    "    plt.xlabel(\"Mean Absolute Error\")\n",
    "    #plt.ylabel(\"Percentage of mean absolute error in each group\")\n",
    "\n",
    "    colors = ['darkblue', 'slateblue', 'rebeccapurple', 'darkviolet', 'violet', 'fuchsia', 'deeppink', 'crimson']\n",
    "    color_counter = 0\n",
    "    \n",
    "    if lines:\n",
    "        for key, x in lines.items():\n",
    "            # plot MAE complex\n",
    "            plt.axvline(x, ymax=1, label=key, color=colors[color_counter])\n",
    "            color_counter+=1\n",
    "    \n",
    "    plt.title(title)\n",
    "    \n",
    "    if legend:\n",
    "        plt.legend(loc='best')\n",
    "        \n",
    "    plt.show()"
   ]
  },
  {
   "cell_type": "markdown",
   "metadata": {},
   "source": [
    "## Percentile"
   ]
  },
  {
   "cell_type": "code",
   "execution_count": 15,
   "metadata": {
    "collapsed": true
   },
   "outputs": [],
   "source": [
    "def percentile(mae, x):\n",
    "    # Calculating Percentile of Score of Complex Model\n",
    "    from scipy.stats import percentileofscore\n",
    "\n",
    "    percentile_mae = percentileofscore(mae, x)\n",
    "    return percentile_mae"
   ]
  },
  {
   "cell_type": "code",
   "execution_count": 14,
   "metadata": {
    "collapsed": true
   },
   "outputs": [],
   "source": [
    "def get_percentile(mae, lines, data=''):\n",
    "    for title, x in lines.items():\n",
    "        print(\"Percentile of \" + data + \" for \" + title, percentile(mae,x))"
   ]
  },
  {
   "cell_type": "markdown",
   "metadata": {},
   "source": [
    "## Games Howell"
   ]
  },
  {
   "cell_type": "code",
   "execution_count": 2,
   "metadata": {},
   "outputs": [],
   "source": [
    "def games_howell(group1, group2):\n",
    "    import math\n",
    "    from statsmodels.stats.multicomp import pairwise_tukeyhsd\n",
    "    from statsmodels.stats.multicomp import MultiComparison\n",
    "    import rpy2 as rpy2\n",
    "    import rpy2.robjects as ro\n",
    "\n",
    "    mean_diff = abs(np.mean(group1) - np.mean(group2))\n",
    "    s1 = np.var(group1)\n",
    "    s2 = np.var(group2)\n",
    "    \n",
    "    ss_sums = ((s1**2)/(len(group1)))+((s2**2)/(len(group2)))\n",
    "    sigma = math.sqrt(0.5*ss_sums)\n",
    "    v = (ss_sums**2)/((((s1**2/len(group1))**2)/(len(group1)-1))+(((s2**2/len(group2))**2)/(len(group2)-1)))\n",
    "    t = mean_diff/math.sqrt(ss_sums)\n",
    "    \n",
    "    ro.r.assign('rt', t)\n",
    "    ro.r.assign('groups', 2)\n",
    "    ro.r.assign('df', v)\n",
    "    p = ro.r('p <- ptukey(rt * sqrt(2), groups, df, lower.tail = FALSE)')\n",
    "    #ro.r('print(p)')\n",
    "    return p"
   ]
  }
 ],
 "metadata": {
  "kernelspec": {
   "display_name": "Python 3",
   "language": "python",
   "name": "python3"
  },
  "language_info": {
   "codemirror_mode": {
    "name": "ipython",
    "version": 3
   },
   "file_extension": ".py",
   "mimetype": "text/x-python",
   "name": "python",
   "nbconvert_exporter": "python",
   "pygments_lexer": "ipython3",
   "version": "3.6.6"
  },
  "toc": {
   "colors": {
    "hover_highlight": "#DAA520",
    "running_highlight": "#FF0000",
    "selected_highlight": "#FFD700"
   },
   "moveMenuLeft": true,
   "nav_menu": {
    "height": "12px",
    "width": "252px"
   },
   "navigate_menu": true,
   "number_sections": true,
   "sideBar": true,
   "threshold": 4,
   "toc_cell": false,
   "toc_section_display": "block",
   "toc_window_display": false,
   "widenNotebook": false
  }
 },
 "nbformat": 4,
 "nbformat_minor": 2
}
