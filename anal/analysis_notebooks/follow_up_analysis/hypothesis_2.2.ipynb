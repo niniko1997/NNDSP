{
 "cells": [
  {
   "cell_type": "markdown",
   "metadata": {},
   "source": [
    "# Hypothesis 2.2"
   ]
  },
  {
   "cell_type": "markdown",
   "metadata": {},
   "source": [
    "## Setup"
   ]
  },
  {
   "cell_type": "code",
   "execution_count": 1,
   "metadata": {
    "collapsed": true
   },
   "outputs": [],
   "source": [
    "from pathlib import Path\n",
    "import pandas as pd\n",
    "import numpy as np\n",
    "import subprocess\n",
    "from datetime import date\n",
    "import re\n",
    "import matplotlib.pyplot as plt\n",
    "import seaborn as sns\n",
    "from glob import glob"
   ]
  },
  {
   "cell_type": "code",
   "execution_count": 2,
   "metadata": {
    "collapsed": true
   },
   "outputs": [],
   "source": [
    "# project directory\n",
    "project_dir = Path('/data/NNDSP')\n",
    "\n",
    "# NNDSP data directories\n",
    "nndsp_bids_dir = Path('/data/NNDSP/bids_2017_07_14_generic')\n",
    "nndsp_fs_dir = Path('/data/NNDSP/derivatives/fs5.3_subj')\n",
    "nndsp_bar_dir = Path('/data/NNDSP/derivatives/bar_subj')\n",
    "nndsp_pheno_file = Path('/data/NNDSP/anal/analysis_notebooks/phenotype_files/NNDSP_famid.csv')\n",
    "\n",
    "# HCP data directories\n",
    "hcp_bids_dir = Path('/data/HCP/HCP_900/s3/hcp')\n",
    "hcp_fs_dir = Path('/data/NNDSP/derivatives/fs_hcp_subj')\n",
    "hcp_bar_dir = Path('/data/NNDSP/derivatives/bar_hcp_subj')\n",
    "hcp_pheno_file = Path('/data/NNDSP/nino/HCP_ages.csv')\n",
    "\n",
    "# NKI data directories\n",
    "nki_bids_dir = Path('/data/NNDSP/anal/NKI')\n",
    "nki_fs_dir = Path('/data/NNDSP/derivatives/fs_nki_subj')\n",
    "nki_bar_dir = Path('/data/NNDSP/derivatives/bar_nki_subj')\n",
    "nki_pheno_file = Path('/data/NNDSP/anal/analysis_notebooks/phenotype_files/participants.tsv')\n",
    "\n",
    "# CoRR data directories\n",
    "corr_bids_dir = Path('/data/DSST/CoRR/bids_corr')\n",
    "corr_fs_dir = Path('/data/DSST/CoRR/fs_corr')\n",
    "corr_bar_dir = Path('/data/DSST/CoRR/bar_corr/baracus')\n",
    "corr_pheno_file = Path('/data/DSST/CoRR/phenotype_files/corr_ages.csv')\n",
    "\n",
    "# SALD data directories\n",
    "sald_bids_dir = Path('/data/DSST/SALD/bids_sald')\n",
    "sald_fs_dir = Path('/data/DSST/SALD/fs_sald')\n",
    "sald_bar_dir = Path('/data/DSST/SALD/bar_sald/baracus')\n",
    "sald_pheno_file = Path('/data/DSST/SALD/phenotype_files/sub_information.xlsx')"
   ]
  },
  {
   "cell_type": "markdown",
   "metadata": {},
   "source": [
    "## Subject Data"
   ]
  },
  {
   "cell_type": "code",
   "execution_count": 3,
   "metadata": {
    "collapsed": true
   },
   "outputs": [],
   "source": [
    "%run /data/NNDSP/anal/analysis_notebooks/follow_up_analysis/util_setup.ipynb"
   ]
  },
  {
   "cell_type": "markdown",
   "metadata": {},
   "source": [
    "### NNDSP"
   ]
  },
  {
   "cell_type": "code",
   "execution_count": 4,
   "metadata": {},
   "outputs": [
    {
     "data": {
      "text/html": [
       "<div>\n",
       "<table border=\"1\" class=\"dataframe\">\n",
       "  <thead>\n",
       "    <tr style=\"text-align: right;\">\n",
       "      <th></th>\n",
       "      <th>subj_paths</th>\n",
       "      <th>subject</th>\n",
       "      <th>MRN</th>\n",
       "      <th>nuclear_fam_id</th>\n",
       "      <th>Sex</th>\n",
       "      <th>age</th>\n",
       "    </tr>\n",
       "  </thead>\n",
       "  <tbody>\n",
       "    <tr>\n",
       "      <th>0</th>\n",
       "      <td>/data/NNDSP/derivatives/fs5.3_subj/sub-1889</td>\n",
       "      <td>1889</td>\n",
       "      <td>7135075</td>\n",
       "      <td>10230</td>\n",
       "      <td>Female</td>\n",
       "      <td>9.667351</td>\n",
       "    </tr>\n",
       "    <tr>\n",
       "      <th>1</th>\n",
       "      <td>/data/NNDSP/derivatives/fs5.3_subj/sub-2011</td>\n",
       "      <td>2011</td>\n",
       "      <td>7078997</td>\n",
       "      <td>10109</td>\n",
       "      <td>Male</td>\n",
       "      <td>18.310746</td>\n",
       "    </tr>\n",
       "    <tr>\n",
       "      <th>2</th>\n",
       "      <td>/data/NNDSP/derivatives/fs5.3_subj/sub-1948</td>\n",
       "      <td>1948</td>\n",
       "      <td>4571265</td>\n",
       "      <td>1854</td>\n",
       "      <td>Female</td>\n",
       "      <td>14.269678</td>\n",
       "    </tr>\n",
       "    <tr>\n",
       "      <th>3</th>\n",
       "      <td>/data/NNDSP/derivatives/fs5.3_subj/sub-1198</td>\n",
       "      <td>1198</td>\n",
       "      <td>4359628</td>\n",
       "      <td>1613</td>\n",
       "      <td>Male</td>\n",
       "      <td>14.390144</td>\n",
       "    </tr>\n",
       "    <tr>\n",
       "      <th>4</th>\n",
       "      <td>/data/NNDSP/derivatives/fs5.3_subj/sub-1371</td>\n",
       "      <td>1371</td>\n",
       "      <td>7218874</td>\n",
       "      <td>10286</td>\n",
       "      <td>Male</td>\n",
       "      <td>16.621492</td>\n",
       "    </tr>\n",
       "  </tbody>\n",
       "</table>\n",
       "</div>"
      ],
      "text/plain": [
       "                                    subj_paths  subject      MRN  \\\n",
       "0  /data/NNDSP/derivatives/fs5.3_subj/sub-1889     1889  7135075   \n",
       "1  /data/NNDSP/derivatives/fs5.3_subj/sub-2011     2011  7078997   \n",
       "2  /data/NNDSP/derivatives/fs5.3_subj/sub-1948     1948  4571265   \n",
       "3  /data/NNDSP/derivatives/fs5.3_subj/sub-1198     1198  4359628   \n",
       "4  /data/NNDSP/derivatives/fs5.3_subj/sub-1371     1371  7218874   \n",
       "\n",
       "   nuclear_fam_id     Sex        age  \n",
       "0           10230  Female   9.667351  \n",
       "1           10109    Male  18.310746  \n",
       "2            1854  Female  14.269678  \n",
       "3            1613    Male  14.390144  \n",
       "4           10286    Male  16.621492  "
      ]
     },
     "execution_count": 4,
     "metadata": {},
     "output_type": "execute_result"
    }
   ],
   "source": [
    "# merge the subjects that we have fs and add subject number\n",
    "df_nndsp = nndsp_subjectdata(nndsp_fs_dir, nndsp_pheno_file)\n",
    "df_nndsp.head()"
   ]
  },
  {
   "cell_type": "markdown",
   "metadata": {},
   "source": [
    "### HCP"
   ]
  },
  {
   "cell_type": "code",
   "execution_count": 5,
   "metadata": {},
   "outputs": [
    {
     "data": {
      "text/html": [
       "<div>\n",
       "<table border=\"1\" class=\"dataframe\">\n",
       "  <thead>\n",
       "    <tr style=\"text-align: right;\">\n",
       "      <th></th>\n",
       "      <th>subj_paths</th>\n",
       "      <th>subject</th>\n",
       "      <th>age</th>\n",
       "      <th>HasGT</th>\n",
       "      <th>ZygositySR</th>\n",
       "      <th>ZygosityGT</th>\n",
       "      <th>Family_ID</th>\n",
       "      <th>Mother_ID</th>\n",
       "      <th>Father_ID</th>\n",
       "      <th>TestRetestInterval</th>\n",
       "      <th>...</th>\n",
       "      <th>SSAGA_Times_Used_Illicits</th>\n",
       "      <th>SSAGA_Times_Used_Cocaine</th>\n",
       "      <th>SSAGA_Times_Used_Hallucinogens</th>\n",
       "      <th>SSAGA_Times_Used_Opiates</th>\n",
       "      <th>SSAGA_Times_Used_Sedatives</th>\n",
       "      <th>SSAGA_Times_Used_Stimulants</th>\n",
       "      <th>SSAGA_Mj_Use</th>\n",
       "      <th>SSAGA_Mj_Ab_Dep</th>\n",
       "      <th>SSAGA_Mj_Age_1st_Use</th>\n",
       "      <th>SSAGA_Mj_Times_Used</th>\n",
       "    </tr>\n",
       "  </thead>\n",
       "  <tbody>\n",
       "    <tr>\n",
       "      <th>0</th>\n",
       "      <td>/data/NNDSP/derivatives/fs_hcp_subj/sub-749361</td>\n",
       "      <td>749361</td>\n",
       "      <td>29</td>\n",
       "      <td>True</td>\n",
       "      <td>NotTwin</td>\n",
       "      <td></td>\n",
       "      <td>52442_82285</td>\n",
       "      <td>52442</td>\n",
       "      <td>82285</td>\n",
       "      <td>NaN</td>\n",
       "      <td>...</td>\n",
       "      <td>0.0</td>\n",
       "      <td>0.0</td>\n",
       "      <td>0.0</td>\n",
       "      <td>0.0</td>\n",
       "      <td>0.0</td>\n",
       "      <td>0.0</td>\n",
       "      <td>1.0</td>\n",
       "      <td>0.0</td>\n",
       "      <td>3.0</td>\n",
       "      <td>1.0</td>\n",
       "    </tr>\n",
       "    <tr>\n",
       "      <th>1</th>\n",
       "      <td>/data/NNDSP/derivatives/fs_hcp_subj/sub-191942</td>\n",
       "      <td>191942</td>\n",
       "      <td>27</td>\n",
       "      <td>True</td>\n",
       "      <td>NotTwin</td>\n",
       "      <td></td>\n",
       "      <td>56029_85850</td>\n",
       "      <td>56029</td>\n",
       "      <td>85850</td>\n",
       "      <td>NaN</td>\n",
       "      <td>...</td>\n",
       "      <td>0.0</td>\n",
       "      <td>0.0</td>\n",
       "      <td>0.0</td>\n",
       "      <td>0.0</td>\n",
       "      <td>0.0</td>\n",
       "      <td>0.0</td>\n",
       "      <td>0.0</td>\n",
       "      <td>0.0</td>\n",
       "      <td>NaN</td>\n",
       "      <td>0.0</td>\n",
       "    </tr>\n",
       "    <tr>\n",
       "      <th>2</th>\n",
       "      <td>/data/NNDSP/derivatives/fs_hcp_subj/sub-983773</td>\n",
       "      <td>983773</td>\n",
       "      <td>28</td>\n",
       "      <td>True</td>\n",
       "      <td>NotTwin</td>\n",
       "      <td></td>\n",
       "      <td>52801_82622</td>\n",
       "      <td>52801</td>\n",
       "      <td>82622</td>\n",
       "      <td>NaN</td>\n",
       "      <td>...</td>\n",
       "      <td>0.0</td>\n",
       "      <td>0.0</td>\n",
       "      <td>0.0</td>\n",
       "      <td>0.0</td>\n",
       "      <td>0.0</td>\n",
       "      <td>0.0</td>\n",
       "      <td>0.0</td>\n",
       "      <td>0.0</td>\n",
       "      <td>NaN</td>\n",
       "      <td>0.0</td>\n",
       "    </tr>\n",
       "    <tr>\n",
       "      <th>3</th>\n",
       "      <td>/data/NNDSP/derivatives/fs_hcp_subj/sub-387959</td>\n",
       "      <td>387959</td>\n",
       "      <td>26</td>\n",
       "      <td>True</td>\n",
       "      <td>NotMZ</td>\n",
       "      <td></td>\n",
       "      <td>55795_85616</td>\n",
       "      <td>55795</td>\n",
       "      <td>85616</td>\n",
       "      <td>NaN</td>\n",
       "      <td>...</td>\n",
       "      <td>0.0</td>\n",
       "      <td>0.0</td>\n",
       "      <td>0.0</td>\n",
       "      <td>0.0</td>\n",
       "      <td>0.0</td>\n",
       "      <td>0.0</td>\n",
       "      <td>1.0</td>\n",
       "      <td>0.0</td>\n",
       "      <td>3.0</td>\n",
       "      <td>2.0</td>\n",
       "    </tr>\n",
       "    <tr>\n",
       "      <th>4</th>\n",
       "      <td>/data/NNDSP/derivatives/fs_hcp_subj/sub-193441</td>\n",
       "      <td>193441</td>\n",
       "      <td>28</td>\n",
       "      <td>True</td>\n",
       "      <td>NotTwin</td>\n",
       "      <td></td>\n",
       "      <td>52875_82697</td>\n",
       "      <td>52875</td>\n",
       "      <td>82697</td>\n",
       "      <td>NaN</td>\n",
       "      <td>...</td>\n",
       "      <td>0.0</td>\n",
       "      <td>0.0</td>\n",
       "      <td>0.0</td>\n",
       "      <td>0.0</td>\n",
       "      <td>0.0</td>\n",
       "      <td>0.0</td>\n",
       "      <td>0.0</td>\n",
       "      <td>0.0</td>\n",
       "      <td>NaN</td>\n",
       "      <td>0.0</td>\n",
       "    </tr>\n",
       "  </tbody>\n",
       "</table>\n",
       "<p>5 rows × 202 columns</p>\n",
       "</div>"
      ],
      "text/plain": [
       "                                       subj_paths  subject  age HasGT  \\\n",
       "0  /data/NNDSP/derivatives/fs_hcp_subj/sub-749361   749361   29  True   \n",
       "1  /data/NNDSP/derivatives/fs_hcp_subj/sub-191942   191942   27  True   \n",
       "2  /data/NNDSP/derivatives/fs_hcp_subj/sub-983773   983773   28  True   \n",
       "3  /data/NNDSP/derivatives/fs_hcp_subj/sub-387959   387959   26  True   \n",
       "4  /data/NNDSP/derivatives/fs_hcp_subj/sub-193441   193441   28  True   \n",
       "\n",
       "  ZygositySR ZygosityGT    Family_ID  Mother_ID  Father_ID  \\\n",
       "0    NotTwin             52442_82285      52442      82285   \n",
       "1    NotTwin             56029_85850      56029      85850   \n",
       "2    NotTwin             52801_82622      52801      82622   \n",
       "3      NotMZ             55795_85616      55795      85616   \n",
       "4    NotTwin             52875_82697      52875      82697   \n",
       "\n",
       "   TestRetestInterval         ...          SSAGA_Times_Used_Illicits  \\\n",
       "0                 NaN         ...                                0.0   \n",
       "1                 NaN         ...                                0.0   \n",
       "2                 NaN         ...                                0.0   \n",
       "3                 NaN         ...                                0.0   \n",
       "4                 NaN         ...                                0.0   \n",
       "\n",
       "  SSAGA_Times_Used_Cocaine  SSAGA_Times_Used_Hallucinogens  \\\n",
       "0                      0.0                             0.0   \n",
       "1                      0.0                             0.0   \n",
       "2                      0.0                             0.0   \n",
       "3                      0.0                             0.0   \n",
       "4                      0.0                             0.0   \n",
       "\n",
       "   SSAGA_Times_Used_Opiates  SSAGA_Times_Used_Sedatives  \\\n",
       "0                       0.0                         0.0   \n",
       "1                       0.0                         0.0   \n",
       "2                       0.0                         0.0   \n",
       "3                       0.0                         0.0   \n",
       "4                       0.0                         0.0   \n",
       "\n",
       "   SSAGA_Times_Used_Stimulants  SSAGA_Mj_Use  SSAGA_Mj_Ab_Dep  \\\n",
       "0                          0.0           1.0              0.0   \n",
       "1                          0.0           0.0              0.0   \n",
       "2                          0.0           0.0              0.0   \n",
       "3                          0.0           1.0              0.0   \n",
       "4                          0.0           0.0              0.0   \n",
       "\n",
       "   SSAGA_Mj_Age_1st_Use  SSAGA_Mj_Times_Used  \n",
       "0                   3.0                  1.0  \n",
       "1                   NaN                  0.0  \n",
       "2                   NaN                  0.0  \n",
       "3                   3.0                  2.0  \n",
       "4                   NaN                  0.0  \n",
       "\n",
       "[5 rows x 202 columns]"
      ]
     },
     "execution_count": 5,
     "metadata": {},
     "output_type": "execute_result"
    }
   ],
   "source": [
    "df_hcp = hcp_subjectdata(hcp_fs_dir, hcp_pheno_file)\n",
    "df_hcp.head()"
   ]
  },
  {
   "cell_type": "markdown",
   "metadata": {},
   "source": [
    "### NKI"
   ]
  },
  {
   "cell_type": "code",
   "execution_count": 6,
   "metadata": {},
   "outputs": [
    {
     "data": {
      "text/html": [
       "<div>\n",
       "<table border=\"1\" class=\"dataframe\">\n",
       "  <thead>\n",
       "    <tr style=\"text-align: right;\">\n",
       "      <th></th>\n",
       "      <th>subj_paths</th>\n",
       "      <th>subject</th>\n",
       "      <th>age</th>\n",
       "      <th>sex</th>\n",
       "      <th>handedness</th>\n",
       "    </tr>\n",
       "  </thead>\n",
       "  <tbody>\n",
       "    <tr>\n",
       "      <th>0</th>\n",
       "      <td>/data/NNDSP/derivatives/fs_nki_subj/sub-A00023510</td>\n",
       "      <td>A00023510</td>\n",
       "      <td>23.0</td>\n",
       "      <td>MALE</td>\n",
       "      <td>RIGHT</td>\n",
       "    </tr>\n",
       "    <tr>\n",
       "      <th>1</th>\n",
       "      <td>/data/NNDSP/derivatives/fs_nki_subj/sub-A00066...</td>\n",
       "      <td>A00066087</td>\n",
       "      <td>22.0</td>\n",
       "      <td>MALE</td>\n",
       "      <td>RIGHT</td>\n",
       "    </tr>\n",
       "    <tr>\n",
       "      <th>4</th>\n",
       "      <td>/data/NNDSP/derivatives/fs_nki_subj/sub-A00066...</td>\n",
       "      <td>A00066236</td>\n",
       "      <td>33.0</td>\n",
       "      <td>MALE</td>\n",
       "      <td>RIGHT</td>\n",
       "    </tr>\n",
       "    <tr>\n",
       "      <th>7</th>\n",
       "      <td>/data/NNDSP/derivatives/fs_nki_subj/sub-A00034350</td>\n",
       "      <td>A00034350</td>\n",
       "      <td>11.0</td>\n",
       "      <td>MALE</td>\n",
       "      <td>RIGHT</td>\n",
       "    </tr>\n",
       "    <tr>\n",
       "      <th>8</th>\n",
       "      <td>/data/NNDSP/derivatives/fs_nki_subj/sub-A00063003</td>\n",
       "      <td>A00063003</td>\n",
       "      <td>13.0</td>\n",
       "      <td>MALE</td>\n",
       "      <td>RIGHT</td>\n",
       "    </tr>\n",
       "  </tbody>\n",
       "</table>\n",
       "</div>"
      ],
      "text/plain": [
       "                                          subj_paths    subject   age   sex  \\\n",
       "0  /data/NNDSP/derivatives/fs_nki_subj/sub-A00023510  A00023510  23.0  MALE   \n",
       "1  /data/NNDSP/derivatives/fs_nki_subj/sub-A00066...  A00066087  22.0  MALE   \n",
       "4  /data/NNDSP/derivatives/fs_nki_subj/sub-A00066...  A00066236  33.0  MALE   \n",
       "7  /data/NNDSP/derivatives/fs_nki_subj/sub-A00034350  A00034350  11.0  MALE   \n",
       "8  /data/NNDSP/derivatives/fs_nki_subj/sub-A00063003  A00063003  13.0  MALE   \n",
       "\n",
       "  handedness  \n",
       "0      RIGHT  \n",
       "1      RIGHT  \n",
       "4      RIGHT  \n",
       "7      RIGHT  \n",
       "8      RIGHT  "
      ]
     },
     "execution_count": 6,
     "metadata": {},
     "output_type": "execute_result"
    }
   ],
   "source": [
    "df_nki = nki_subjectdata(nki_fs_dir, nki_pheno_file)\n",
    "df_nki.head()"
   ]
  },
  {
   "cell_type": "markdown",
   "metadata": {},
   "source": [
    "### CoRR"
   ]
  },
  {
   "cell_type": "code",
   "execution_count": 7,
   "metadata": {},
   "outputs": [
    {
     "data": {
      "text/html": [
       "<div>\n",
       "<table border=\"1\" class=\"dataframe\">\n",
       "  <thead>\n",
       "    <tr style=\"text-align: right;\">\n",
       "      <th></th>\n",
       "      <th>subj_paths</th>\n",
       "      <th>subject</th>\n",
       "      <th>Unnamed: 0</th>\n",
       "      <th>age</th>\n",
       "      <th>SEX</th>\n",
       "    </tr>\n",
       "  </thead>\n",
       "  <tbody>\n",
       "    <tr>\n",
       "      <th>1816</th>\n",
       "      <td>/data/DSST/CoRR/fs_corr/sub-0003001</td>\n",
       "      <td>3001</td>\n",
       "      <td>0</td>\n",
       "      <td>25</td>\n",
       "      <td>2</td>\n",
       "    </tr>\n",
       "    <tr>\n",
       "      <th>4159</th>\n",
       "      <td>/data/DSST/CoRR/fs_corr/sub-0003002</td>\n",
       "      <td>3002</td>\n",
       "      <td>2</td>\n",
       "      <td>23</td>\n",
       "      <td>1</td>\n",
       "    </tr>\n",
       "    <tr>\n",
       "      <th>4427</th>\n",
       "      <td>/data/DSST/CoRR/fs_corr/sub-0003004</td>\n",
       "      <td>3004</td>\n",
       "      <td>4</td>\n",
       "      <td>31</td>\n",
       "      <td>2</td>\n",
       "    </tr>\n",
       "    <tr>\n",
       "      <th>4077</th>\n",
       "      <td>/data/DSST/CoRR/fs_corr/sub-0003006</td>\n",
       "      <td>3006</td>\n",
       "      <td>6</td>\n",
       "      <td>23</td>\n",
       "      <td>1</td>\n",
       "    </tr>\n",
       "    <tr>\n",
       "      <th>131</th>\n",
       "      <td>/data/DSST/CoRR/fs_corr/sub-0003007</td>\n",
       "      <td>3007</td>\n",
       "      <td>8</td>\n",
       "      <td>43</td>\n",
       "      <td>2</td>\n",
       "    </tr>\n",
       "  </tbody>\n",
       "</table>\n",
       "</div>"
      ],
      "text/plain": [
       "                               subj_paths  subject  Unnamed: 0  age SEX\n",
       "1816  /data/DSST/CoRR/fs_corr/sub-0003001     3001           0   25   2\n",
       "4159  /data/DSST/CoRR/fs_corr/sub-0003002     3002           2   23   1\n",
       "4427  /data/DSST/CoRR/fs_corr/sub-0003004     3004           4   31   2\n",
       "4077  /data/DSST/CoRR/fs_corr/sub-0003006     3006           6   23   1\n",
       "131   /data/DSST/CoRR/fs_corr/sub-0003007     3007           8   43   2"
      ]
     },
     "execution_count": 7,
     "metadata": {},
     "output_type": "execute_result"
    }
   ],
   "source": [
    "df_corr = corr_subjectdata(corr_fs_dir, corr_pheno_file)\n",
    "df_corr.head()"
   ]
  },
  {
   "cell_type": "markdown",
   "metadata": {},
   "source": [
    "### SALD"
   ]
  },
  {
   "cell_type": "code",
   "execution_count": 8,
   "metadata": {},
   "outputs": [
    {
     "data": {
      "text/html": [
       "<div>\n",
       "<table border=\"1\" class=\"dataframe\">\n",
       "  <thead>\n",
       "    <tr style=\"text-align: right;\">\n",
       "      <th></th>\n",
       "      <th>subj_paths</th>\n",
       "      <th>subject</th>\n",
       "      <th>Sex</th>\n",
       "      <th>age</th>\n",
       "      <th>Sex.1</th>\n",
       "      <th>Edinburgh Handedness Inventory (EHI)</th>\n",
       "      <th>FunImg</th>\n",
       "      <th>T1Img</th>\n",
       "    </tr>\n",
       "  </thead>\n",
       "  <tbody>\n",
       "    <tr>\n",
       "      <th>98</th>\n",
       "      <td>/data/DSST/SALD/fs_sald/sub-031274</td>\n",
       "      <td>31274</td>\n",
       "      <td>F</td>\n",
       "      <td>72</td>\n",
       "      <td>1</td>\n",
       "      <td>100.0</td>\n",
       "      <td>1</td>\n",
       "      <td>1</td>\n",
       "    </tr>\n",
       "    <tr>\n",
       "      <th>28</th>\n",
       "      <td>/data/DSST/SALD/fs_sald/sub-031277</td>\n",
       "      <td>31277</td>\n",
       "      <td>F</td>\n",
       "      <td>60</td>\n",
       "      <td>1</td>\n",
       "      <td>100.0</td>\n",
       "      <td>1</td>\n",
       "      <td>1</td>\n",
       "    </tr>\n",
       "    <tr>\n",
       "      <th>95</th>\n",
       "      <td>/data/DSST/SALD/fs_sald/sub-031279</td>\n",
       "      <td>31279</td>\n",
       "      <td>M</td>\n",
       "      <td>62</td>\n",
       "      <td>2</td>\n",
       "      <td>100.0</td>\n",
       "      <td>1</td>\n",
       "      <td>1</td>\n",
       "    </tr>\n",
       "    <tr>\n",
       "      <th>29</th>\n",
       "      <td>/data/DSST/SALD/fs_sald/sub-031281</td>\n",
       "      <td>31281</td>\n",
       "      <td>F</td>\n",
       "      <td>65</td>\n",
       "      <td>1</td>\n",
       "      <td>NaN</td>\n",
       "      <td>1</td>\n",
       "      <td>1</td>\n",
       "    </tr>\n",
       "    <tr>\n",
       "      <th>108</th>\n",
       "      <td>/data/DSST/SALD/fs_sald/sub-031285</td>\n",
       "      <td>31285</td>\n",
       "      <td>M</td>\n",
       "      <td>54</td>\n",
       "      <td>2</td>\n",
       "      <td>NaN</td>\n",
       "      <td>1</td>\n",
       "      <td>1</td>\n",
       "    </tr>\n",
       "  </tbody>\n",
       "</table>\n",
       "</div>"
      ],
      "text/plain": [
       "                             subj_paths  subject Sex  age  Sex.1  \\\n",
       "98   /data/DSST/SALD/fs_sald/sub-031274    31274   F   72      1   \n",
       "28   /data/DSST/SALD/fs_sald/sub-031277    31277   F   60      1   \n",
       "95   /data/DSST/SALD/fs_sald/sub-031279    31279   M   62      2   \n",
       "29   /data/DSST/SALD/fs_sald/sub-031281    31281   F   65      1   \n",
       "108  /data/DSST/SALD/fs_sald/sub-031285    31285   M   54      2   \n",
       "\n",
       "     Edinburgh Handedness Inventory (EHI)  FunImg  T1Img  \n",
       "98                                  100.0       1      1  \n",
       "28                                  100.0       1      1  \n",
       "95                                  100.0       1      1  \n",
       "29                                    NaN       1      1  \n",
       "108                                   NaN       1      1  "
      ]
     },
     "execution_count": 8,
     "metadata": {},
     "output_type": "execute_result"
    }
   ],
   "source": [
    "df_sald = sald_subjectdata(sald_fs_dir, sald_pheno_file)\n",
    "df_sald.head()"
   ]
  },
  {
   "cell_type": "markdown",
   "metadata": {},
   "source": [
    "# Train/ Test Models"
   ]
  },
  {
   "cell_type": "code",
   "execution_count": 9,
   "metadata": {},
   "outputs": [
    {
     "name": "stderr",
     "output_type": "stream",
     "text": [
      "/data/migineishvilin2/python/envs/100runs/lib/python3.6/site-packages/sklearn/cross_validation.py:44: DeprecationWarning: This module was deprecated in version 0.18 in favor of the model_selection module into which all the refactored classes and functions are moved. Also note that the interface of the new CV iterators are different from that of this module. This module will be removed in 0.20.\n",
      "  \"This module will be removed in 0.20.\", DeprecationWarning)\n"
     ]
    }
   ],
   "source": [
    "%run /data/NNDSP/anal/analysis_notebooks/follow_up_analysis/util_models.ipynb"
   ]
  },
  {
   "cell_type": "code",
   "execution_count": 10,
   "metadata": {
    "collapsed": true
   },
   "outputs": [],
   "source": [
    "hcp_mae = {}\n",
    "nki_mae = {}\n",
    "corr_mae = {}\n",
    "sald_mae = {}\n",
    "nndsp_mae = {}"
   ]
  },
  {
   "cell_type": "markdown",
   "metadata": {},
   "source": [
    "## (Uncorrected) Train NNDSP"
   ]
  },
  {
   "cell_type": "code",
   "execution_count": null,
   "metadata": {
    "collapsed": true
   },
   "outputs": [],
   "source": [
    "print(\"Features for NNDSP\")\n",
    "x, nndsp_features = subject_features([os.path.basename(s) for s in df_nndsp.subj_paths], nndsp_bar_dir)\n",
    "print(\"Features for HCP\")\n",
    "x, hcp_features = subject_features([os.path.basename(s) for s in df_hcp.subj_paths], hcp_bar_dir)\n",
    "print(\"Features for NKI\")\n",
    "x, nki_features = subject_features([os.path.basename(s) for s in df_nki.subj_paths], nki_bar_dir)\n",
    "print(\"Features for CoRR\")\n",
    "x, corr_features = subject_features([os.path.basename(s) for s in df_corr.subj_paths], corr_bar_dir)\n",
    "print(\"Features for SALD\")\n",
    "x, sald_features = subject_features([os.path.basename(s) for s in df_sald.subj_paths], sald_bar_dir)"
   ]
  },
  {
   "cell_type": "code",
   "execution_count": null,
   "metadata": {
    "collapsed": true
   },
   "outputs": [],
   "source": [
    "datasets = {\n",
    "    'NNDSP' : [df_nndsp, nndsp_bar_dir, nndsp_features, True],\n",
    "    'HCP' : [df_hcp, hcp_bar_dir, hcp_features, True],\n",
    "#     'NKI' : [df_nki, nki_bar_dir, nki_features, False],\n",
    "#     'CoRR' : [df_corr, corr_bar_dir, corr_features, True],\n",
    "#     'SALD' : [df_sald, sald_bar_dir, sald_features, True]\n",
    "}"
   ]
  },
  {
   "cell_type": "code",
   "execution_count": null,
   "metadata": {
    "collapsed": true
   },
   "outputs": [],
   "source": [
    "uncorrected_mae = {}"
   ]
  },
  {
   "cell_type": "code",
   "execution_count": null,
   "metadata": {},
   "outputs": [],
   "source": [
    "complex_test(data[0], \n",
    "                                        data[1],\n",
    "                                        complex_pipes, \n",
    "                                        data=test_title,\n",
    "                                        is_int=data[3], \n",
    "                                        features=data[2], pred = True)"
   ]
  },
  {
   "cell_type": "code",
   "execution_count": null,
   "metadata": {},
   "outputs": [],
   "source": [
    "for title, data in datasets.items():\n",
    "   \n",
    "    print(\"Training Complex for\", title)\n",
    "    scores, df_complex_train, df_complex_test, complex_pipes = complex_model(data[0],\n",
    "                                                                       data[1],\n",
    "                                                                       features = data[2],\n",
    "                                                                      is_int = data[3])\n",
    "    \n",
    "    print(\"\\n\\nTraining Simple for\", title)\n",
    "    simple_train, df_simple_test, simple_pipe = simple_model(data[0], data[1], \n",
    "                                                          model_train = df_complex_train,\n",
    "                                                          model_test=df_complex_test,\n",
    "                                                         is_int = data[3])\n",
    "    \n",
    "    test_datasets = datasets.copy()\n",
    "    del test_datasets[title]\n",
    "    \n",
    "    for test_title, test_data in test_datasets.items():\n",
    "        print(\"\\n\\nTesting Complex Model on\", test_title)\n",
    "        mae['Uncorrect'] = {'Complex on ' + title + ' to ' + test_title : complex_test(data[0], \n",
    "                                        data[1],\n",
    "                                        complex_pipes, \n",
    "                                        data=test_title,\n",
    "                                        is_int=data[3], \n",
    "                                        features=data[2], pred = True)}\n",
    "                             \n",
    "        print(\"\\n\\nTesting Simple Model on\", test_title)\n",
    "        mae['Uncorrected']['Simple ' + 'on ' + title + ' to ' + test_title] = simple_test(test_data[0], \n",
    "                                                                                          test_data[1],\n",
    "                                                                                          simple_pipe, \n",
    "                                                                                          data=test_title, \n",
    "                                                                                          is_int=test_data[3], pred = True)"
   ]
  },
  {
   "cell_type": "code",
   "execution_count": null,
   "metadata": {
    "collapsed": true
   },
   "outputs": [],
   "source": [
    "x, nndsp_features = subject_features([os.path.basename(s) for s in df_nndsp.subj_paths], nndsp_bar_dir)"
   ]
  },
  {
   "cell_type": "code",
   "execution_count": null,
   "metadata": {
    "collapsed": true
   },
   "outputs": [],
   "source": [
    "scores_nndsp, nndsp_complex_train, nndsp_complex_test, nndsp_complex_pipes = complex_model(df_nndsp, \n",
    "                                                                                           nndsp_bar_dir, \n",
    "                                                                                           features = nndsp_features)"
   ]
  },
  {
   "cell_type": "code",
   "execution_count": null,
   "metadata": {
    "collapsed": true
   },
   "outputs": [],
   "source": [
    "nndsp_simple_train, nndsp_simple_test, nndsp_simple_pipe = simple_model(df_nndsp, nndsp_bar_dir, \n",
    "                                                                        model=True, \n",
    "                                                                        model_train = nndsp_complex_train, \n",
    "                                                                        model_test=nndsp_complex_test)"
   ]
  },
  {
   "cell_type": "markdown",
   "metadata": {},
   "source": [
    "### Test on (uncorrected) HCP"
   ]
  },
  {
   "cell_type": "code",
   "execution_count": null,
   "metadata": {
    "collapsed": true
   },
   "outputs": [],
   "source": [
    "x, hcp_features = subject_features([os.path.basename(s) for s in df_hcp.subj_paths], hcp_bar_dir)"
   ]
  },
  {
   "cell_type": "code",
   "execution_count": null,
   "metadata": {
    "collapsed": true
   },
   "outputs": [],
   "source": [
    "hcp_mae['Uncorrected'] = {'Train on NNDSP' : {'Complex' : complex_test(df_hcp, \n",
    "                                                              hcp_bar_dir, nndsp_complex_pipes, \n",
    "                                                              data='HCP', features=hcp_features, pred = True)}}"
   ]
  },
  {
   "cell_type": "code",
   "execution_count": null,
   "metadata": {
    "collapsed": true
   },
   "outputs": [],
   "source": [
    "hcp_mae['Uncorrected']['Train on NNDSP']['Simple'] = simple_test(df_hcp, hcp_bar_dir, \n",
    "                                                                     nndsp_simple_pipe, data='HCP',\n",
    "                                                                    pred = True)"
   ]
  },
  {
   "cell_type": "markdown",
   "metadata": {},
   "source": [
    "### Test on (uncorrected) NKI"
   ]
  },
  {
   "cell_type": "code",
   "execution_count": null,
   "metadata": {
    "collapsed": true
   },
   "outputs": [],
   "source": [
    "x, nki_features = subject_features([os.path.basename(s) for s in df_nki.subj_paths], nki_bar_dir)"
   ]
  },
  {
   "cell_type": "code",
   "execution_count": null,
   "metadata": {
    "collapsed": true
   },
   "outputs": [],
   "source": [
    "nki_mae['Uncorrected'] = {'Trained on NNDSP' : {'Complex' : complex_test(df_nki, \n",
    "                                                                         nki_bar_dir, \n",
    "                                                                         nndsp_complex_pipes, \n",
    "                                                                         data='NKI', is_int=False, \n",
    "                                                                         features=nki_features, pred = True)}}"
   ]
  },
  {
   "cell_type": "code",
   "execution_count": null,
   "metadata": {
    "collapsed": true
   },
   "outputs": [],
   "source": [
    "nki_mae['Uncorrected']['Trained on NNDSP']['Simple'] = simple_test(df_nki, nki_bar_dir, \n",
    "                                                                     nndsp_simple_pipe, data='NKI', is_int=False,\n",
    "                                                                    pred = True)"
   ]
  },
  {
   "cell_type": "markdown",
   "metadata": {},
   "source": [
    "### Test on "
   ]
  }
 ],
 "metadata": {
  "kernelspec": {
   "display_name": "Python 3",
   "language": "python",
   "name": "python3"
  },
  "language_info": {
   "codemirror_mode": {
    "name": "ipython",
    "version": 3
   },
   "file_extension": ".py",
   "mimetype": "text/x-python",
   "name": "python",
   "nbconvert_exporter": "python",
   "pygments_lexer": "ipython3",
   "version": "3.6.1"
  },
  "toc": {
   "colors": {
    "hover_highlight": "#DAA520",
    "running_highlight": "#FF0000",
    "selected_highlight": "#FFD700"
   },
   "moveMenuLeft": true,
   "nav_menu": {
    "height": "228px",
    "width": "252px"
   },
   "navigate_menu": true,
   "number_sections": true,
   "sideBar": true,
   "threshold": 4,
   "toc_cell": false,
   "toc_section_display": "block",
   "toc_window_display": true,
   "widenNotebook": false
  }
 },
 "nbformat": 4,
 "nbformat_minor": 2
}
