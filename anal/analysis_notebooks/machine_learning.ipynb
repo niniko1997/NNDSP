{
 "cells": [
  {
   "cell_type": "code",
   "execution_count": 1,
   "metadata": {},
   "outputs": [
    {
     "name": "stderr",
     "output_type": "stream",
     "text": [
      "/data/migineishvilin2/python/envs/100runs/lib/python3.6/site-packages/sklearn/cross_validation.py:44: DeprecationWarning: This module was deprecated in version 0.18 in favor of the model_selection module into which all the refactored classes and functions are moved. Also note that the interface of the new CV iterators are different from that of this module. This module will be removed in 0.20.\n",
      "  \"This module will be removed in 0.20.\", DeprecationWarning)\n",
      "/data/migineishvilin2/python/envs/100runs/lib/python3.6/site-packages/sklearn/learning_curve.py:23: DeprecationWarning: This module was deprecated in version 0.18 in favor of the model_selection module into which all the functions are moved. This module will be removed in 0.20\n",
      "  DeprecationWarning)\n"
     ]
    }
   ],
   "source": [
    "%run /data/NNDSP/anal/analysis_notebooks/util.ipynb"
   ]
  },
  {
   "cell_type": "markdown",
   "metadata": {},
   "source": [
    "# Baracus Performance"
   ]
  },
  {
   "cell_type": "markdown",
   "metadata": {},
   "source": [
    "## Setup"
   ]
  },
  {
   "cell_type": "code",
   "execution_count": 2,
   "metadata": {
    "collapsed": true
   },
   "outputs": [],
   "source": [
    "from pathlib import Path\n",
    "import pandas as pd\n",
    "import numpy as np\n",
    "import subprocess\n",
    "from datetime import date\n",
    "import re"
   ]
  },
  {
   "cell_type": "code",
   "execution_count": 3,
   "metadata": {},
   "outputs": [
    {
     "name": "stdout",
     "output_type": "stream",
     "text": [
      "/gpfs/gsfs6/users/NNDSP/anal/analysis_notebooks/phenotype_files/NNDSP_famid.csv\n"
     ]
    }
   ],
   "source": [
    "analysis_version = \"2018_07_10\"\n",
    "project_dir_absolute = Path('/gpfs/gsfs6/users/NNDSP')\n",
    "\n",
    "# Project Directory\n",
    "project_dir = Path(project_dir_absolute) # needs to be pathlib.Path object\n",
    "\n",
    "# Bids Directory\n",
    "bids_bar = project_dir.joinpath('derivatives/bar_subj') # baracus bids\n",
    "\n",
    "# Brain Age File\n",
    "brain_age_file = project_dir.joinpath('anal/analysis_notebooks/phenotype_files/NNDSP_famid.csv')\n",
    "\n",
    "print(brain_age_file.absolute())"
   ]
  },
  {
   "cell_type": "markdown",
   "metadata": {},
   "source": [
    "## Load Baracus Data"
   ]
  },
  {
   "cell_type": "code",
   "execution_count": 4,
   "metadata": {
    "collapsed": true
   },
   "outputs": [],
   "source": [
    "bar_subj = [p.as_posix() for p in bids_bar.glob('sub-*')] # search all subj in baracus directory\n",
    "df_bar_subj = pd.DataFrame(bar_subj, columns = ['subj_path']) # turn the subjects into df\n",
    "df_bar_subj = df_bar_subj.assign(participant = lambda df: df.subj_path.str.extract('sub-(\\d{2,4})', expand=True)) # add participant number column"
   ]
  },
  {
   "cell_type": "code",
   "execution_count": 5,
   "metadata": {
    "collapsed": true
   },
   "outputs": [],
   "source": [
    "df_single_subject = get_single_subject(df_bar_subj, to_int=False) # get cortical thickness, cortical surface area, sub cort volume and stacked anat age predictions"
   ]
  },
  {
   "cell_type": "code",
   "execution_count": 6,
   "metadata": {
    "collapsed": true
   },
   "outputs": [],
   "source": [
    "# Getting Age\n",
    "df_target = pd.read_csv(brain_age_file, sep=',') # open file with ages\n",
    "del df_target['nuclear_fam_id']\n",
    "del df_target['Sex']\n",
    "del df_target['MRN']"
   ]
  },
  {
   "cell_type": "code",
   "execution_count": 7,
   "metadata": {
    "collapsed": true
   },
   "outputs": [],
   "source": [
    "df_bar_subj = df_bar_subj.merge(df_single_subject, on='participant') # merge subje with their age predictions"
   ]
  },
  {
   "cell_type": "code",
   "execution_count": 8,
   "metadata": {
    "collapsed": true
   },
   "outputs": [],
   "source": [
    "df_bar_subj = df_bar_subj.assign(MASKID = lambda df: pd.DataFrame([int(x) for x in df.participant]))\n",
    "df_bar_subj = df_bar_subj.merge(df_target, on='MASKID') # merge age predictions with actual age "
   ]
  },
  {
   "cell_type": "code",
   "execution_count": 9,
   "metadata": {},
   "outputs": [
    {
     "data": {
      "text/html": [
       "<div>\n",
       "<table border=\"1\" class=\"dataframe\">\n",
       "  <thead>\n",
       "    <tr style=\"text-align: right;\">\n",
       "      <th></th>\n",
       "      <th>subj_path</th>\n",
       "      <th>participant</th>\n",
       "      <th>aseg</th>\n",
       "      <th>area</th>\n",
       "      <th>thickness</th>\n",
       "      <th>stacked-anatomy</th>\n",
       "      <th>MASKID</th>\n",
       "      <th>age_at_scan</th>\n",
       "    </tr>\n",
       "  </thead>\n",
       "  <tbody>\n",
       "    <tr>\n",
       "      <th>0</th>\n",
       "      <td>/gpfs/gsfs6/users/NNDSP/derivatives/bar_subj/s...</td>\n",
       "      <td>1889</td>\n",
       "      <td>24.4132</td>\n",
       "      <td>127.106</td>\n",
       "      <td>23.7235</td>\n",
       "      <td>25.9323</td>\n",
       "      <td>1889</td>\n",
       "      <td>9.667351</td>\n",
       "    </tr>\n",
       "    <tr>\n",
       "      <th>1</th>\n",
       "      <td>/gpfs/gsfs6/users/NNDSP/derivatives/bar_subj/s...</td>\n",
       "      <td>2011</td>\n",
       "      <td>28.0193</td>\n",
       "      <td>115.121</td>\n",
       "      <td>21.5305</td>\n",
       "      <td>25.6429</td>\n",
       "      <td>2011</td>\n",
       "      <td>18.310746</td>\n",
       "    </tr>\n",
       "    <tr>\n",
       "      <th>2</th>\n",
       "      <td>/gpfs/gsfs6/users/NNDSP/derivatives/bar_subj/s...</td>\n",
       "      <td>1948</td>\n",
       "      <td>36.9531</td>\n",
       "      <td>112.181</td>\n",
       "      <td>32.0494</td>\n",
       "      <td>33.4655</td>\n",
       "      <td>1948</td>\n",
       "      <td>14.269678</td>\n",
       "    </tr>\n",
       "    <tr>\n",
       "      <th>3</th>\n",
       "      <td>/gpfs/gsfs6/users/NNDSP/derivatives/bar_subj/s...</td>\n",
       "      <td>1198</td>\n",
       "      <td>33.5741</td>\n",
       "      <td>112.062</td>\n",
       "      <td>43.5544</td>\n",
       "      <td>36.189</td>\n",
       "      <td>1198</td>\n",
       "      <td>14.390144</td>\n",
       "    </tr>\n",
       "    <tr>\n",
       "      <th>4</th>\n",
       "      <td>/gpfs/gsfs6/users/NNDSP/derivatives/bar_subj/s...</td>\n",
       "      <td>1371</td>\n",
       "      <td>19.7048</td>\n",
       "      <td>117.152</td>\n",
       "      <td>33.1597</td>\n",
       "      <td>26.8287</td>\n",
       "      <td>1371</td>\n",
       "      <td>16.621492</td>\n",
       "    </tr>\n",
       "  </tbody>\n",
       "</table>\n",
       "</div>"
      ],
      "text/plain": [
       "                                           subj_path participant     aseg  \\\n",
       "0  /gpfs/gsfs6/users/NNDSP/derivatives/bar_subj/s...        1889  24.4132   \n",
       "1  /gpfs/gsfs6/users/NNDSP/derivatives/bar_subj/s...        2011  28.0193   \n",
       "2  /gpfs/gsfs6/users/NNDSP/derivatives/bar_subj/s...        1948  36.9531   \n",
       "3  /gpfs/gsfs6/users/NNDSP/derivatives/bar_subj/s...        1198  33.5741   \n",
       "4  /gpfs/gsfs6/users/NNDSP/derivatives/bar_subj/s...        1371  19.7048   \n",
       "\n",
       "      area thickness stacked-anatomy  MASKID  age_at_scan  \n",
       "0  127.106   23.7235         25.9323    1889     9.667351  \n",
       "1  115.121   21.5305         25.6429    2011    18.310746  \n",
       "2  112.181   32.0494         33.4655    1948    14.269678  \n",
       "3  112.062   43.5544          36.189    1198    14.390144  \n",
       "4  117.152   33.1597         26.8287    1371    16.621492  "
      ]
     },
     "execution_count": 9,
     "metadata": {},
     "output_type": "execute_result"
    }
   ],
   "source": [
    "df_bar_subj.head()"
   ]
  },
  {
   "cell_type": "markdown",
   "metadata": {},
   "source": [
    "## Mean Absolute Error"
   ]
  },
  {
   "cell_type": "code",
   "execution_count": 10,
   "metadata": {
    "scrolled": true
   },
   "outputs": [
    {
     "name": "stdout",
     "output_type": "stream",
     "text": [
      "Mean Absolute Error (Aseg): 10.7794454526\n",
      "Mean Absolute Error (Area): 105.017535768\n",
      "Mean Absolute Error (Thickness): 15.864500892\n",
      "Mean Absolute Error (Stacked Model): 13.7877541396\n"
     ]
    }
   ],
   "source": [
    "# error of baracus model\n",
    "from sklearn.metrics import mean_absolute_error\n",
    "\n",
    "# calculate absolute error for each modality\n",
    "print(\"Mean Absolute Error (Aseg):\", mean_absolute_error(df_bar_subj.iloc[:, 2], df_bar_subj.iloc[:, 7]))\n",
    "print(\"Mean Absolute Error (Area):\", mean_absolute_error(df_bar_subj.iloc[:, 3], df_bar_subj.iloc[:, 7]))\n",
    "print(\"Mean Absolute Error (Thickness):\", mean_absolute_error(df_bar_subj.iloc[:, 4], df_bar_subj.iloc[:, 7]))\n",
    "print(\"Mean Absolute Error (Stacked Model):\", mean_absolute_error(df_bar_subj.iloc[:, 5], df_bar_subj.iloc[:, 7]))"
   ]
  },
  {
   "cell_type": "code",
   "execution_count": 11,
   "metadata": {
    "scrolled": true
   },
   "outputs": [
    {
     "data": {
      "image/png": "[encoded data removed]",
      "text/plain": [
       "<matplotlib.figure.Figure at 0x2ada3f91d7f0>"
      ]
     },
     "metadata": {},
     "output_type": "display_data"
    }
   ],
   "source": [
    "bar_plot(df_bar_subj)"
   ]
  },
  {
   "cell_type": "markdown",
   "metadata": {},
   "source": [
    "# Train Complex Model on NNDSP Data"
   ]
  },
  {
   "cell_type": "code",
   "execution_count": 12,
   "metadata": {
    "collapsed": true
   },
   "outputs": [],
   "source": [
    "# Getting Brain Age\n",
    "df_target = pd.read_csv(brain_age_file, sep=',')\n",
    "del df_target['nuclear_fam_id']\n",
    "del df_target['MRN']"
   ]
  },
  {
   "cell_type": "markdown",
   "metadata": {},
   "source": [
    "## Setup"
   ]
  },
  {
   "cell_type": "code",
   "execution_count": 13,
   "metadata": {
    "collapsed": true
   },
   "outputs": [],
   "source": [
    "from pathlib import Path\n",
    "import pandas as pd\n",
    "import numpy as np\n",
    "import subprocess\n",
    "from datetime import date\n",
    "import re"
   ]
  },
  {
   "cell_type": "code",
   "execution_count": 14,
   "metadata": {},
   "outputs": [
    {
     "name": "stdout",
     "output_type": "stream",
     "text": [
      "/gpfs/gsfs6/users/NNDSP/anal/analysis_notebooks/phenotype_files/NNDSP_famid.csv\n"
     ]
    }
   ],
   "source": [
    "analysis_version = \"2018_08_10\"\n",
    "project_dir_absolute = Path('/gpfs/gsfs6/users/NNDSP')\n",
    "\n",
    "# Project Directory\n",
    "project_dir = Path(project_dir_absolute) # needs to be pathlib.Path object\n",
    "\n",
    "# Bids Directory\n",
    "bids_fs = project_dir.joinpath('derivatives/fs5.3_subj') # freesurfer bids\n",
    "bids_bar = project_dir.joinpath('derivatives/bar_subj') # baracus bids\n",
    "\n",
    "# Brain Age File\n",
    "brain_age_file = project_dir.joinpath('anal/analysis_notebooks/phenotype_files/NNDSP_famid.csv')\n",
    "\n",
    "print(brain_age_file.absolute())"
   ]
  },
  {
   "cell_type": "markdown",
   "metadata": {},
   "source": [
    "## Load Subjects"
   ]
  },
  {
   "cell_type": "code",
   "execution_count": 15,
   "metadata": {
    "collapsed": true
   },
   "outputs": [],
   "source": [
    "import os\n",
    "from glob import glob\n",
    "\n",
    "# get the subjects in the freesurfer directory\n",
    "subj_dirs = [os.path.basename(s) for s in sorted(glob(os.path.join(bids_fs, \"sub-*\")))]"
   ]
  },
  {
   "cell_type": "markdown",
   "metadata": {},
   "source": [
    "## Extract Freesurfer Data"
   ]
  },
  {
   "cell_type": "code",
   "execution_count": 16,
   "metadata": {
    "collapsed": true
   },
   "outputs": [],
   "source": [
    "subjects_to_analyze = subject_to_anal(subj_dirs, bids_bar)\n",
    "features = extract_features(subjects_to_analyze, bids_bar)"
   ]
  },
  {
   "cell_type": "markdown",
   "metadata": {
    "collapsed": true
   },
   "source": [
    "## Train Freesurfer Data"
   ]
  },
  {
   "cell_type": "markdown",
   "metadata": {},
   "source": [
    "### Single Modal: Cortical Thickness"
   ]
  },
  {
   "cell_type": "code",
   "execution_count": 17,
   "metadata": {
    "collapsed": true
   },
   "outputs": [],
   "source": [
    "df_data_ct = get_source_data('thickness', features, df_target) # extract thickness info from features\n",
    "df_data_ct = df_data_ct.sort_values(by='MASKID')"
   ]
  },
  {
   "cell_type": "code",
   "execution_count": 18,
   "metadata": {},
   "outputs": [
    {
     "data": {
      "text/plain": [
       "Pipeline(steps=[('fill_missing', Imputer(axis=0, copy=True, missing_values='NaN', strategy='mean', verbose=0)), ('var_thr', VarianceThreshold(threshold=0.0)), ('normalize', StandardScaler(copy=True, with_mean=True, with_std=True)), ('regression_model', SVR(C=1.0, cache_size=1000, coef0=0.0, degree=3, epsilon=0.1, gamma='auto',\n",
       "  kernel='linear', max_iter=-1, shrinking=True, tol=0.001, verbose=False))])"
      ]
     },
     "execution_count": 18,
     "metadata": {},
     "output_type": "execute_result"
    }
   ],
   "source": [
    "#split test and train data into equal parts\n",
    "X_train_ct, X_test_ct, y_train_ct, y_test_ct, pipe_ct = train_test_pipeline(df_data_ct.iloc[:, :5124], \n",
    "                                                                            df_data_ct.iloc[:,5126], \n",
    "                                                                            test_size = 0.5, random_state=None)\n",
    "# fit model\n",
    "pipe_ct.fit(X=X_train_ct, y=y_train_ct)"
   ]
  },
  {
   "cell_type": "code",
   "execution_count": 19,
   "metadata": {
    "collapsed": true
   },
   "outputs": [],
   "source": [
    "# prediction and errors\n",
    "y_predicted_train_ct = pipe_ct.predict(X_train_ct)\n",
    "y_predicted_test_ct = pipe_ct.predict(X_test_ct)"
   ]
  },
  {
   "cell_type": "code",
   "execution_count": 20,
   "metadata": {},
   "outputs": [
    {
     "name": "stdout",
     "output_type": "stream",
     "text": [
      "Mean Absolute Error (Train): 0.100017168688\n",
      "Mean Absolute Error (Test): 6.44249378479\n"
     ]
    }
   ],
   "source": [
    "# test mean absolute error\n",
    "from sklearn.metrics import mean_absolute_error, r2_score\n",
    "\n",
    "print(\"Mean Absolute Error (Train):\", mean_absolute_error(y_train_ct, y_predicted_train_ct))\n",
    "print(\"Mean Absolute Error (Test):\", mean_absolute_error(y_test_ct, y_predicted_test_ct))"
   ]
  },
  {
   "cell_type": "code",
   "execution_count": 21,
   "metadata": {
    "collapsed": true
   },
   "outputs": [],
   "source": [
    "from sklearn.cross_validation import cross_val_predict\n",
    "# cross validation prediction \n",
    "y_predicted_ct_cv = cross_val_predict(pipe_ct, X_train_ct, y_train_ct)"
   ]
  },
  {
   "cell_type": "code",
   "execution_count": 22,
   "metadata": {},
   "outputs": [
    {
     "data": {
      "text/plain": [
       "<matplotlib.figure.Figure at 0x2ada751929e8>"
      ]
     },
     "metadata": {},
     "output_type": "display_data"
    },
    {
     "data": {
      "image/png": "[encoded data removed]",
      "text/plain": [
       "<matplotlib.figure.Figure at 0x2ada751a5ac8>"
      ]
     },
     "metadata": {},
     "output_type": "display_data"
    },
    {
     "data": {
      "image/png": "[encoded data removed]",
      "text/plain": [
       "<matplotlib.figure.Figure at 0x2ada3ff86048>"
      ]
     },
     "metadata": {},
     "output_type": "display_data"
    },
    {
     "data": {
      "image/png": "[encoded data removed]",
      "text/plain": [
       "<matplotlib.figure.Figure at 0x2ada754baeb8>"
      ]
     },
     "metadata": {},
     "output_type": "display_data"
    }
   ],
   "source": [
    "plot_pred(y_predicted_train_ct, y_train_ct, y_predicted_test_ct, y_test_ct, fig_tuple=(10,8), context='notebook') # plot predicted versus age\n",
    "plot_validation_curve(pipe_ct, X_train_ct, y_train_ct) # plot C versus training and validation score\n",
    "learning_curve_fct(X_train_ct, y_train_ct, 'Thickness', pipe_ct) # plot number of features training examples versus validation close"
   ]
  },
  {
   "cell_type": "markdown",
   "metadata": {},
   "source": [
    "### Single Modal: Subcortical Volumes"
   ]
  },
  {
   "cell_type": "code",
   "execution_count": 23,
   "metadata": {
    "collapsed": true
   },
   "outputs": [],
   "source": [
    "df_data_sv = get_source_data('aseg', features, df_target)\n",
    "df_data_sv = df_data_sv.sort_values(by='MASKID')"
   ]
  },
  {
   "cell_type": "code",
   "execution_count": 24,
   "metadata": {},
   "outputs": [
    {
     "data": {
      "text/plain": [
       "Pipeline(steps=[('fill_missing', Imputer(axis=0, copy=True, missing_values='NaN', strategy='mean', verbose=0)), ('var_thr', VarianceThreshold(threshold=0.0)), ('normalize', StandardScaler(copy=True, with_mean=True, with_std=True)), ('regression_model', SVR(C=1.0, cache_size=1000, coef0=0.0, degree=3, epsilon=0.1, gamma='auto',\n",
       "  kernel='linear', max_iter=-1, shrinking=True, tol=0.001, verbose=False))])"
      ]
     },
     "execution_count": 24,
     "metadata": {},
     "output_type": "execute_result"
    }
   ],
   "source": [
    "# Train Test Split\n",
    "X_train_sv, X_test_sv, y_train_sv, y_test_sv, pipe_sv = train_test_pipeline(df_data_sv.iloc[:, :66], \n",
    "                                                                            df_data_sv.iloc[:,68], \n",
    "                                                                            test_size = 0.5, \n",
    "                                                                            random_state=None, model='yes', \n",
    "                                                                            model_train=X_train_ct, \n",
    "                                                                            model_test=X_test_ct)\n",
    "\n",
    "# fit model\n",
    "pipe_sv.fit(X=X_train_sv, y= y_train_sv.as_matrix().ravel())"
   ]
  },
  {
   "cell_type": "code",
   "execution_count": 25,
   "metadata": {
    "collapsed": true
   },
   "outputs": [],
   "source": [
    "# prediction and errors\n",
    "y_predicted_train_sv = pipe_sv.predict(X_train_sv)\n",
    "y_predicted_test_sv = pipe_sv.predict(X_test_sv)"
   ]
  },
  {
   "cell_type": "code",
   "execution_count": 26,
   "metadata": {},
   "outputs": [
    {
     "name": "stdout",
     "output_type": "stream",
     "text": [
      "Mean Absolute Error (Train): 4.27660150039\n",
      "Mean Absolute Error (Test): 5.17909952891\n"
     ]
    }
   ],
   "source": [
    "# test mean absolute error\n",
    "from sklearn.metrics import mean_absolute_error, r2_score\n",
    "\n",
    "print(\"Mean Absolute Error (Train):\", mean_absolute_error(y_train_sv, y_predicted_train_sv))\n",
    "print(\"Mean Absolute Error (Test):\", mean_absolute_error(y_test_sv, y_predicted_test_sv))"
   ]
  },
  {
   "cell_type": "code",
   "execution_count": 27,
   "metadata": {},
   "outputs": [
    {
     "data": {
      "text/html": [
       "<div>\n",
       "<table border=\"1\" class=\"dataframe\">\n",
       "  <thead>\n",
       "    <tr style=\"text-align: right;\">\n",
       "      <th></th>\n",
       "      <th>0</th>\n",
       "      <th>1</th>\n",
       "      <th>2</th>\n",
       "      <th>3</th>\n",
       "      <th>4</th>\n",
       "      <th>5</th>\n",
       "      <th>6</th>\n",
       "      <th>7</th>\n",
       "      <th>8</th>\n",
       "      <th>9</th>\n",
       "      <th>...</th>\n",
       "      <th>56</th>\n",
       "      <th>57</th>\n",
       "      <th>58</th>\n",
       "      <th>59</th>\n",
       "      <th>60</th>\n",
       "      <th>61</th>\n",
       "      <th>62</th>\n",
       "      <th>63</th>\n",
       "      <th>64</th>\n",
       "      <th>65</th>\n",
       "    </tr>\n",
       "  </thead>\n",
       "  <tbody>\n",
       "    <tr>\n",
       "      <th>152</th>\n",
       "      <td>8783.6</td>\n",
       "      <td>121.0</td>\n",
       "      <td>13725.8</td>\n",
       "      <td>58414.5</td>\n",
       "      <td>8307.1</td>\n",
       "      <td>3567.4</td>\n",
       "      <td>5412.1</td>\n",
       "      <td>1843.6</td>\n",
       "      <td>1253.0</td>\n",
       "      <td>1540.3</td>\n",
       "      <td>...</td>\n",
       "      <td>9.597737e+05</td>\n",
       "      <td>9.394897e+05</td>\n",
       "      <td>938302.0</td>\n",
       "      <td>1590342.0</td>\n",
       "      <td>0.729806</td>\n",
       "      <td>1.049977</td>\n",
       "      <td>56.0</td>\n",
       "      <td>43.0</td>\n",
       "      <td>99.0</td>\n",
       "      <td>1.514645e+06</td>\n",
       "    </tr>\n",
       "    <tr>\n",
       "      <th>176</th>\n",
       "      <td>6734.2</td>\n",
       "      <td>44.1</td>\n",
       "      <td>15212.0</td>\n",
       "      <td>56434.4</td>\n",
       "      <td>9925.9</td>\n",
       "      <td>4190.1</td>\n",
       "      <td>6503.8</td>\n",
       "      <td>1790.4</td>\n",
       "      <td>760.8</td>\n",
       "      <td>2388.4</td>\n",
       "      <td>...</td>\n",
       "      <td>1.270956e+06</td>\n",
       "      <td>1.253807e+06</td>\n",
       "      <td>1251411.0</td>\n",
       "      <td>1945473.0</td>\n",
       "      <td>0.753662</td>\n",
       "      <td>1.033236</td>\n",
       "      <td>37.0</td>\n",
       "      <td>37.0</td>\n",
       "      <td>74.0</td>\n",
       "      <td>1.882893e+06</td>\n",
       "    </tr>\n",
       "    <tr>\n",
       "      <th>349</th>\n",
       "      <td>2716.0</td>\n",
       "      <td>50.1</td>\n",
       "      <td>14016.1</td>\n",
       "      <td>51896.7</td>\n",
       "      <td>7668.7</td>\n",
       "      <td>3697.2</td>\n",
       "      <td>5575.9</td>\n",
       "      <td>1303.7</td>\n",
       "      <td>500.3</td>\n",
       "      <td>1381.3</td>\n",
       "      <td>...</td>\n",
       "      <td>9.291635e+05</td>\n",
       "      <td>9.213945e+05</td>\n",
       "      <td>919818.0</td>\n",
       "      <td>1438570.0</td>\n",
       "      <td>0.757561</td>\n",
       "      <td>1.028413</td>\n",
       "      <td>21.0</td>\n",
       "      <td>12.0</td>\n",
       "      <td>33.0</td>\n",
       "      <td>1.398825e+06</td>\n",
       "    </tr>\n",
       "    <tr>\n",
       "      <th>81</th>\n",
       "      <td>5114.8</td>\n",
       "      <td>245.6</td>\n",
       "      <td>13243.6</td>\n",
       "      <td>57720.1</td>\n",
       "      <td>8634.6</td>\n",
       "      <td>3896.6</td>\n",
       "      <td>6017.5</td>\n",
       "      <td>1332.0</td>\n",
       "      <td>495.1</td>\n",
       "      <td>1142.2</td>\n",
       "      <td>...</td>\n",
       "      <td>1.110484e+06</td>\n",
       "      <td>1.096947e+06</td>\n",
       "      <td>1094827.0</td>\n",
       "      <td>1766183.0</td>\n",
       "      <td>0.774412</td>\n",
       "      <td>1.087952</td>\n",
       "      <td>12.0</td>\n",
       "      <td>20.0</td>\n",
       "      <td>32.0</td>\n",
       "      <td>1.623402e+06</td>\n",
       "    </tr>\n",
       "    <tr>\n",
       "      <th>32</th>\n",
       "      <td>12865.2</td>\n",
       "      <td>317.3</td>\n",
       "      <td>17156.3</td>\n",
       "      <td>60306.2</td>\n",
       "      <td>9257.9</td>\n",
       "      <td>4701.6</td>\n",
       "      <td>7050.8</td>\n",
       "      <td>1767.7</td>\n",
       "      <td>1366.7</td>\n",
       "      <td>3794.0</td>\n",
       "      <td>...</td>\n",
       "      <td>1.407721e+06</td>\n",
       "      <td>1.373850e+06</td>\n",
       "      <td>1371884.0</td>\n",
       "      <td>2155338.0</td>\n",
       "      <td>0.761111</td>\n",
       "      <td>1.046872</td>\n",
       "      <td>24.0</td>\n",
       "      <td>23.0</td>\n",
       "      <td>47.0</td>\n",
       "      <td>2.058837e+06</td>\n",
       "    </tr>\n",
       "  </tbody>\n",
       "</table>\n",
       "<p>5 rows × 66 columns</p>\n",
       "</div>"
      ],
      "text/plain": [
       "          0      1        2        3       4       5       6       7       8   \\\n",
       "152   8783.6  121.0  13725.8  58414.5  8307.1  3567.4  5412.1  1843.6  1253.0   \n",
       "176   6734.2   44.1  15212.0  56434.4  9925.9  4190.1  6503.8  1790.4   760.8   \n",
       "349   2716.0   50.1  14016.1  51896.7  7668.7  3697.2  5575.9  1303.7   500.3   \n",
       "81    5114.8  245.6  13243.6  57720.1  8634.6  3896.6  6017.5  1332.0   495.1   \n",
       "32   12865.2  317.3  17156.3  60306.2  9257.9  4701.6  7050.8  1767.7  1366.7   \n",
       "\n",
       "         9       ...                 56            57         58         59  \\\n",
       "152  1540.3      ...       9.597737e+05  9.394897e+05   938302.0  1590342.0   \n",
       "176  2388.4      ...       1.270956e+06  1.253807e+06  1251411.0  1945473.0   \n",
       "349  1381.3      ...       9.291635e+05  9.213945e+05   919818.0  1438570.0   \n",
       "81   1142.2      ...       1.110484e+06  1.096947e+06  1094827.0  1766183.0   \n",
       "32   3794.0      ...       1.407721e+06  1.373850e+06  1371884.0  2155338.0   \n",
       "\n",
       "           60        61    62    63    64            65  \n",
       "152  0.729806  1.049977  56.0  43.0  99.0  1.514645e+06  \n",
       "176  0.753662  1.033236  37.0  37.0  74.0  1.882893e+06  \n",
       "349  0.757561  1.028413  21.0  12.0  33.0  1.398825e+06  \n",
       "81   0.774412  1.087952  12.0  20.0  32.0  1.623402e+06  \n",
       "32   0.761111  1.046872  24.0  23.0  47.0  2.058837e+06  \n",
       "\n",
       "[5 rows x 66 columns]"
      ]
     },
     "execution_count": 27,
     "metadata": {},
     "output_type": "execute_result"
    }
   ],
   "source": [
    "X_train_sv.head()"
   ]
  },
  {
   "cell_type": "code",
   "execution_count": 28,
   "metadata": {
    "collapsed": true
   },
   "outputs": [],
   "source": [
    "from sklearn.cross_validation import cross_val_predict\n",
    "# cross validation prediction\n",
    "y_predicted_sv_cv = cross_val_predict(pipe_sv, X_train_sv, y_train_sv.as_matrix().ravel())"
   ]
  },
  {
   "cell_type": "code",
   "execution_count": null,
   "metadata": {},
   "outputs": [],
   "source": [
    "plot_pred(y_predicted_train_sv, y_train_sv, y_predicted_test_sv, y_test_sv, context='notebook') # plot predicted age vs age\n",
    "plot_validation_curve(pipe_sv, X_train_sv, y_train_sv.as_matrix().ravel()) # plot C versis training and validation scroe\n",
    "learning_curve_fct(X_train_sv, y_train_sv.as_matrix().ravel(), 'Subcortical Volume', pipe_sv) # plot number of training examples vs training and validation score"
   ]
  },
  {
   "cell_type": "markdown",
   "metadata": {},
   "source": [
    "### Single Modal: Cortical Surface Area"
   ]
  },
  {
   "cell_type": "code",
   "execution_count": 29,
   "metadata": {
    "collapsed": true
   },
   "outputs": [],
   "source": [
    "df_data_ca = get_source_data('area', features, df_target)\n",
    "df_data_ca = df_data_ca.sort_values(by='MASKID')"
   ]
  },
  {
   "cell_type": "code",
   "execution_count": 30,
   "metadata": {},
   "outputs": [
    {
     "data": {
      "text/plain": [
       "Pipeline(steps=[('fill_missing', Imputer(axis=0, copy=True, missing_values='NaN', strategy='mean', verbose=0)), ('var_thr', VarianceThreshold(threshold=0.0)), ('normalize', StandardScaler(copy=True, with_mean=True, with_std=True)), ('regression_model', SVR(C=1.0, cache_size=1000, coef0=0.0, degree=3, epsilon=0.1, gamma='auto',\n",
       "  kernel='linear', max_iter=-1, shrinking=True, tol=0.001, verbose=False))])"
      ]
     },
     "execution_count": 30,
     "metadata": {},
     "output_type": "execute_result"
    }
   ],
   "source": [
    "# Train Test Split\n",
    "\n",
    "#split test and train data into equal parts\n",
    "X_train_ca, X_test_ca, y_train_ca, y_test_ca, pipe_ca = train_test_pipeline(df_data_ca.iloc[:, :5124], df_data_ca.iloc[:,5126], test_size = 0.5, random_state=None, model='yes', model_train=X_train_ct, model_test=X_test_ct)\n",
    "\n",
    "# fit model\n",
    "pipe_ca.fit(X=X_train_ca, y=y_train_ca.as_matrix().ravel())"
   ]
  },
  {
   "cell_type": "code",
   "execution_count": 31,
   "metadata": {
    "collapsed": true
   },
   "outputs": [],
   "source": [
    "# prediction and errors\n",
    "y_predicted_train_ca = pipe_ca.predict(X_train_ca)\n",
    "y_predicted_test_ca = pipe_ca.predict(X_test_ca)"
   ]
  },
  {
   "cell_type": "code",
   "execution_count": 32,
   "metadata": {},
   "outputs": [
    {
     "name": "stdout",
     "output_type": "stream",
     "text": [
      "Mean Absolute Error (Train): 0.099769764746\n",
      "Mean Absolute Error (Test): 7.09886263975\n"
     ]
    }
   ],
   "source": [
    "# test mean absolute error\n",
    "from sklearn.metrics import mean_absolute_error, r2_score\n",
    "\n",
    "print(\"Mean Absolute Error (Train):\", mean_absolute_error(y_train_ca, y_predicted_train_ca))\n",
    "print(\"Mean Absolute Error (Test):\", mean_absolute_error(y_test_ca, y_predicted_test_ca))"
   ]
  },
  {
   "cell_type": "code",
   "execution_count": 33,
   "metadata": {},
   "outputs": [
    {
     "name": "stdout",
     "output_type": "stream",
     "text": [
      "Mean Absolute Error (Train): 8.13589618535\n"
     ]
    }
   ],
   "source": [
    "from sklearn.cross_validation import cross_val_predict\n",
    "# cross validation prediction\n",
    "y_predicted_ca_cv = cross_val_predict(pipe_ca, X_train_ca, y_train_ca.as_matrix().ravel())\n",
    "print(\"Mean Absolute Error (Train):\", mean_absolute_error(y_train_ca, y_predicted_ca_cv))"
   ]
  },
  {
   "cell_type": "code",
   "execution_count": null,
   "metadata": {},
   "outputs": [],
   "source": [
    "plot_pred(y_predicted_train_ca, y_train_ca, y_predicted_test_ca, y_test_ca)\n",
    "plot_validation_curve(pipe_ca, X_train_ca, y_train_ca.as_matrix().ravel())\n",
    "learning_curve_fct(X_train_ca, y_train_ca.as_matrix().ravel(), 'Surface Area', pipe_ca)"
   ]
  },
  {
   "cell_type": "markdown",
   "metadata": {},
   "source": [
    "### Stacked Anatomy"
   ]
  },
  {
   "cell_type": "code",
   "execution_count": 34,
   "metadata": {
    "collapsed": true
   },
   "outputs": [],
   "source": [
    "# stack predicted values\n",
    "# get stacked age predictions (test and train) for ct\n",
    "df_y_ct = get_stacked_ages(y_train_ct, y_predicted_train_ct, y_predicted_ct_cv, y_test_ct, y_predicted_test_ct, first=True)\n",
    "# get stacked age prediction (test and train) for ca\n",
    "df_y_ca = get_stacked_ages(y_train_ca, y_predicted_train_ca, y_predicted_ca_cv, y_test_ca, y_predicted_test_ca)\n",
    "# get stacked age prediction (test and train) for sv\n",
    "df_y_sv = get_stacked_ages(y_train_sv, y_predicted_train_sv, y_predicted_sv_cv, y_test_sv, y_predicted_test_sv)"
   ]
  },
  {
   "cell_type": "code",
   "execution_count": 35,
   "metadata": {
    "collapsed": true
   },
   "outputs": [],
   "source": [
    "# stacking function inputes\n",
    "target = 'age'\n",
    "\n",
    "source_dict = {'aseg': df_y_sv, 'ct': df_y_ct,'ca': df_y_ca}\n",
    "\n",
    "source_selection_dict = {'fs': ['aseg', 'ct', 'ca'],}"
   ]
  },
  {
   "cell_type": "markdown",
   "metadata": {},
   "source": [
    "#### Training Random Forest Function"
   ]
  },
  {
   "cell_type": "code",
   "execution_count": 36,
   "metadata": {},
   "outputs": [
    {
     "name": "stdout",
     "output_type": "stream",
     "text": [
      "Fitting stacking model\n",
      "best max_depth: 5\n"
     ]
    }
   ],
   "source": [
    "scores_test, dd_train, dd_test, pipe_stack = stacking(source_dict, source_selection_dict, target, show=False)"
   ]
  },
  {
   "cell_type": "code",
   "execution_count": 37,
   "metadata": {},
   "outputs": [
    {
     "name": "stdout",
     "output_type": "stream",
     "text": [
      "Mean Absolute Error (Train): 2.548721452\n",
      "Mean Absolute Error (Test): 4.54697020507\n"
     ]
    },
    {
     "data": {
      "text/html": [
       "<div>\n",
       "<table border=\"1\" class=\"dataframe\">\n",
       "  <thead>\n",
       "    <tr style=\"text-align: right;\">\n",
       "      <th></th>\n",
       "      <th>r2</th>\n",
       "      <th>rpear</th>\n",
       "      <th>rpear2</th>\n",
       "      <th>mae</th>\n",
       "      <th>medae</th>\n",
       "    </tr>\n",
       "  </thead>\n",
       "  <tbody>\n",
       "    <tr>\n",
       "      <th>aseg</th>\n",
       "      <td>0.736778</td>\n",
       "      <td>0.866384</td>\n",
       "      <td>0.750622</td>\n",
       "      <td>5.179100</td>\n",
       "      <td>3.960777</td>\n",
       "    </tr>\n",
       "    <tr>\n",
       "      <th>ct</th>\n",
       "      <td>0.557249</td>\n",
       "      <td>0.796958</td>\n",
       "      <td>0.635142</td>\n",
       "      <td>6.442494</td>\n",
       "      <td>5.068498</td>\n",
       "    </tr>\n",
       "    <tr>\n",
       "      <th>ca</th>\n",
       "      <td>0.560714</td>\n",
       "      <td>0.755872</td>\n",
       "      <td>0.571342</td>\n",
       "      <td>7.098863</td>\n",
       "      <td>5.774037</td>\n",
       "    </tr>\n",
       "    <tr>\n",
       "      <th>mean_pred</th>\n",
       "      <td>0.774527</td>\n",
       "      <td>0.885166</td>\n",
       "      <td>0.783519</td>\n",
       "      <td>4.923042</td>\n",
       "      <td>4.081975</td>\n",
       "    </tr>\n",
       "    <tr>\n",
       "      <th>pred_age_test</th>\n",
       "      <td>0.718465</td>\n",
       "      <td>0.886646</td>\n",
       "      <td>0.786141</td>\n",
       "      <td>4.546970</td>\n",
       "      <td>2.894145</td>\n",
       "    </tr>\n",
       "  </tbody>\n",
       "</table>\n",
       "</div>"
      ],
      "text/plain": [
       "                     r2     rpear    rpear2       mae     medae\n",
       "aseg           0.736778  0.866384  0.750622  5.179100  3.960777\n",
       "ct             0.557249  0.796958  0.635142  6.442494  5.068498\n",
       "ca             0.560714  0.755872  0.571342  7.098863  5.774037\n",
       "mean_pred      0.774527  0.885166  0.783519  4.923042  4.081975\n",
       "pred_age_test  0.718465  0.886646  0.786141  4.546970  2.894145"
      ]
     },
     "execution_count": 37,
     "metadata": {},
     "output_type": "execute_result"
    }
   ],
   "source": [
    "from sklearn.metrics import mean_absolute_error\n",
    "\n",
    "print(\"Mean Absolute Error (Train):\", mean_absolute_error(dd_train.age_at_scan, dd_train.pred_age_train))\n",
    "print(\"Mean Absolute Error (Test):\", mean_absolute_error(dd_test.age_at_scan, dd_test.pred_age_test))\n",
    "scores_test"
   ]
  },
  {
   "cell_type": "code",
   "execution_count": 38,
   "metadata": {},
   "outputs": [
    {
     "name": "stdout",
     "output_type": "stream",
     "text": [
      "Mean Absolute Error (Train): 4.74943820727\n"
     ]
    }
   ],
   "source": [
    "y_predicted_stack_cv = cross_val_predict(pipe_stack, dd_train.iloc[:,:3], dd_train.age_at_scan.values)\n",
    "print(\"Mean Absolute Error (Train):\", mean_absolute_error(dd_train.age_at_scan.values, y_predicted_stack_cv))"
   ]
  },
  {
   "cell_type": "markdown",
   "metadata": {},
   "source": [
    "# Train Basic Anatomical Features"
   ]
  },
  {
   "cell_type": "markdown",
   "metadata": {},
   "source": [
    "## Setup"
   ]
  },
  {
   "cell_type": "code",
   "execution_count": 39,
   "metadata": {
    "collapsed": true
   },
   "outputs": [],
   "source": [
    "from pathlib import Path\n",
    "import pandas as pd\n",
    "import numpy as np\n",
    "import subprocess\n",
    "from datetime import date\n",
    "import re"
   ]
  },
  {
   "cell_type": "code",
   "execution_count": 40,
   "metadata": {},
   "outputs": [
    {
     "name": "stdout",
     "output_type": "stream",
     "text": [
      "/gpfs/gsfs6/users/NNDSP/anal/analysis_notebooks/phenotype_files/NNDSP_famid.csv\n"
     ]
    }
   ],
   "source": [
    "analysis_version = \"2017_07_07\"\n",
    "project_dir_absolute = Path('/gpfs/gsfs6/users/NNDSP')\n",
    "\n",
    "# Project Directory\n",
    "project_dir = Path(project_dir_absolute) # needs to be pathlib.Path object\n",
    "\n",
    "# Bids Directory\n",
    "bids_bar = project_dir.joinpath('derivatives/bar_subj') # baracus bids\n",
    "\n",
    "# Brain Age File\n",
    "brain_age_file = project_dir.joinpath('anal/analysis_notebooks/phenotype_files/NNDSP_famid.csv')\n",
    "\n",
    "print(brain_age_file.absolute())"
   ]
  },
  {
   "cell_type": "markdown",
   "metadata": {},
   "source": [
    "## Load Subjects"
   ]
  },
  {
   "cell_type": "code",
   "execution_count": 41,
   "metadata": {
    "collapsed": true
   },
   "outputs": [],
   "source": [
    "import os\n",
    "from glob import glob\n",
    "\n",
    "# get the subjects in the freesurfer directory\n",
    "subj_dirs = [os.path.basename(s) for s in sorted(glob(os.path.join(bids_fs, \"sub-*\")))]"
   ]
  },
  {
   "cell_type": "code",
   "execution_count": 42,
   "metadata": {
    "collapsed": true
   },
   "outputs": [],
   "source": [
    "subjects_to_analyze = subject_to_anal(subj_dirs, bids_bar)"
   ]
  },
  {
   "cell_type": "markdown",
   "metadata": {},
   "source": [
    "## Extract Anatomical Feature Data"
   ]
  },
  {
   "cell_type": "code",
   "execution_count": 43,
   "metadata": {
    "collapsed": true
   },
   "outputs": [],
   "source": [
    "df_atf = pd.DataFrame([])\n",
    "df_atf = df_atf.assign(MASKID = [int(x[4:]) for x in subjects_to_analyze])\n",
    "df_atf = df_atf.merge(df_target, on = 'MASKID')"
   ]
  },
  {
   "cell_type": "code",
   "execution_count": 44,
   "metadata": {
    "collapsed": true
   },
   "outputs": [],
   "source": [
    "white_matter, grey_matter, csf, intra_cran_vol = get_anat_features(subjects_to_analyze, bids_bar)"
   ]
  },
  {
   "cell_type": "code",
   "execution_count": 45,
   "metadata": {
    "collapsed": true
   },
   "outputs": [],
   "source": [
    "# calculate white matter fraction\n",
    "white_matter = calc_fraction(white_matter, intra_cran_vol)\n",
    "# calculate grey matter fraction\n",
    "grey_matter = calc_fraction(grey_matter, intra_cran_vol)\n",
    "# calculate csf fraction\n",
    "csf = calc_fraction(csf, intra_cran_vol)"
   ]
  },
  {
   "cell_type": "code",
   "execution_count": 46,
   "metadata": {
    "collapsed": true
   },
   "outputs": [],
   "source": [
    "df_atf = df_atf.assign(Intra_Cran_Vol = intra_cran_vol)\n",
    "df_atf = df_atf.assign(WM_Frac = white_matter)\n",
    "df_atf = df_atf.assign(GM_Frac = grey_matter)\n",
    "df_atf = df_atf.assign(CSF_Frac = csf)\n",
    "df_atf = df_atf.sort_values(by='MASKID')"
   ]
  },
  {
   "cell_type": "markdown",
   "metadata": {},
   "source": [
    "## Train Basic Anatomical Feature Data"
   ]
  },
  {
   "cell_type": "code",
   "execution_count": 48,
   "metadata": {},
   "outputs": [
    {
     "data": {
      "text/plain": [
       "Pipeline(steps=[('fill_missing', Imputer(axis=0, copy=True, missing_values='NaN', strategy='mean', verbose=0)), ('var_thr', VarianceThreshold(threshold=0.0)), ('normalize', StandardScaler(copy=True, with_mean=True, with_std=True)), ('regression_model', SVR(C=1.0, cache_size=1000, coef0=0.0, degree=3, epsilon=0.1, gamma='auto',\n",
       "  kernel='linear', max_iter=-1, shrinking=True, tol=0.001, verbose=False))])"
      ]
     },
     "execution_count": 48,
     "metadata": {},
     "output_type": "execute_result"
    }
   ],
   "source": [
    "X_train_atf, X_test_atf, y_train_atf, y_test_atf, pipe_atf =  train_test_pipeline(df_atf.iloc[:, 3:], \n",
    "                                                                                  df_atf.iloc[:, 2], \n",
    "                                                                                  test_size = 0.5, \n",
    "                                                                                  random_state=None, \n",
    "                                                                                  model='yes', \n",
    "                                                                                  model_train=X_train_ct, \n",
    "                                                                                  model_test=X_test_ct)\n",
    "pipe_atf.fit(X=X_train_atf, y=y_train_atf.as_matrix().ravel())"
   ]
  },
  {
   "cell_type": "code",
   "execution_count": 49,
   "metadata": {
    "collapsed": true
   },
   "outputs": [],
   "source": [
    "# prediction and errors\n",
    "y_predicted_train_atf = pipe_atf.predict(X_train_atf)\n",
    "y_predicted_test_atf = pipe_atf.predict(X_test_atf)"
   ]
  },
  {
   "cell_type": "code",
   "execution_count": 50,
   "metadata": {},
   "outputs": [
    {
     "name": "stdout",
     "output_type": "stream",
     "text": [
      "Mean Absolute Error (Train): 7.42266287094\n",
      "Mean Absolute Error (Test): 5.92605511359\n"
     ]
    }
   ],
   "source": [
    "# test mean absolute error\n",
    "from sklearn.metrics import mean_absolute_error, r2_score\n",
    "\n",
    "print(\"Mean Absolute Error (Train):\", mean_absolute_error(y_train_atf, y_predicted_train_atf))\n",
    "print(\"Mean Absolute Error (Test):\", mean_absolute_error(y_test_atf, y_predicted_test_atf))"
   ]
  },
  {
   "cell_type": "code",
   "execution_count": 53,
   "metadata": {},
   "outputs": [
    {
     "name": "stdout",
     "output_type": "stream",
     "text": [
      "Mean Absolute Error (CV): 7.63463944937\n"
     ]
    }
   ],
   "source": [
    "from sklearn.cross_validation import cross_val_predict\n",
    "\n",
    "y_predicted_atf_cv = cross_val_predict(pipe_atf, X_train_atf, y_train_atf.as_matrix().ravel())\n",
    "print(\"Mean Absolute Error (CV):\", mean_absolute_error(y_train_atf, y_predicted_atf_cv))"
   ]
  },
  {
   "cell_type": "code",
   "execution_count": 52,
   "metadata": {},
   "outputs": [
    {
     "data": {
      "text/plain": [
       "<matplotlib.figure.Figure at 0x2ada7549ab38>"
      ]
     },
     "metadata": {},
     "output_type": "display_data"
    },
    {
     "data": {
      "image/png": "[encoded data removed]",
      "text/plain": [
       "<matplotlib.figure.Figure at 0x2ada753a3a58>"
      ]
     },
     "metadata": {},
     "output_type": "display_data"
    },
    {
     "data": {
      "image/png": "[encoded data removed]",
      "text/plain": [
       "<matplotlib.figure.Figure at 0x2ada7549a080>"
      ]
     },
     "metadata": {},
     "output_type": "display_data"
    },
    {
     "data": {
      "image/png": "[encoded data removed]",
      "text/plain": [
       "<matplotlib.figure.Figure at 0x2ada753b7cc0>"
      ]
     },
     "metadata": {},
     "output_type": "display_data"
    }
   ],
   "source": [
    "plot_pred(y_predicted_train_atf, y_train_ct, y_predicted_test_atf, y_test_ct)\n",
    "plot_validation_curve(pipe_atf, X_train_atf, y_train_atf.as_matrix().ravel())\n",
    "learning_curve_fct(X_train_atf, y_train_atf.as_matrix().ravel(), 'Basic Anatomical Features', pipe_atf)"
   ]
  },
  {
   "cell_type": "markdown",
   "metadata": {},
   "source": [
    "# Test HCP Data"
   ]
  },
  {
   "cell_type": "markdown",
   "metadata": {},
   "source": [
    "## Setup"
   ]
  },
  {
   "cell_type": "code",
   "execution_count": 54,
   "metadata": {
    "collapsed": true
   },
   "outputs": [],
   "source": [
    "from pathlib import Path\n",
    "import pandas as pd\n",
    "import numpy as np\n",
    "import subprocess\n",
    "from datetime import date\n",
    "import re"
   ]
  },
  {
   "cell_type": "code",
   "execution_count": 55,
   "metadata": {},
   "outputs": [
    {
     "name": "stdout",
     "output_type": "stream",
     "text": [
      "/gpfs/gsfs6/users/NNDSP/derivatives/fs_hcp_subj\n"
     ]
    }
   ],
   "source": [
    "analysis_version = \"2017_07_07\"\n",
    "project_dir_absolute = Path('/gpfs/gsfs6/users/NNDSP')\n",
    "\n",
    "# Project Directory\n",
    "project_dir = Path(project_dir_absolute) # needs to be pathlib.Path object\n",
    "\n",
    "# Bids Directory\n",
    "bids_fs = project_dir.joinpath('derivatives/fs5.3_subj') # freesurfer bids\n",
    "bids_bar = project_dir.joinpath('derivatives/bar_subj') # baracus bids\n",
    "\n",
    "# HCP Directory\n",
    "hcp_dir = Path('/data/HCP/HCP_900/s3/hcp')\n",
    "\n",
    "# Brain Age File\n",
    "brain_age_file = project_dir.joinpath('anal/analysis_notebooks/phenotype_files/NNDSP_famid.csv')\n",
    "\n",
    "# HCP Outfir of Prepared Freesurfer Files\n",
    "hcp_bar_dir = project_dir.joinpath('derivatives/bar_hcp_subj/')\n",
    "\n",
    "# HCP Freesurfer Data\n",
    "hcp_fs_dir = project_dir.joinpath('derivatives/fs_hcp_subj/')\n",
    "\n",
    "print(hcp_fs_dir.absolute())"
   ]
  },
  {
   "cell_type": "markdown",
   "metadata": {},
   "source": [
    "## Load Subjects"
   ]
  },
  {
   "cell_type": "code",
   "execution_count": 56,
   "metadata": {
    "collapsed": true
   },
   "outputs": [],
   "source": [
    "# get all the necessary surf and stats file paths\n",
    "get_files = False\n",
    "\n",
    "if get_files:\n",
    "    hcp_fs_subj = [p.as_posix() for p in hcp_dir.glob('??????')]\n",
    "    hcp_fs_surf_subj = [p+'/T1w/'+p[len(p)-6:]+'/surf' for p in hcp_fs_subj]\n",
    "    hcp_fs_stats_subj = [p+'/T1w/'+p[len(p)-6:]+'/stats' for p in hcp_fs_subj]"
   ]
  },
  {
   "cell_type": "markdown",
   "metadata": {},
   "source": [
    "## Extract HCP Data"
   ]
  },
  {
   "cell_type": "markdown",
   "metadata": {},
   "source": [
    "### Extract Subject Ages"
   ]
  },
  {
   "cell_type": "code",
   "execution_count": 57,
   "metadata": {
    "collapsed": true
   },
   "outputs": [],
   "source": [
    "import matplotlib.pyplot as plt\n",
    "df_hcp_age = pd.read_csv(project_dir.joinpath('nino/HCP_ages.csv'))\n",
    "df_hcp_age = pd.DataFrame(df_hcp_age[['Subject','Age_in_Yrs']])"
   ]
  },
  {
   "cell_type": "markdown",
   "metadata": {},
   "source": [
    "### Extract HCP Data Simple Model"
   ]
  },
  {
   "cell_type": "code",
   "execution_count": 58,
   "metadata": {
    "collapsed": true
   },
   "outputs": [],
   "source": [
    "import os\n",
    "from glob import glob\n",
    "\n",
    "# get the subjects in the freesurfer directory\n",
    "hcp_subj_dirs = [os.path.basename(s) for s in sorted(glob(os.path.join(hcp_bar_dir, \"sub-*\")))]"
   ]
  },
  {
   "cell_type": "code",
   "execution_count": 59,
   "metadata": {
    "collapsed": true
   },
   "outputs": [],
   "source": [
    "hcp_subjects_to_analyze = subject_to_anal(hcp_subj_dirs, hcp_bar_dir)"
   ]
  },
  {
   "cell_type": "code",
   "execution_count": 60,
   "metadata": {
    "collapsed": true
   },
   "outputs": [],
   "source": [
    "# get age and subject number\n",
    "df_hcp_atf = pd.DataFrame([])\n",
    "df_hcp_atf = df_hcp_atf.assign(Subject = [int(x[4:]) for x in hcp_subjects_to_analyze])\n",
    "df_hcp_atf = df_hcp_atf.merge(df_hcp_age, on = 'Subject')"
   ]
  },
  {
   "cell_type": "code",
   "execution_count": 61,
   "metadata": {
    "collapsed": true
   },
   "outputs": [],
   "source": [
    "white_matter_hcp, grey_matter_hcp, csf_hcp, intra_cran_vol_hcp = get_anat_features(hcp_subjects_to_analyze, hcp_bar_dir)"
   ]
  },
  {
   "cell_type": "code",
   "execution_count": 62,
   "metadata": {
    "collapsed": true
   },
   "outputs": [],
   "source": [
    "# calculate white matter fraction\n",
    "white_matter_hcp = calc_fraction(white_matter_hcp, intra_cran_vol_hcp)\n",
    "\n",
    "# calculate grey matter fraction\n",
    "grey_matter_hcp = calc_fraction(grey_matter_hcp, intra_cran_vol_hcp)\n",
    "\n",
    "# calculate csf fraction\n",
    "csf_hcp = calc_fraction(csf_hcp, intra_cran_vol_hcp)"
   ]
  },
  {
   "cell_type": "code",
   "execution_count": 63,
   "metadata": {
    "collapsed": true
   },
   "outputs": [],
   "source": [
    "df_hcp_atf = df_hcp_atf.assign(Intra_Cran_Vol = intra_cran_vol_hcp)\n",
    "df_hcp_atf = df_hcp_atf.assign(WM_Frac = white_matter_hcp)\n",
    "df_hcp_atf = df_hcp_atf.assign(GM_Frac = grey_matter_hcp)\n",
    "df_hcp_atf = df_hcp_atf.assign(CSF_Frac = csf_hcp)"
   ]
  },
  {
   "cell_type": "markdown",
   "metadata": {},
   "source": [
    "### Extract HCP Data Complex Model"
   ]
  },
  {
   "cell_type": "code",
   "execution_count": 64,
   "metadata": {
    "collapsed": true
   },
   "outputs": [],
   "source": [
    "hcp_features = extract_features(hcp_subjects_to_analyze, hcp_bar_dir)"
   ]
  },
  {
   "cell_type": "markdown",
   "metadata": {},
   "source": [
    "## Test HCP Data"
   ]
  },
  {
   "cell_type": "code",
   "execution_count": 65,
   "metadata": {
    "collapsed": true
   },
   "outputs": [],
   "source": [
    "bar_subj_hcp = [p.as_posix() for p in hcp_bar_dir.glob('sub-*')] # search all subj in baracus directory\n",
    "df_bar_subj_hcp = pd.DataFrame(bar_subj_hcp) # turn the subjects into df\n",
    "df_bar_subj_hcp.columns = ['subj_path'] # rename column of subj paths to subj_path\n",
    "df_bar_subj_hcp = df_bar_subj_hcp.assign(Subject = lambda df: df.subj_path.str.extract('sub-(\\d{2,6})', expand=True))# add participant number column"
   ]
  },
  {
   "cell_type": "code",
   "execution_count": 66,
   "metadata": {
    "collapsed": true
   },
   "outputs": [],
   "source": [
    "df_single_subject_hcp = get_single_subject(df_bar_subj_hcp)"
   ]
  },
  {
   "cell_type": "code",
   "execution_count": 67,
   "metadata": {
    "collapsed": true
   },
   "outputs": [],
   "source": [
    "# merge aseg, ca, thickness and stacked model with real ages\n",
    "df_single_subject_hcp = df_single_subject_hcp.rename(columns={'participant': 'Subject'})\n",
    "df_single_subject_hcp = df_single_subject_hcp.sort_values(by='Subject')\n",
    "df_single_subject_hcp = df_single_subject_hcp.merge(df_hcp_age, on = 'Subject')"
   ]
  },
  {
   "cell_type": "code",
   "execution_count": 68,
   "metadata": {},
   "outputs": [
    {
     "name": "stdout",
     "output_type": "stream",
     "text": [
      "Mean Absolute Error (Aseg): 8.60684507508\n",
      "Mean Absolute Error (Area): 108.869897623\n",
      "Mean Absolute Error (Thickness): 13.3445398192\n",
      "Mean Absolute Error (Stacked Model): 7.92587784783\n"
     ]
    }
   ],
   "source": [
    "# error of baracus model\n",
    "from sklearn.metrics import mean_absolute_error\n",
    "\n",
    "print(\"Mean Absolute Error (Aseg):\", mean_absolute_error(df_single_subject_hcp.iloc[:, 1], df_single_subject_hcp.iloc[:, 5]))\n",
    "print(\"Mean Absolute Error (Area):\", mean_absolute_error(df_single_subject_hcp.iloc[:, 2], df_single_subject_hcp.iloc[:, 5]))\n",
    "print(\"Mean Absolute Error (Thickness):\", mean_absolute_error(df_single_subject_hcp.iloc[:, 3], df_single_subject_hcp.iloc[:, 5]))\n",
    "print(\"Mean Absolute Error (Stacked Model):\", mean_absolute_error(df_single_subject_hcp.iloc[:, 4], df_single_subject_hcp.iloc[:, 5]))"
   ]
  },
  {
   "cell_type": "code",
   "execution_count": 69,
   "metadata": {},
   "outputs": [
    {
     "data": {
      "image/png": "[encoded data removed]",
      "text/plain": [
       "<matplotlib.figure.Figure at 0x2ada72a86860>"
      ]
     },
     "metadata": {},
     "output_type": "display_data"
    }
   ],
   "source": [
    "bar_plot(df_single_subject_hcp, start_at = 1, end_at=5)"
   ]
  },
  {
   "cell_type": "markdown",
   "metadata": {},
   "source": [
    "### Test Against Complex Model"
   ]
  },
  {
   "cell_type": "code",
   "execution_count": 70,
   "metadata": {
    "collapsed": true
   },
   "outputs": [],
   "source": [
    "df_data_hcp_ct = get_source_data('thickness', hcp_features, df_hcp_age, on='Subject')"
   ]
  },
  {
   "cell_type": "code",
   "execution_count": 71,
   "metadata": {
    "collapsed": true
   },
   "outputs": [],
   "source": [
    "y_predicted_hcp_ct = pipe_ct.predict(df_data_hcp_ct.iloc[:,:5124])"
   ]
  },
  {
   "cell_type": "code",
   "execution_count": 72,
   "metadata": {
    "collapsed": true
   },
   "outputs": [],
   "source": [
    "df_data_hcp_sv = get_source_data('aseg', hcp_features, df_hcp_age, on='Subject')"
   ]
  },
  {
   "cell_type": "code",
   "execution_count": 73,
   "metadata": {
    "collapsed": true
   },
   "outputs": [],
   "source": [
    "y_predicted_hcp_sv = pipe_sv.predict(df_data_hcp_sv.iloc[:,:66])"
   ]
  },
  {
   "cell_type": "code",
   "execution_count": 74,
   "metadata": {
    "collapsed": true
   },
   "outputs": [],
   "source": [
    "df_data_hcp_ca = get_source_data('area', hcp_features, df_hcp_age, on='Subject')"
   ]
  },
  {
   "cell_type": "code",
   "execution_count": 75,
   "metadata": {
    "collapsed": true
   },
   "outputs": [],
   "source": [
    "y_predicted_hcp_ca = pipe_ca.predict(df_data_hcp_ca.iloc[:,:5124])"
   ]
  },
  {
   "cell_type": "code",
   "execution_count": 76,
   "metadata": {
    "collapsed": true
   },
   "outputs": [],
   "source": [
    "#### Stacked Anatomy\n",
    "df_stack_hcp = pd.DataFrame([])\n",
    "df_stack_hcp['aseg'] = y_predicted_hcp_sv\n",
    "df_stack_hcp['ct'] = y_predicted_hcp_ct\n",
    "df_stack_hcp['ca'] = y_predicted_hcp_ca\n",
    "df_stack_hcp['Subject'] = df_data_hcp_ct.Subject.values"
   ]
  },
  {
   "cell_type": "code",
   "execution_count": 77,
   "metadata": {
    "collapsed": true
   },
   "outputs": [],
   "source": [
    "y_predicted_stack_hcp = pipe_stack.predict(df_stack_hcp.iloc[:,:3])"
   ]
  },
  {
   "cell_type": "code",
   "execution_count": 78,
   "metadata": {},
   "outputs": [
    {
     "name": "stdout",
     "output_type": "stream",
     "text": [
      "Mean Absolute Error (HCP): 5.946492314\n"
     ]
    }
   ],
   "source": [
    "# test mean absolute error\n",
    "from sklearn.metrics import mean_absolute_error, r2_score\n",
    "\n",
    "print(\"Mean Absolute Error (HCP):\", mean_absolute_error(df_data_hcp_ca.iloc[:,5125], y_predicted_stack_hcp))"
   ]
  },
  {
   "cell_type": "markdown",
   "metadata": {},
   "source": [
    "### Test Against Simple Model"
   ]
  },
  {
   "cell_type": "code",
   "execution_count": 79,
   "metadata": {
    "collapsed": true
   },
   "outputs": [],
   "source": [
    "# test HCP Inputs with Simple Model\n",
    "y_predicted_hcp_atf = pipe_atf.predict(df_hcp_atf.iloc[:, 2:])"
   ]
  },
  {
   "cell_type": "code",
   "execution_count": 80,
   "metadata": {},
   "outputs": [
    {
     "name": "stdout",
     "output_type": "stream",
     "text": [
      "Mean Absolute Error (HCP): 9.7970664829\n"
     ]
    }
   ],
   "source": [
    "# y_predicted_hcp_atf vs. age assigned\n",
    "\n",
    "# test mean absolute error\n",
    "from sklearn.metrics import mean_absolute_error, r2_score\n",
    "\n",
    "print(\"Mean Absolute Error (HCP):\", mean_absolute_error(df_hcp_atf.Age_in_Yrs, y_predicted_hcp_atf))"
   ]
  },
  {
   "cell_type": "markdown",
   "metadata": {},
   "source": [
    "# Test NKI Data"
   ]
  },
  {
   "cell_type": "markdown",
   "metadata": {},
   "source": [
    "## Setup"
   ]
  },
  {
   "cell_type": "code",
   "execution_count": 83,
   "metadata": {},
   "outputs": [
    {
     "name": "stdout",
     "output_type": "stream",
     "text": [
      "/gpfs/gsfs6/users/NNDSP/derivatives/fs_nki_subj\n"
     ]
    }
   ],
   "source": [
    "analysis_version = \"2017_07_07\"\n",
    "project_dir_absolute = Path('/gpfs/gsfs6/users/NNDSP')\n",
    "\n",
    "# Project Directory\n",
    "project_dir = Path(project_dir_absolute) # needs to be pathlib.Path object\n",
    "\n",
    "# Bids Directory\n",
    "bids_fs = project_dir.joinpath('derivatives/fs5.3_subj') # freesurfer bids\n",
    "bids_bar = project_dir.joinpath('derivatives/bar_subj') # baracus bids\n",
    "\n",
    "# NKI Directory\n",
    "nki_dir = Path('/data/NNDSP/anal/NKI')\n",
    "\n",
    "# Brain Age File\n",
    "brain_age_file = project_dir.joinpath('anal/analysis_notebooks/phenotype_files/NNDSP_famid.csv')\n",
    "\n",
    "# NKI Behavioral Data File\n",
    "nki_bh_file = project_dir.joinpath('anal/analysis_notebooks/phenotype_files/participants.tsv')\n",
    "\n",
    "# NKI baracus\n",
    "nki_bar_dir = project_dir.joinpath('derivatives/bar_nki_subj/')\n",
    "\n",
    "# NKI Freesurfer Data\n",
    "nki_fs_dir = project_dir.joinpath('derivatives/fs_nki_subj/')\n",
    "\n",
    "print(nki_fs_dir.absolute())"
   ]
  },
  {
   "cell_type": "code",
   "execution_count": 84,
   "metadata": {
    "collapsed": true
   },
   "outputs": [],
   "source": [
    "df_nki_ages = pd.read_csv(project_dir.joinpath('anal/analysis_notebooks/phenotype_files/participants.tsv'), sep='\\t')"
   ]
  },
  {
   "cell_type": "markdown",
   "metadata": {},
   "source": [
    "## Extract NKI Data"
   ]
  },
  {
   "cell_type": "code",
   "execution_count": 85,
   "metadata": {
    "collapsed": true
   },
   "outputs": [],
   "source": [
    "import os\n",
    "from glob import glob\n",
    "\n",
    "# get the subjects in the freesurfer directory\n",
    "nki_subj_dirs = [os.path.basename(s) for s in sorted(glob(os.path.join(nki_bar_dir, \"sub-*\")))]"
   ]
  },
  {
   "cell_type": "code",
   "execution_count": 86,
   "metadata": {
    "collapsed": true
   },
   "outputs": [],
   "source": [
    "nki_subjects_to_analyze = subject_to_anal(nki_subj_dirs, nki_bar_dir)"
   ]
  },
  {
   "cell_type": "code",
   "execution_count": 87,
   "metadata": {
    "collapsed": true
   },
   "outputs": [],
   "source": [
    "# get age and subject number\n",
    "df_nki_atf = pd.DataFrame([])\n",
    "df_nki_atf = df_nki_atf.assign(participant_name = [x for x in nki_subjects_to_analyze])\n",
    "df_nki_atf = df_nki_atf.assign(participant_id = [x[4:13] for x in df_nki_atf.participant_name.values])\n",
    "df_nki_atf = df_nki_atf.drop_duplicates(subset='participant_id', keep='first')\n",
    "df_nki_atf = df_nki_atf.merge(df_nki_ages, on = 'participant_id')"
   ]
  },
  {
   "cell_type": "code",
   "execution_count": 88,
   "metadata": {
    "collapsed": true
   },
   "outputs": [],
   "source": [
    "white_matter_nki, grey_matter_nki, csf_nki, intra_cran_vol_nki = get_anat_features(df_nki_atf.participant_name.values, nki_bar_dir)"
   ]
  },
  {
   "cell_type": "code",
   "execution_count": 89,
   "metadata": {
    "collapsed": true
   },
   "outputs": [],
   "source": [
    "# calculate white matter fraction\n",
    "white_matter_nki = calc_fraction(white_matter_nki, intra_cran_vol_nki)\n",
    "\n",
    "# calculate grey matter fraction\n",
    "grey_matter_nki = calc_fraction(grey_matter_nki, intra_cran_vol_nki)\n",
    "\n",
    "# calculate csf fraction\n",
    "csf_nki = calc_fraction(csf_nki, intra_cran_vol_nki)"
   ]
  },
  {
   "cell_type": "code",
   "execution_count": 90,
   "metadata": {
    "collapsed": true
   },
   "outputs": [],
   "source": [
    "df_nki_atf = df_nki_atf.assign(Intra_Cran_Vol = intra_cran_vol_nki)\n",
    "df_nki_atf = df_nki_atf.assign(WM_Frac = white_matter_nki)\n",
    "df_nki_atf = df_nki_atf.assign(GM_Frac = grey_matter_nki)\n",
    "df_nki_atf = df_nki_atf.assign(CSF_Frac = csf_nki)"
   ]
  },
  {
   "cell_type": "markdown",
   "metadata": {},
   "source": [
    "### Extract NKI Data Complex Model"
   ]
  },
  {
   "cell_type": "code",
   "execution_count": 91,
   "metadata": {
    "collapsed": true
   },
   "outputs": [],
   "source": [
    "nki_features = extract_features(df_nki_atf.participant_name.values, nki_bar_dir)"
   ]
  },
  {
   "cell_type": "markdown",
   "metadata": {},
   "source": [
    "### Test against LeiCa_LIFE Model"
   ]
  },
  {
   "cell_type": "code",
   "execution_count": 92,
   "metadata": {
    "collapsed": true
   },
   "outputs": [],
   "source": [
    "df_bar_subj_nki = pd.DataFrame([p.as_posix() for p in nki_bar_dir.glob('sub-*')]) # search all subj in baracus directory and turn the subjects into df\n",
    "df_bar_subj_nki.columns = ['subj_path'] # rename column of subj paths to subj_path\n",
    "df_bar_subj_nki = df_bar_subj_nki.assign(participant_id = lambda df: df.subj_path.str.extract('sub-(A\\d{2,8})', expand=True))# add participant number column"
   ]
  },
  {
   "cell_type": "code",
   "execution_count": 93,
   "metadata": {
    "collapsed": true
   },
   "outputs": [],
   "source": [
    "df_bar_subj_nki = df_bar_subj_nki.sort_values(by='participant_id')\n",
    "df_bar_subj_nki = df_bar_subj_nki.drop_duplicates(subset='participant_id', keep='first')"
   ]
  },
  {
   "cell_type": "code",
   "execution_count": 94,
   "metadata": {
    "collapsed": true
   },
   "outputs": [],
   "source": [
    "df_bar_subj_nki = df_bar_subj_nki.merge(df_nki_ages, on='participant_id')"
   ]
  },
  {
   "cell_type": "code",
   "execution_count": 95,
   "metadata": {
    "collapsed": true
   },
   "outputs": [],
   "source": [
    "df_single_subject_nki = get_single_subject(df_bar_subj_nki, to_int=False)"
   ]
  },
  {
   "cell_type": "code",
   "execution_count": 96,
   "metadata": {
    "collapsed": true
   },
   "outputs": [],
   "source": [
    "# merge aseg, ca, thickness and stacked model with real ages\n",
    "df_single_subject_nki = df_single_subject_nki.rename(columns={'participant': 'participant_id'})\n",
    "df_single_subject_nki = df_single_subject_nki.sort_values(by='participant_id')\n",
    "df_single_subject_nki = df_single_subject_nki.merge(df_nki_ages, on = 'participant_id')"
   ]
  },
  {
   "cell_type": "code",
   "execution_count": 97,
   "metadata": {},
   "outputs": [
    {
     "name": "stdout",
     "output_type": "stream",
     "text": [
      "Mean Absolute Error (Aseg): 10.0268668575\n",
      "Mean Absolute Error (Area): 100.530877128\n",
      "Mean Absolute Error (Thickness): 9.83434243637\n",
      "Mean Absolute Error (Stacked Model): 9.45275023262\n"
     ]
    }
   ],
   "source": [
    "# error of baracus model\n",
    "from sklearn.metrics import mean_absolute_error\n",
    "\n",
    "print(\"Mean Absolute Error (Aseg):\", mean_absolute_error(df_single_subject_nki.iloc[:, 1], df_single_subject_nki.age))\n",
    "print(\"Mean Absolute Error (Area):\", mean_absolute_error(df_single_subject_nki.iloc[:, 2], df_single_subject_nki.age))\n",
    "print(\"Mean Absolute Error (Thickness):\", mean_absolute_error(df_single_subject_nki.iloc[:, 3], df_single_subject_nki.age))\n",
    "print(\"Mean Absolute Error (Stacked Model):\", mean_absolute_error(df_single_subject_nki.iloc[:, 4], df_single_subject_nki.age))"
   ]
  },
  {
   "cell_type": "code",
   "execution_count": 98,
   "metadata": {},
   "outputs": [
    {
     "data": {
      "image/png": "[encoded data removed]",
      "text/plain": [
       "<matplotlib.figure.Figure at 0x2ada757e9908>"
      ]
     },
     "metadata": {},
     "output_type": "display_data"
    }
   ],
   "source": [
    "bar_plot(df_single_subject_nki, start_at=1, end_at=5)"
   ]
  },
  {
   "cell_type": "markdown",
   "metadata": {},
   "source": [
    "### Test Against Complex Model"
   ]
  },
  {
   "cell_type": "code",
   "execution_count": 99,
   "metadata": {
    "collapsed": true
   },
   "outputs": [],
   "source": [
    "df_data_nki_ct = get_source_data('thickness', nki_features, df_nki_ages, on='participant_id', is_string=True)"
   ]
  },
  {
   "cell_type": "code",
   "execution_count": 100,
   "metadata": {
    "collapsed": true
   },
   "outputs": [],
   "source": [
    "y_predicted_nki_ct = pipe_ct.predict(df_data_nki_ct.iloc[:,:5124])"
   ]
  },
  {
   "cell_type": "code",
   "execution_count": 101,
   "metadata": {
    "collapsed": true
   },
   "outputs": [],
   "source": [
    "df_data_nki_sv = get_source_data('aseg', nki_features, df_nki_ages, on='participant_id', is_string=True)"
   ]
  },
  {
   "cell_type": "code",
   "execution_count": 102,
   "metadata": {
    "collapsed": true
   },
   "outputs": [],
   "source": [
    "y_predicted_nki_sv = pipe_sv.predict(df_data_nki_sv.iloc[:,:66])"
   ]
  },
  {
   "cell_type": "code",
   "execution_count": 103,
   "metadata": {
    "collapsed": true
   },
   "outputs": [],
   "source": [
    "df_data_nki_ca = get_source_data('area', nki_features, df_nki_ages, on='participant_id', is_string=True)"
   ]
  },
  {
   "cell_type": "code",
   "execution_count": 104,
   "metadata": {
    "collapsed": true
   },
   "outputs": [],
   "source": [
    "y_predicted_nki_ca = pipe_ca.predict(df_data_nki_ca.iloc[:,:5124])"
   ]
  },
  {
   "cell_type": "code",
   "execution_count": 105,
   "metadata": {
    "collapsed": true
   },
   "outputs": [],
   "source": [
    "#### Stacked Anatomy\n",
    "df_stack_nki = pd.DataFrame([])\n",
    "df_stack_nki['aseg'] = y_predicted_nki_sv\n",
    "df_stack_nki['ct'] = y_predicted_nki_ct\n",
    "df_stack_nki['ca'] = y_predicted_nki_ca\n",
    "df_stack_nki['participant_id'] = df_data_nki_ct.participant_id.values"
   ]
  },
  {
   "cell_type": "code",
   "execution_count": 106,
   "metadata": {
    "collapsed": true
   },
   "outputs": [],
   "source": [
    "y_predicted_stack_nki = pipe_stack.predict(df_stack_nki.iloc[:,:3])"
   ]
  },
  {
   "cell_type": "code",
   "execution_count": 107,
   "metadata": {},
   "outputs": [
    {
     "name": "stdout",
     "output_type": "stream",
     "text": [
      "Mean Absolute Error (NKI): 7.57784055043\n"
     ]
    }
   ],
   "source": [
    "# test mean absolute error\n",
    "from sklearn.metrics import mean_absolute_error, r2_score\n",
    "\n",
    "print(\"Mean Absolute Error (NKI):\", mean_absolute_error(df_data_nki_ca.age, y_predicted_stack_nki))"
   ]
  },
  {
   "cell_type": "markdown",
   "metadata": {},
   "source": [
    "### Test Against Simple Model"
   ]
  },
  {
   "cell_type": "code",
   "execution_count": 110,
   "metadata": {
    "collapsed": true
   },
   "outputs": [],
   "source": [
    "if 'participant_name' in df_nki_atf.columns:\n",
    "    del df_nki_atf['participant_name']"
   ]
  },
  {
   "cell_type": "code",
   "execution_count": 111,
   "metadata": {
    "collapsed": true
   },
   "outputs": [],
   "source": [
    "# test HCP Inputs with Simple Model\n",
    "y_predicted_nki_atf = pipe_atf.predict(df_nki_atf.iloc[:, 4:])"
   ]
  },
  {
   "cell_type": "code",
   "execution_count": 112,
   "metadata": {},
   "outputs": [
    {
     "name": "stdout",
     "output_type": "stream",
     "text": [
      "Mean Absolute Error (NKI): 12.6704936446\n"
     ]
    }
   ],
   "source": [
    "# y_predicted_hcp_atf vs. age assigned\n",
    "\n",
    "# test mean absolute error\n",
    "from sklearn.metrics import mean_absolute_error, r2_score\n",
    "\n",
    "print(\"Mean Absolute Error (NKI):\", mean_absolute_error(df_nki_atf.age, y_predicted_nki_atf))"
   ]
  },
  {
   "cell_type": "code",
   "execution_count": 113,
   "metadata": {},
   "outputs": [
    {
     "data": {
      "image/png": "[encoded data removed]",
      "text/plain": [
       "<matplotlib.figure.Figure at 0x2ada75ca8f28>"
      ]
     },
     "metadata": {},
     "output_type": "display_data"
    }
   ],
   "source": [
    "import matplotlib.pyplot as plt\n",
    "\n",
    "plt.scatter(df_nki_atf.age, y_predicted_nki_atf)\n",
    "plt.plot(numpy.arange(0,80,0.1), numpy.arange(0,80,0.1), c='black', linewidth = 3)\n",
    "plt.xlabel(\"Age (NKI)\")\n",
    "plt.ylabel(\"Predicted Age (NKI)\")\n",
    "plt.ylim(0, 80)\n",
    "plt.show()"
   ]
  },
  {
   "cell_type": "markdown",
   "metadata": {},
   "source": [
    "# Statistical Tests"
   ]
  },
  {
   "cell_type": "code",
   "execution_count": 114,
   "metadata": {
    "collapsed": true
   },
   "outputs": [],
   "source": [
    "%run /data/NNDSP/anal/analysis_notebooks/stat_tests.ipynb"
   ]
  },
  {
   "cell_type": "markdown",
   "metadata": {},
   "source": [
    "## Hypothesis #1"
   ]
  },
  {
   "cell_type": "markdown",
   "metadata": {},
   "source": [
    "If we train a previously presented machine learning model predicting age from a large number of derived anatomical features on a new data set, it will perform better than chance at predicting age outside of the training data."
   ]
  },
  {
   "cell_type": "markdown",
   "metadata": {},
   "source": [
    "### Chance on Shaw Data"
   ]
  },
  {
   "cell_type": "code",
   "execution_count": null,
   "metadata": {
    "collapsed": true
   },
   "outputs": [],
   "source": [
    "# get all the subject ages from Shaw Data\n",
    "subject_ages = [x for x in df_data_ca.age_at_scan]\n",
    "df_subject_ages = pd.DataFrame(subject_ages)\n",
    "# df of random age predictions\n",
    "df_random_ages = pd.DataFrame([])\n",
    "df_random_ages = df_random_ages.assign(MASKID = df_data_ca.MASKID)"
   ]
  },
  {
   "cell_type": "code",
   "execution_count": null,
   "metadata": {
    "collapsed": true
   },
   "outputs": [],
   "source": [
    "df_random_ages = random_its(1000, df_random_ages, subject_ages)"
   ]
  },
  {
   "cell_type": "code",
   "execution_count": null,
   "metadata": {
    "collapsed": true
   },
   "outputs": [],
   "source": [
    "arr_mae = get_arr_mae(df_random_ages, df_subject_ages)"
   ]
  },
  {
   "cell_type": "code",
   "execution_count": null,
   "metadata": {
    "collapsed": true
   },
   "outputs": [],
   "source": [
    "lines = {\n",
    "    'MAE Complex Model' : scores_test.get_value(index='pred_age_test', col='mae'),\n",
    "    'MAE Simple Model' : mean_absolute_error(y_train_atf, y_predicted_train_atf),\n",
    "    #'MAE Simple Stacked Model' : mean_absolute_error(y_test_atf, y_predicted_test_ss),\n",
    "}\n",
    "plot_rand_hist(arr_mae, lines, title='Random Mean Absolute Error Distribution, NNDSP Data', set_context='poster',\n",
    "               fig_tuple=(10, 7))"
   ]
  },
  {
   "cell_type": "code",
   "execution_count": null,
   "metadata": {
    "collapsed": true
   },
   "outputs": [],
   "source": [
    "print(\"Percentile of MAE Complex Model\", percentile(arr_mae, scores_test.get_value(index='pred_age_test', col='mae')))"
   ]
  },
  {
   "cell_type": "code",
   "execution_count": null,
   "metadata": {
    "collapsed": true
   },
   "outputs": [],
   "source": [
    "print(\"Percentile of MAE Simple Model\", percentile(arr_mae, mean_absolute_error(y_train_atf, y_predicted_train_atf)))"
   ]
  },
  {
   "cell_type": "code",
   "execution_count": null,
   "metadata": {
    "collapsed": true
   },
   "outputs": [],
   "source": [
    "print(\"Percentile of MAE Baracus\", percentile(arr_mae, mean_absolute_error(df_bar_subj.iloc[:, 5], df_bar_subj.iloc[:, 7])))"
   ]
  },
  {
   "cell_type": "markdown",
   "metadata": {},
   "source": [
    "### Chance on HCP Data"
   ]
  },
  {
   "cell_type": "code",
   "execution_count": null,
   "metadata": {
    "collapsed": true
   },
   "outputs": [],
   "source": [
    "# get all the subject ages\n",
    "subject_hcp_ages = [x for x in df_hcp_age.Age_in_Yrs]\n",
    "df_hcp_subject_ages = pd.DataFrame(subject_hcp_ages)\n",
    "# df of random age predictions\n",
    "df_hcp_random_ages = pd.DataFrame([])\n",
    "df_hcp_random_ages = df_hcp_random_ages.assign(Subject = df_hcp_age.Subject)"
   ]
  },
  {
   "cell_type": "code",
   "execution_count": null,
   "metadata": {
    "collapsed": true
   },
   "outputs": [],
   "source": [
    "df_hcp_random_ages = random_its(1000, df_hcp_random_ages, subject_hcp_ages)"
   ]
  },
  {
   "cell_type": "code",
   "execution_count": null,
   "metadata": {
    "collapsed": true
   },
   "outputs": [],
   "source": [
    "arr_mae_hcp = get_arr_mae(df_hcp_random_ages, df_hcp_subject_ages)"
   ]
  },
  {
   "cell_type": "code",
   "execution_count": null,
   "metadata": {
    "collapsed": true
   },
   "outputs": [],
   "source": [
    "hcp_lines = {\n",
    "    'MAE Complex Model (HCP)' : mean_absolute_error(df_data_hcp_ca.iloc[:,5125], y_predicted_stack_hcp),\n",
    "    'MAE Simple Model (HCP)' : mean_absolute_error(df_hcp_atf.Age_in_Yrs, y_predicted_hcp_atf)\n",
    "}\n",
    "plot_rand_hist(arr_mae_hcp, hcp_lines, x_max = 11.5, title='HCP Data',\n",
    "              set_context='poster', fig_tuple=(10, 7), legend=False)"
   ]
  },
  {
   "cell_type": "code",
   "execution_count": null,
   "metadata": {
    "collapsed": true
   },
   "outputs": [],
   "source": [
    "print(\"Percentile of MAE Complex Model (HCP)\", percentile(arr_mae_hcp, \n",
    "                                                    mean_absolute_error(df_data_hcp_ca.iloc[:,5125], y_predicted_stack_hcp)))"
   ]
  },
  {
   "cell_type": "code",
   "execution_count": null,
   "metadata": {
    "collapsed": true
   },
   "outputs": [],
   "source": [
    "print(\"Percentile of MAE Simple Model (HCP)\", percentile(arr_mae_hcp, \n",
    "                                                  mean_absolute_error(df_hcp_atf.Age_in_Yrs, y_predicted_hcp_atf)))"
   ]
  },
  {
   "cell_type": "code",
   "execution_count": null,
   "metadata": {
    "collapsed": true
   },
   "outputs": [],
   "source": [
    "print(\"Percentile of MAE Baracus (HCP)\", percentile(arr_mae_hcp,\n",
    "                                                    mean_absolute_error(df_single_subject_hcp.iloc[:, 4], df_single_subject_hcp.iloc[:, 5])))"
   ]
  },
  {
   "cell_type": "markdown",
   "metadata": {},
   "source": [
    "### Chance on NKI Data"
   ]
  },
  {
   "cell_type": "code",
   "execution_count": null,
   "metadata": {
    "collapsed": true
   },
   "outputs": [],
   "source": [
    "# get all the subject ages\n",
    "subject_nki_ages = [x for x in df_nki_atf.age]\n",
    "df_nki_subject_ages = pd.DataFrame(subject_nki_ages)\n",
    "# df of random age predictions\n",
    "df_nki_random_ages = pd.DataFrame([])\n",
    "df_nki_random_ages = df_nki_random_ages.assign(participant_id = df_nki_atf.participant_id)"
   ]
  },
  {
   "cell_type": "code",
   "execution_count": null,
   "metadata": {
    "collapsed": true
   },
   "outputs": [],
   "source": [
    "df_nki_random_ages = random_its(1000, df_nki_random_ages, subject_nki_ages)"
   ]
  },
  {
   "cell_type": "code",
   "execution_count": null,
   "metadata": {
    "collapsed": true
   },
   "outputs": [],
   "source": [
    "arr_mae_nki = get_arr_mae(df_nki_random_ages, df_nki_subject_ages)"
   ]
  },
  {
   "cell_type": "code",
   "execution_count": null,
   "metadata": {
    "collapsed": true
   },
   "outputs": [],
   "source": [
    "nki_lines = {\n",
    "    'MAE Complex Model (NKI)' : mean_absolute_error(df_data_nki_ca.iloc[:,5125], y_predicted_stack_nki),\n",
    "    'MAE Simple Model (NKI)' : mean_absolute_error(df_nki_atf.age, y_predicted_nki_atf),\n",
    "    #'MAE Simple Stacked Model (NKI)' : mean_absolute_error(df_nki_atf.age, y_predicted_nki_ss),\n",
    "}\n",
    "plot_rand_hist(arr_mae_nki, nki_lines, xlim_min =4, title='NKI Data',\n",
    "              set_context='poster', fig_tuple=(10, 7), legend=False)"
   ]
  },
  {
   "cell_type": "code",
   "execution_count": null,
   "metadata": {
    "collapsed": true
   },
   "outputs": [],
   "source": [
    "print(\"Percentile of MAE Complex Model (NKI)\", percentile(arr_mae_nki, \n",
    "                                                    mean_absolute_error(df_data_nki_ca.iloc[:,5125], \n",
    "                                                                        y_predicted_stack_nki)))"
   ]
  },
  {
   "cell_type": "code",
   "execution_count": null,
   "metadata": {
    "collapsed": true
   },
   "outputs": [],
   "source": [
    "print(\"Percentile of MAE Simple Model (NKI)\", percentile(arr_mae_nki, \n",
    "                                                  mean_absolute_error(df_nki_atf.age, y_predicted_nki_atf)))"
   ]
  },
  {
   "cell_type": "code",
   "execution_count": null,
   "metadata": {
    "collapsed": true
   },
   "outputs": [],
   "source": [
    "print(\"Percentile of MAE Baracus (HCP)\", percentile(arr_mae_nki,\n",
    "                                                    mean_absolute_error(df_single_subject_nki.age, df_single_subject_nki.iloc[:, 5])))"
   ]
  },
  {
   "cell_type": "markdown",
   "metadata": {},
   "source": [
    "## Hypothesis #2 "
   ]
  },
  {
   "cell_type": "markdown",
   "metadata": {},
   "source": [
    "The model trained with many derived features will have better out of sample performance than a model trained with fewer, simpler features."
   ]
  },
  {
   "cell_type": "markdown",
   "metadata": {},
   "source": [
    "### Complex Model vs. Simple Model"
   ]
  },
  {
   "cell_type": "code",
   "execution_count": null,
   "metadata": {
    "collapsed": true
   },
   "outputs": [],
   "source": [
    "temp_tr = y_train_atf.assign(y_pred = y_predicted_train_atf).sort_index()\n",
    "\n",
    "statistic, pvalue, sum = wilcoxon_sum(np.subtract(temp_tr.y_pred.values, temp_tr.age_at_scan.values), \n",
    "                                      np.subtract(dd_train.pred_age_train, dd_train.age_at_scan))\n",
    "print(\"Statistic: \", statistic, '\\n', \"Pvalue: \", pvalue, '\\n',\"Correlation: \", statistic/sum)"
   ]
  },
  {
   "cell_type": "code",
   "execution_count": null,
   "metadata": {
    "collapsed": true,
    "scrolled": true
   },
   "outputs": [],
   "source": [
    "plot_simple_v_complex(temp_tr.y_pred.values, dd_train.pred_age_train, \"(Train)\")"
   ]
  },
  {
   "cell_type": "code",
   "execution_count": null,
   "metadata": {
    "collapsed": true
   },
   "outputs": [],
   "source": [
    "temp_ts = y_test_atf.assign(y_pred = y_predicted_test_atf).sort_index()\n",
    "statistic, pvalue, sum = wilcoxon_sum(np.subtract(temp_ts.y_pred.values, temp_ts.age_at_scan.values), \n",
    "                                      np.subtract(dd_test.pred_age_test, dd_test.age_at_scan))\n",
    "print(\"Statistic: \", statistic, '\\n', \"Pvalue: \", pvalue, '\\n',\"Correlation: \", statistic/sum)"
   ]
  },
  {
   "cell_type": "code",
   "execution_count": null,
   "metadata": {
    "collapsed": true
   },
   "outputs": [],
   "source": [
    "plot_simple_v_complex(temp_ts.y_pred, dd_test.pred_age_test, \"\", fig_tuple=(5, 5), fig_title='simple_graph.png')"
   ]
  },
  {
   "cell_type": "code",
   "execution_count": null,
   "metadata": {
    "collapsed": true
   },
   "outputs": [],
   "source": [
    "plot_list = {\n",
    "    \"Simple Model\" : np.subtract(temp_ts.y_pred.values, temp_ts.age_at_scan.values), \n",
    "    \"Complex Model\" : np.subtract(dd_test.pred_age_test, dd_test.age_at_scan),\n",
    "}\n",
    "plot_ae_hist(plot_list, title='Distribution of Error Predictions', set_context='poster',\n",
    "            fig_tuple=(12, 8), file_title='simple_hist.png')"
   ]
  },
  {
   "cell_type": "code",
   "execution_count": null,
   "metadata": {
    "collapsed": true
   },
   "outputs": [],
   "source": [
    "%store dd_test"
   ]
  },
  {
   "cell_type": "markdown",
   "metadata": {},
   "source": [
    "## Hypothesis #3"
   ]
  },
  {
   "cell_type": "markdown",
   "metadata": {},
   "source": [
    "The model trained with many derived features will perform better than the model with fewer, simpler features when tested on data collected at different sites. "
   ]
  },
  {
   "cell_type": "markdown",
   "metadata": {},
   "source": [
    "### HCP Data"
   ]
  },
  {
   "cell_type": "markdown",
   "metadata": {},
   "source": [
    "#### Complex Model vs Simple Model"
   ]
  },
  {
   "cell_type": "code",
   "execution_count": null,
   "metadata": {
    "collapsed": true
   },
   "outputs": [],
   "source": [
    "%store -r y_predicted_hcp_ss"
   ]
  },
  {
   "cell_type": "code",
   "execution_count": null,
   "metadata": {
    "collapsed": true
   },
   "outputs": [],
   "source": [
    "df_hcp_pred_data = get_wil_helper(df_hcp_atf, y_predicted_hcp_atf, y_predicted_hcp_ss, \n",
    "                                  y_predicted_stack_hcp, df_hcp_age, subj='Subject')"
   ]
  },
  {
   "cell_type": "code",
   "execution_count": null,
   "metadata": {
    "collapsed": true
   },
   "outputs": [],
   "source": [
    "statistic, pvalue, sum = wilcoxon_sum(df_hcp_pred_data.Atf_Err, df_hcp_pred_data.Complx_Err)\n",
    "print(\"Statistic: \", statistic, '\\n', \"Pvalue: \", pvalue, '\\n',\"Correlation: \", statistic/sum)"
   ]
  },
  {
   "cell_type": "code",
   "execution_count": null,
   "metadata": {
    "collapsed": true
   },
   "outputs": [],
   "source": [
    "plot_simple_v_complex(df_hcp_pred_data.atf_pred, df_hcp_pred_data['stack'], title='', \n",
    "                      label='Simple', fig_tuple=(5, 5))"
   ]
  },
  {
   "cell_type": "code",
   "execution_count": null,
   "metadata": {
    "collapsed": true
   },
   "outputs": [],
   "source": [
    "plot_list_hcp = {\n",
    "    \"Complex Model\" : df_hcp_pred_data.Complx_Err,\n",
    "    \"Simple Model\" : df_hcp_pred_data.Atf_Err\n",
    "}\n",
    "plot_ae_hist(plot_list_hcp, title='Distribution of Error Predictions, HCP', set_context='poster',\n",
    "            fig_tuple=(12, 8))"
   ]
  },
  {
   "cell_type": "code",
   "execution_count": null,
   "metadata": {
    "collapsed": true
   },
   "outputs": [],
   "source": [
    "%store df_hcp_pred_data"
   ]
  },
  {
   "cell_type": "markdown",
   "metadata": {},
   "source": [
    "#### Complex Model vs Simple Stacked Model"
   ]
  },
  {
   "cell_type": "code",
   "execution_count": null,
   "metadata": {
    "collapsed": true
   },
   "outputs": [],
   "source": [
    "statistic, pvalue, sum = wilcoxon_sum(df_hcp_pred_data.SS_Err, df_hcp_pred_data.Complx_Err)\n",
    "print(\"Statistic: \", statistic, '\\n', \"Pvalue: \", pvalue, '\\n',\"Correlation: \", statistic/sum)"
   ]
  },
  {
   "cell_type": "code",
   "execution_count": null,
   "metadata": {
    "collapsed": true,
    "scrolled": true
   },
   "outputs": [],
   "source": [
    "plot_list_hcp_s = {\n",
    "    \"Complex Model\" : df_hcp_pred_data.Complx_Err,\n",
    "    \"Simple Stacked Model\" : df_hcp_pred_data.SS_Err\n",
    "}\n",
    "plot_ae_hist(plot_list_hcp_s)"
   ]
  },
  {
   "cell_type": "markdown",
   "metadata": {},
   "source": [
    "### NKI Data"
   ]
  },
  {
   "cell_type": "markdown",
   "metadata": {},
   "source": [
    "#### Complex Model vs Simple Model"
   ]
  },
  {
   "cell_type": "code",
   "execution_count": null,
   "metadata": {
    "collapsed": true
   },
   "outputs": [],
   "source": [
    "%store -r y_predicted_nki_ss"
   ]
  },
  {
   "cell_type": "code",
   "execution_count": null,
   "metadata": {
    "collapsed": true
   },
   "outputs": [],
   "source": [
    "df_nki_pred_data = get_wil_helper(df_nki_atf, y_predicted_nki_atf, y_predicted_nki_ss, y_predicted_stack_nki,\n",
    "                                 df_nki_ages, subj='participant_id')"
   ]
  },
  {
   "cell_type": "code",
   "execution_count": null,
   "metadata": {
    "collapsed": true
   },
   "outputs": [],
   "source": [
    "statistic, pvalue, sum = wilcoxon_sum(df_nki_pred_data.Atf_Err, df_nki_pred_data.Complx_Err)\n",
    "print(\"Statistic: \", statistic, '\\n', \"Pvalue: \", pvalue, '\\n',\"Correlation: \", statistic/sum)"
   ]
  },
  {
   "cell_type": "code",
   "execution_count": null,
   "metadata": {
    "collapsed": true
   },
   "outputs": [],
   "source": [
    "import seaborn as sns\n",
    "sns.set_context('notebook')\n",
    "plt.scatter(df_nki_pred_data.age, df_nki_pred_data.atf_pred, label = 'Simple')\n",
    "plt.scatter(df_nki_pred_data.age, df_nki_pred_data['stack'], label ='Complex')\n",
    "plt.legend(loc='best')\n",
    "plt.show()\n",
    "plot_simple_v_complex(df_nki_pred_data.atf_pred, df_nki_pred_data['stack'], title='',\n",
    "                     fig_tuple=(5, 5), fig_title='nki_graph.png')"
   ]
  },
  {
   "cell_type": "code",
   "execution_count": null,
   "metadata": {
    "collapsed": true
   },
   "outputs": [],
   "source": [
    "plot_list_nki = {\n",
    "    \"Complex Model\" : df_nki_pred_data.Complx_Err,\n",
    "    \"Simple Model\" : df_nki_pred_data.Atf_Err\n",
    "}\n",
    "plot_ae_hist(plot_list_nki, title='Distribution of Error Predictions, NKI', set_context='poster',\n",
    "            fig_tuple=(12, 8))"
   ]
  },
  {
   "cell_type": "code",
   "execution_count": null,
   "metadata": {
    "collapsed": true
   },
   "outputs": [],
   "source": [
    "%store df_nki_pred_data"
   ]
  },
  {
   "cell_type": "markdown",
   "metadata": {},
   "source": [
    "#### Complex Model vs Simple Stacked Model"
   ]
  },
  {
   "cell_type": "code",
   "execution_count": null,
   "metadata": {
    "collapsed": true
   },
   "outputs": [],
   "source": [
    "statistic, pvalue, sum = wilcoxon_sum(df_nki_pred_data.SS_Err, df_nki_pred_data.Complx_Err)\n",
    "print(\"Statistic: \", statistic, '\\n', \"Pvalue: \", pvalue, '\\n',\"Correlation: \", statistic/sum)"
   ]
  },
  {
   "cell_type": "code",
   "execution_count": null,
   "metadata": {
    "collapsed": true
   },
   "outputs": [],
   "source": [
    "plot_simple_v_complex(df_nki_pred_data.ss_pred, df_nki_pred_data['stack'], title='', \n",
    "                      label='Simple Stacked', fig_tuple=(5, 5))"
   ]
  },
  {
   "cell_type": "code",
   "execution_count": null,
   "metadata": {
    "collapsed": true,
    "scrolled": true
   },
   "outputs": [],
   "source": [
    "plot_list_nki_s = {\n",
    "    \"Complex Model\" : df_nki_pred_data.Complx_Err,\n",
    "    \"Simple Stacked Model\" : df_nki_pred_data.SS_Err\n",
    "}\n",
    "plot_ae_hist(plot_list_nki_s, title='Distribution of Error Predictions (NKI Data)', set_context='notebook',\n",
    "            fig_tuple=(7, 4))"
   ]
  },
  {
   "cell_type": "markdown",
   "metadata": {
    "collapsed": true
   },
   "source": [
    "# Exploratory Analysis"
   ]
  },
  {
   "cell_type": "markdown",
   "metadata": {},
   "source": [
    "## Train Test Split"
   ]
  },
  {
   "cell_type": "code",
   "execution_count": null,
   "metadata": {
    "collapsed": true
   },
   "outputs": [],
   "source": [
    "df_tt_split = mult_iterations(400, df_data_ct, df_data_sv, df_data_ca, df_data_hcp_ct, df_data_hcp_sv, df_data_hcp_ca, df_data_nki_ct, df_data_nki_sv, df_data_nki_ca,\n",
    "                   df_atf, df_hcp_atf, df_nki_atf)"
   ]
  },
  {
   "cell_type": "code",
   "execution_count": null,
   "metadata": {
    "collapsed": true
   },
   "outputs": [],
   "source": [
    "df_tt_split.head()"
   ]
  },
  {
   "cell_type": "code",
   "execution_count": null,
   "metadata": {
    "collapsed": true
   },
   "outputs": [],
   "source": [
    "sns.distplot(df_tt_split.pval_nki)\n",
    "plt.show()"
   ]
  },
  {
   "cell_type": "code",
   "execution_count": null,
   "metadata": {
    "collapsed": true
   },
   "outputs": [],
   "source": [
    "df_tt_split[df_tt_split.pval_nki > 0.05]"
   ]
  },
  {
   "cell_type": "code",
   "execution_count": null,
   "metadata": {
    "collapsed": true
   },
   "outputs": [],
   "source": [
    "plt.scatter(df_tt_split.stack_ts, df_tt_split.stack_nki)\n",
    "plt.scatter(df_tt_split.simple_ts, df_tt_split.simple_nki)\n",
    "plt.show()"
   ]
  },
  {
   "cell_type": "code",
   "execution_count": null,
   "metadata": {
    "collapsed": true
   },
   "outputs": [],
   "source": []
  }
 ],
 "metadata": {
  "kernelspec": {
   "display_name": "Python 3",
   "language": "python",
   "name": "python3"
  },
  "language_info": {
   "codemirror_mode": {
    "name": "ipython",
    "version": 3
   },
   "file_extension": ".py",
   "mimetype": "text/x-python",
   "name": "python",
   "nbconvert_exporter": "python",
   "pygments_lexer": "ipython3",
   "version": "3.6.1"
  },
  "toc": {
   "colors": {
    "hover_highlight": "#DAA520",
    "running_highlight": "#FF0000",
    "selected_highlight": "#FFD700"
   },
   "moveMenuLeft": true,
   "nav_menu": {
    "height": "66px",
    "width": "252px"
   },
   "navigate_menu": true,
   "number_sections": true,
   "sideBar": true,
   "threshold": 4,
   "toc_cell": false,
   "toc_position": {
    "height": "913px",
    "left": "0px",
    "right": "auto",
    "top": "106px",
    "width": "312px"
   },
   "toc_section_display": "block",
   "toc_window_display": true,
   "widenNotebook": false
  }
 },
 "nbformat": 4,
 "nbformat_minor": 2
}
